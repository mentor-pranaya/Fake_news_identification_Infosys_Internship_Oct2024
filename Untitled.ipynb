{
 "cells": [
  {
   "cell_type": "code",
   "execution_count": 1,
   "id": "98778da6-c674-4623-bfd5-b84a0816c6dd",
   "metadata": {},
   "outputs": [],
   "source": [
    "import pandas as pd\n",
    "df = pd.read_excel('Combine.xlsx')  "
   ]
  },
  {
   "cell_type": "code",
   "execution_count": 3,
   "id": "3e1161b5-0192-458e-a078-6a71e84e8592",
   "metadata": {},
   "outputs": [
    {
     "name": "stdout",
     "output_type": "stream",
     "text": [
      "                                               title  \\\n",
      "0   Donald Trump Sends Out Embarrassing New Yearâ...   \n",
      "1   Drunk Bragging Trump Staffer Started Russian ...   \n",
      "2   Sheriff David Clarke Becomes An Internet Joke...   \n",
      "3   Trump Is So Obsessed He Even Has Obamaâ€™s Na...   \n",
      "4   Pope Francis Just Called Out Donald Trump Dur...   \n",
      "\n",
      "                                                text subject  \\\n",
      "0  Donald Trump just couldn t wish all Americans ...    News   \n",
      "1  House Intelligence Committee Chairman Devin Nu...    News   \n",
      "2  On Friday, it was revealed that former Milwauk...    News   \n",
      "3  On Christmas day, Donald Trump announced that ...    News   \n",
      "4  Pope Francis used his annual Christmas Day mes...    News   \n",
      "\n",
      "                  date  classification  \n",
      "0  2017-12-31 00:00:00               0  \n",
      "1  2017-12-31 00:00:00               0  \n",
      "2  2017-12-30 00:00:00               0  \n",
      "3  2017-12-29 00:00:00               0  \n",
      "4  2017-12-25 00:00:00               0  \n",
      "<class 'pandas.core.frame.DataFrame'>\n",
      "RangeIndex: 44919 entries, 0 to 44918\n",
      "Data columns (total 5 columns):\n",
      " #   Column          Non-Null Count  Dtype \n",
      "---  ------          --------------  ----- \n",
      " 0   title           44919 non-null  object\n",
      " 1   text            44919 non-null  object\n",
      " 2   subject         44898 non-null  object\n",
      " 3   date            44898 non-null  object\n",
      " 4   classification  44919 non-null  int64 \n",
      "dtypes: int64(1), object(4)\n",
      "memory usage: 1.7+ MB\n",
      "None\n",
      "title              0\n",
      "text               0\n",
      "subject           21\n",
      "date              21\n",
      "classification     0\n",
      "dtype: int64\n"
     ]
    }
   ],
   "source": [
    "print(df.head())\n",
    "print(df.info())\n",
    "print(df.isnull().sum())"
   ]
  },
  {
   "cell_type": "code",
   "execution_count": 5,
   "id": "4c4a69d9-2c10-4aba-9f88-1d63c3acec7b",
   "metadata": {},
   "outputs": [],
   "source": [
    "df.dropna(inplace=True)"
   ]
  },
  {
   "cell_type": "code",
   "execution_count": 7,
   "id": "647cb6a5-7567-4cd7-bb66-a27e86188056",
   "metadata": {},
   "outputs": [
    {
     "name": "stdout",
     "output_type": "stream",
     "text": [
      "title             0\n",
      "text              0\n",
      "subject           0\n",
      "date              0\n",
      "classification    0\n",
      "dtype: int64\n"
     ]
    }
   ],
   "source": [
    "print(df.isnull().sum())"
   ]
  },
  {
   "cell_type": "code",
   "execution_count": 9,
   "id": "cf00cfa1-7f56-411a-9dcf-1058b95afff2",
   "metadata": {},
   "outputs": [
    {
     "name": "stdout",
     "output_type": "stream",
     "text": [
      "<class 'pandas.core.frame.DataFrame'>\n",
      "Index: 44898 entries, 0 to 44918\n",
      "Data columns (total 5 columns):\n",
      " #   Column          Non-Null Count  Dtype \n",
      "---  ------          --------------  ----- \n",
      " 0   title           44898 non-null  object\n",
      " 1   text            44898 non-null  object\n",
      " 2   subject         44898 non-null  object\n",
      " 3   date            44898 non-null  object\n",
      " 4   classification  44898 non-null  int64 \n",
      "dtypes: int64(1), object(4)\n",
      "memory usage: 2.1+ MB\n",
      "None\n"
     ]
    }
   ],
   "source": [
    "print(df.info())"
   ]
  },
  {
   "cell_type": "code",
   "execution_count": 15,
   "id": "5e1c4308-d1ac-4ff5-a0b1-af94c033ec7d",
   "metadata": {},
   "outputs": [],
   "source": [
    "import re\n",
    "def clean_text(text):\n",
    "    text = re.sub(r'[^\\w\\s]', '', text)\n",
    "    text = text.lower()\n",
    "    return text\n",
    "df['text_column'] = df['text'].apply(clean_text)"
   ]
  },
  {
   "cell_type": "code",
   "execution_count": 21,
   "id": "88f2802e-b05a-459b-ad95-259fe8b83958",
   "metadata": {},
   "outputs": [
    {
     "name": "stdout",
     "output_type": "stream",
     "text": [
      "[0 1]\n"
     ]
    }
   ],
   "source": [
    "print(df['classification'].unique()) \n",
    "df['label'] = df['classification'].map({'fake': 0, 'true': 1}) "
   ]
  },
  {
   "cell_type": "code",
   "execution_count": 23,
   "id": "2870e1fa-1157-444a-b25d-7f4cbac69a1c",
   "metadata": {},
   "outputs": [],
   "source": [
    "X = df['text'] \n",
    "y = df['classification'] "
   ]
  },
  {
   "cell_type": "code",
   "execution_count": 25,
   "id": "908f5f6b-ca8b-4f3e-acc4-51b2c09413ba",
   "metadata": {},
   "outputs": [],
   "source": [
    "from sklearn.model_selection import train_test_split\n",
    "X_train, X_test, y_train, y_test = train_test_split(X, y, test_size=0.2, random_state=42)"
   ]
  },
  {
   "cell_type": "code",
   "execution_count": 27,
   "id": "c390527e-3acb-4500-b4ba-ce2df907b6ed",
   "metadata": {},
   "outputs": [],
   "source": [
    "from sklearn.feature_extraction.text import TfidfVectorizer\n",
    "vectorizer = TfidfVectorizer(max_features=5000)\n",
    "X_train_tfidf = vectorizer.fit_transform(X_train)\n",
    "X_test_tfidf = vectorizer.transform(X_test)"
   ]
  },
  {
   "cell_type": "code",
   "execution_count": 31,
   "id": "fe6d1cae-8db6-4a5a-ba3e-e2345f3d80dc",
   "metadata": {},
   "outputs": [
    {
     "data": {
      "image/png": "[encoded data removed]",
      "text/plain": [
       "<Figure size 640x480 with 1 Axes>"
      ]
     },
     "metadata": {},
     "output_type": "display_data"
    }
   ],
   "source": [
    "import matplotlib.pyplot as plt\n",
    "df['classification'].value_counts().plot(kind='bar')\n",
    "plt.title('Distribution of Fake and True News')\n",
    "plt.xlabel('classification')\n",
    "plt.ylabel('Count')\n",
    "plt.show()"
   ]
  },
  {
   "cell_type": "code",
   "execution_count": null,
   "id": "e5032eee-2daa-4ad1-8feb-7a866dfeecd1",
   "metadata": {},
   "outputs": [],
   "source": []
  }
 ],
 "metadata": {
  "kernelspec": {
   "display_name": "Python 3 (ipykernel)",
   "language": "python",
   "name": "python3"
  },
  "language_info": {
   "codemirror_mode": {
    "name": "ipython",
    "version": 3
   },
   "file_extension": ".py",
   "mimetype": "text/x-python",
   "name": "python",
   "nbconvert_exporter": "python",
   "pygments_lexer": "ipython3",
   "version": "3.12.4"
  }
 },
 "nbformat": 4,
 "nbformat_minor": 5
}
