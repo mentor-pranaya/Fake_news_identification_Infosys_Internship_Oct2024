{
 "cells": [
  {
   "cell_type": "markdown",
   "id": "72af513a-55fa-4729-9181-37b24c46f27c",
   "metadata": {},
   "source": [
    "## Data Preprocessing\n"
   ]
  },
  {
   "cell_type": "markdown",
   "id": "93de3452-793a-4e46-a4f7-b9416001c129",
   "metadata": {},
   "source": [
    "### Importing Libraries"
   ]
  },
  {
   "cell_type": "code",
   "execution_count": 1,
   "id": "f418f7e1-e64b-407a-b64c-bbde0604e730",
   "metadata": {},
   "outputs": [],
   "source": [
    "import pandas as pd\n",
    "import numpy as np\n",
    "from sklearn.model_selection import train_test_split\n",
    "from sklearn.preprocessing import StandardScaler, MinMaxScaler, OneHotEncoder, LabelEncoder\n",
    "from sklearn.impute import SimpleImputer\n",
    "\n"
   ]
  },
  {
   "cell_type": "markdown",
   "id": "35ea723e-4961-4485-a743-60d961551e3f",
   "metadata": {},
   "source": [
    "### Loading the Dataset"
   ]
  },
  {
   "cell_type": "code",
   "execution_count": 2,
   "id": "652115d9-8278-442a-be04-18aaafe0fd2a",
   "metadata": {},
   "outputs": [],
   "source": [
    "df = pd.read_csv('FNI_dataset.csv')\n"
   ]
  },
  {
   "cell_type": "markdown",
   "id": "e602e8ed-d96a-456b-8fd5-ac36d8596380",
   "metadata": {},
   "source": [
    "### checking random samples of given dataset"
   ]
  },
  {
   "cell_type": "code",
   "execution_count": 3,
   "id": "8301797b-c3ea-4d70-ae69-9b7c0ed20879",
   "metadata": {},
   "outputs": [
    {
     "data": {
      "text/html": [
       "<div>\n",
       "<style scoped>\n",
       "    .dataframe tbody tr th:only-of-type {\n",
       "        vertical-align: middle;\n",
       "    }\n",
       "\n",
       "    .dataframe tbody tr th {\n",
       "        vertical-align: top;\n",
       "    }\n",
       "\n",
       "    .dataframe thead th {\n",
       "        text-align: right;\n",
       "    }\n",
       "</style>\n",
       "<table border=\"1\" class=\"dataframe\">\n",
       "  <thead>\n",
       "    <tr style=\"text-align: right;\">\n",
       "      <th></th>\n",
       "      <th>title</th>\n",
       "      <th>text</th>\n",
       "      <th>Label</th>\n",
       "    </tr>\n",
       "  </thead>\n",
       "  <tbody>\n",
       "    <tr>\n",
       "      <th>32092</th>\n",
       "      <td>Trump ally Christie calls criticisms of slain ...</td>\n",
       "      <td>WASHINGTON (Reuters) - Chris Christie, a close...</td>\n",
       "      <td>True</td>\n",
       "    </tr>\n",
       "    <tr>\n",
       "      <th>25343</th>\n",
       "      <td>Trump on Hurricane Irma: 'This is some big mon...</td>\n",
       "      <td>WASHINGTON (Reuters) - U.S. President Donald T...</td>\n",
       "      <td>True</td>\n",
       "    </tr>\n",
       "    <tr>\n",
       "      <th>25362</th>\n",
       "      <td>Trump anger at Cohn raises doubts about his Wh...</td>\n",
       "      <td>BOSTON/WASHINGTON (Reuters) - A newly fraying ...</td>\n",
       "      <td>True</td>\n",
       "    </tr>\n",
       "    <tr>\n",
       "      <th>31160</th>\n",
       "      <td>Tech billionaire Thiel says Trump movement 'no...</td>\n",
       "      <td>WASHINGTON (Reuters) - Billionaire technology ...</td>\n",
       "      <td>True</td>\n",
       "    </tr>\n",
       "    <tr>\n",
       "      <th>42312</th>\n",
       "      <td>Islamic State's Baghdadi, in undated audio, ur...</td>\n",
       "      <td>CAIRO (Reuters) - Islamic State leader Abu Bak...</td>\n",
       "      <td>True</td>\n",
       "    </tr>\n",
       "    <tr>\n",
       "      <th>20003</th>\n",
       "      <td>WILL TRUMP PULL A ROMNEY In His First Debate...</td>\n",
       "      <td>Who could forget Mitt Romney s second and thir...</td>\n",
       "      <td>Fake</td>\n",
       "    </tr>\n",
       "    <tr>\n",
       "      <th>38978</th>\n",
       "      <td>Ex-Catalan leader urges unity as window for se...</td>\n",
       "      <td>MADRID (Reuters) - Catalonia s deposed leader ...</td>\n",
       "      <td>True</td>\n",
       "    </tr>\n",
       "    <tr>\n",
       "      <th>24091</th>\n",
       "      <td>Trump: Father of UCLA player in shoplifting ca...</td>\n",
       "      <td>(Reuters) - U.S. President Donald Trump on Wed...</td>\n",
       "      <td>True</td>\n",
       "    </tr>\n",
       "    <tr>\n",
       "      <th>1534</th>\n",
       "      <td>Former McCain Chief Of Staff Thinks U.S. Need...</td>\n",
       "      <td>Things just keep getting stranger for Republic...</td>\n",
       "      <td>Fake</td>\n",
       "    </tr>\n",
       "    <tr>\n",
       "      <th>14514</th>\n",
       "      <td>OBAMA WILL SKIP SCALIA FUNERAL: Heres A List ...</td>\n",
       "      <td>With a battle heating up between Republicans a...</td>\n",
       "      <td>Fake</td>\n",
       "    </tr>\n",
       "  </tbody>\n",
       "</table>\n",
       "</div>"
      ],
      "text/plain": [
       "                                                   title  \\\n",
       "32092  Trump ally Christie calls criticisms of slain ...   \n",
       "25343  Trump on Hurricane Irma: 'This is some big mon...   \n",
       "25362  Trump anger at Cohn raises doubts about his Wh...   \n",
       "31160  Tech billionaire Thiel says Trump movement 'no...   \n",
       "42312  Islamic State's Baghdadi, in undated audio, ur...   \n",
       "20003  WILL TRUMP PULL A ROMNEY In His First Debate...   \n",
       "38978  Ex-Catalan leader urges unity as window for se...   \n",
       "24091  Trump: Father of UCLA player in shoplifting ca...   \n",
       "1534    Former McCain Chief Of Staff Thinks U.S. Need...   \n",
       "14514  OBAMA WILL SKIP SCALIA FUNERAL: Heres A List ...   \n",
       "\n",
       "                                                    text Label  \n",
       "32092  WASHINGTON (Reuters) - Chris Christie, a close...  True  \n",
       "25343  WASHINGTON (Reuters) - U.S. President Donald T...  True  \n",
       "25362  BOSTON/WASHINGTON (Reuters) - A newly fraying ...  True  \n",
       "31160  WASHINGTON (Reuters) - Billionaire technology ...  True  \n",
       "42312  CAIRO (Reuters) - Islamic State leader Abu Bak...  True  \n",
       "20003  Who could forget Mitt Romney s second and thir...  Fake  \n",
       "38978  MADRID (Reuters) - Catalonia s deposed leader ...  True  \n",
       "24091  (Reuters) - U.S. President Donald Trump on Wed...  True  \n",
       "1534   Things just keep getting stranger for Republic...  Fake  \n",
       "14514  With a battle heating up between Republicans a...  Fake  "
      ]
     },
     "execution_count": 3,
     "metadata": {},
     "output_type": "execute_result"
    }
   ],
   "source": [
    "df.sample(10)"
   ]
  },
  {
   "cell_type": "markdown",
   "id": "497550aa-8811-4a9f-a924-7bea24552d98",
   "metadata": {},
   "source": [
    "### Data Cleaning"
   ]
  },
  {
   "cell_type": "markdown",
   "id": "17dfaa99-4579-4ebb-96cc-76a4c2c6248b",
   "metadata": {},
   "source": [
    "#### Data Information"
   ]
  },
  {
   "cell_type": "code",
   "execution_count": 4,
   "id": "3e982192-7912-4446-9b1e-e843a77f2553",
   "metadata": {},
   "outputs": [
    {
     "name": "stdout",
     "output_type": "stream",
     "text": [
      "<class 'pandas.core.frame.DataFrame'>\n",
      "RangeIndex: 44954 entries, 0 to 44953\n",
      "Data columns (total 3 columns):\n",
      " #   Column  Non-Null Count  Dtype \n",
      "---  ------  --------------  ----- \n",
      " 0   title   44898 non-null  object\n",
      " 1   text    44898 non-null  object\n",
      " 2   Label   44898 non-null  object\n",
      "dtypes: object(3)\n",
      "memory usage: 1.0+ MB\n"
     ]
    }
   ],
   "source": [
    "df.info()"
   ]
  },
  {
   "cell_type": "markdown",
   "id": "1b928f7a-e9d2-4027-9695-01f9aeeb1365",
   "metadata": {},
   "source": [
    "#### Missing Values"
   ]
  },
  {
   "cell_type": "code",
   "execution_count": 5,
   "id": "4b628c15-120e-4f2e-b5ad-bc6c96209190",
   "metadata": {},
   "outputs": [
    {
     "data": {
      "text/plain": [
       "title    56\n",
       "text     56\n",
       "Label    56\n",
       "dtype: int64"
      ]
     },
     "execution_count": 5,
     "metadata": {},
     "output_type": "execute_result"
    }
   ],
   "source": [
    "df.isnull().sum()"
   ]
  },
  {
   "cell_type": "code",
   "execution_count": 6,
   "id": "29f3e0c5-1d5c-4e6c-b434-c7073e68e839",
   "metadata": {},
   "outputs": [],
   "source": [
    "# Cleaning null values\n",
    "df_cleaned = df.dropna(how='all')\n"
   ]
  },
  {
   "cell_type": "markdown",
   "id": "567577a8-6ef7-450b-9439-9ba75df3b63a",
   "metadata": {},
   "source": [
    "#### Duplicated Value"
   ]
  },
  {
   "cell_type": "code",
   "execution_count": 7,
   "id": "804b1df7-0ad6-4746-b64b-8bc15a77211a",
   "metadata": {},
   "outputs": [
    {
     "data": {
      "text/plain": [
       "5848"
      ]
     },
     "execution_count": 7,
     "metadata": {},
     "output_type": "execute_result"
    }
   ],
   "source": [
    "df.duplicated().sum()"
   ]
  },
  {
   "cell_type": "markdown",
   "id": "54f34082-ab27-485a-b181-27db3652c545",
   "metadata": {},
   "source": [
    "#### Removing Duplicated values"
   ]
  },
  {
   "cell_type": "code",
   "execution_count": 8,
   "id": "22a36c06-e88d-47f4-b55a-92699ae28ef8",
   "metadata": {},
   "outputs": [],
   "source": [
    "df = df.drop_duplicates(keep='first')"
   ]
  },
  {
   "cell_type": "code",
   "execution_count": 9,
   "id": "9fc06b50-f3e3-4001-8f05-7054a0c1b1cc",
   "metadata": {},
   "outputs": [
    {
     "data": {
      "text/plain": [
       "0"
      ]
     },
     "execution_count": 9,
     "metadata": {},
     "output_type": "execute_result"
    }
   ],
   "source": [
    "df.duplicated().sum()"
   ]
  },
  {
   "cell_type": "code",
   "execution_count": 10,
   "id": "fa646aa7-230f-4284-bdf4-ff48e3ca044e",
   "metadata": {},
   "outputs": [
    {
     "data": {
      "text/plain": [
       "(39106, 3)"
      ]
     },
     "execution_count": 10,
     "metadata": {},
     "output_type": "execute_result"
    }
   ],
   "source": [
    "df.shape"
   ]
  },
  {
   "cell_type": "code",
   "execution_count": 11,
   "id": "a68005eb-8d9a-46b3-8fb1-2f87a260b62e",
   "metadata": {},
   "outputs": [
    {
     "data": {
      "text/plain": [
       "title    1\n",
       "text     1\n",
       "Label    1\n",
       "dtype: int64"
      ]
     },
     "execution_count": 11,
     "metadata": {},
     "output_type": "execute_result"
    }
   ],
   "source": [
    "df.isnull().sum()"
   ]
  },
  {
   "cell_type": "markdown",
   "id": "6e68757d-ac30-47c4-a17c-7fd4a9bf4d9d",
   "metadata": {},
   "source": [
    "## Exploratory Data Analysis"
   ]
  },
  {
   "cell_type": "code",
   "execution_count": 12,
   "id": "c512be56-21d2-48c7-9e93-56acef6c4d8b",
   "metadata": {},
   "outputs": [
    {
     "data": {
      "text/html": [
       "<div>\n",
       "<style scoped>\n",
       "    .dataframe tbody tr th:only-of-type {\n",
       "        vertical-align: middle;\n",
       "    }\n",
       "\n",
       "    .dataframe tbody tr th {\n",
       "        vertical-align: top;\n",
       "    }\n",
       "\n",
       "    .dataframe thead th {\n",
       "        text-align: right;\n",
       "    }\n",
       "</style>\n",
       "<table border=\"1\" class=\"dataframe\">\n",
       "  <thead>\n",
       "    <tr style=\"text-align: right;\">\n",
       "      <th></th>\n",
       "      <th>title</th>\n",
       "      <th>text</th>\n",
       "      <th>Label</th>\n",
       "    </tr>\n",
       "  </thead>\n",
       "  <tbody>\n",
       "    <tr>\n",
       "      <th>0</th>\n",
       "      <td>Donald Trump Sends Out Embarrassing New Year...</td>\n",
       "      <td>Donald Trump just couldn t wish all Americans ...</td>\n",
       "      <td>Fake</td>\n",
       "    </tr>\n",
       "    <tr>\n",
       "      <th>1</th>\n",
       "      <td>Drunk Bragging Trump Staffer Started Russian ...</td>\n",
       "      <td>House Intelligence Committee Chairman Devin Nu...</td>\n",
       "      <td>Fake</td>\n",
       "    </tr>\n",
       "    <tr>\n",
       "      <th>2</th>\n",
       "      <td>Sheriff David Clarke Becomes An Internet Joke...</td>\n",
       "      <td>On Friday, it was revealed that former Milwauk...</td>\n",
       "      <td>Fake</td>\n",
       "    </tr>\n",
       "    <tr>\n",
       "      <th>3</th>\n",
       "      <td>Trump Is So Obsessed He Even Has Obamas Name...</td>\n",
       "      <td>On Christmas day, Donald Trump announced that ...</td>\n",
       "      <td>Fake</td>\n",
       "    </tr>\n",
       "    <tr>\n",
       "      <th>4</th>\n",
       "      <td>Pope Francis Just Called Out Donald Trump Dur...</td>\n",
       "      <td>Pope Francis used his annual Christmas Day mes...</td>\n",
       "      <td>Fake</td>\n",
       "    </tr>\n",
       "  </tbody>\n",
       "</table>\n",
       "</div>"
      ],
      "text/plain": [
       "                                               title  \\\n",
       "0   Donald Trump Sends Out Embarrassing New Year...   \n",
       "1   Drunk Bragging Trump Staffer Started Russian ...   \n",
       "2   Sheriff David Clarke Becomes An Internet Joke...   \n",
       "3   Trump Is So Obsessed He Even Has Obamas Name...   \n",
       "4   Pope Francis Just Called Out Donald Trump Dur...   \n",
       "\n",
       "                                                text Label  \n",
       "0  Donald Trump just couldn t wish all Americans ...  Fake  \n",
       "1  House Intelligence Committee Chairman Devin Nu...  Fake  \n",
       "2  On Friday, it was revealed that former Milwauk...  Fake  \n",
       "3  On Christmas day, Donald Trump announced that ...  Fake  \n",
       "4  Pope Francis used his annual Christmas Day mes...  Fake  "
      ]
     },
     "execution_count": 12,
     "metadata": {},
     "output_type": "execute_result"
    }
   ],
   "source": [
    "df.head()"
   ]
  },
  {
   "cell_type": "markdown",
   "id": "79a88fd1-452a-445c-b875-908b9d93ad4a",
   "metadata": {},
   "source": [
    "#### Analysis of Label"
   ]
  },
  {
   "cell_type": "code",
   "execution_count": 13,
   "id": "32a04ca7-143b-4c02-a086-91b5555c8645",
   "metadata": {},
   "outputs": [
    {
     "data": {
      "text/plain": [
       "Label\n",
       "True    21196\n",
       "Fake    17909\n",
       "Name: count, dtype: int64"
      ]
     },
     "execution_count": 13,
     "metadata": {},
     "output_type": "execute_result"
    }
   ],
   "source": [
    "#counts no. of True and Fake data\n",
    "df['Label'].value_counts()\n"
   ]
  },
  {
   "cell_type": "code",
   "execution_count": 14,
   "id": "30c28f9c-9060-4bc1-8dfe-270ade897daa",
   "metadata": {},
   "outputs": [
    {
     "data": {
      "image/png": "[encoded data removed]",
      "text/plain": [
       "<Figure size 640x480 with 1 Axes>"
      ]
     },
     "metadata": {},
     "output_type": "display_data"
    }
   ],
   "source": [
    "import matplotlib.pyplot as plt\n",
    "plt.pie(df['Label'].value_counts(), labels = ['Fake','True'], autopct=\"%0.3f\")\n",
    "plt.show()"
   ]
  },
  {
   "cell_type": "code",
   "execution_count": 15,
   "id": "6f73e5fb-efbf-47b8-b934-df3dec03ba07",
   "metadata": {},
   "outputs": [],
   "source": [
    "# the data is balanced approximately\n",
    "# if the data is unbalanced we can use\n",
    "# 1- Overspampling technique in which we can balance the minority sample by duplicating it\n",
    "# 2- Synthetic Minority oversampling technique(SMOTE) in which generate minority sample by interpolating the existing samples\n",
    "# 3- When dealing with extremely imbalanced datasets (e.g., fraud detection), the problem can be framed as an anomaly detection task.\n",
    "# In such cases, models like One-Class SVM, Isolation Forests, and Autoencoders are effective."
   ]
  },
  {
   "cell_type": "code",
   "execution_count": 16,
   "id": "ffb1c629-801f-43c4-bc10-5882b1814994",
   "metadata": {},
   "outputs": [],
   "source": [
    "# Why to use NLTK\n",
    "# Tokenizing news articles to break them down into words/sentences.\n",
    "# Removing stopwords to focus on meaningful terms.\n",
    "# Stemming or lemmatizing words to normalize text.\n",
    "\n",
    "# Part of speech tagging to understand the grammatical structure of sentences.\n",
    "import nltk\n"
   ]
  },
  {
   "cell_type": "code",
   "execution_count": 17,
   "id": "9da64515-b3f8-4332-bcad-7ce188ed492b",
   "metadata": {},
   "outputs": [
    {
     "name": "stderr",
     "output_type": "stream",
     "text": [
      "[nltk_data] Downloading package punkt to\n",
      "[nltk_data]     C:\\Users\\akash\\AppData\\Roaming\\nltk_data...\n",
      "[nltk_data]   Package punkt is already up-to-date!\n"
     ]
    },
    {
     "data": {
      "text/plain": [
       "True"
      ]
     },
     "execution_count": 17,
     "metadata": {},
     "output_type": "execute_result"
    }
   ],
   "source": [
    "nltk.download('punkt')"
   ]
  },
  {
   "cell_type": "code",
   "execution_count": 18,
   "id": "f1121af1-f688-466b-8c9e-cfb44c1579b4",
   "metadata": {},
   "outputs": [
    {
     "name": "stderr",
     "output_type": "stream",
     "text": [
      "[nltk_data] Downloading package punkt_tab to\n",
      "[nltk_data]     C:\\Users\\akash\\AppData\\Roaming\\nltk_data...\n",
      "[nltk_data]   Package punkt_tab is already up-to-date!\n"
     ]
    },
    {
     "data": {
      "text/plain": [
       "True"
      ]
     },
     "execution_count": 18,
     "metadata": {},
     "output_type": "execute_result"
    }
   ],
   "source": [
    "import nltk\n",
    "nltk.download('punkt_tab')  # Download the required tokenizer\n",
    "\n"
   ]
  },
  {
   "cell_type": "code",
   "execution_count": 19,
   "id": "b9d91fee-a233-45f2-adfb-bc8f44d60b4f",
   "metadata": {},
   "outputs": [],
   "source": [
    "# Fill NaN values with an empty string, then apply len() to get the number of characters\n",
    "df['text_characters'] = df['text'].fillna('').apply(len)\n",
    "\n",
    "\n",
    "\n"
   ]
  },
  {
   "cell_type": "code",
   "execution_count": 20,
   "id": "681c3dca-4573-48d8-a44c-20f89ba67fdd",
   "metadata": {},
   "outputs": [
    {
     "data": {
      "text/html": [
       "<div>\n",
       "<style scoped>\n",
       "    .dataframe tbody tr th:only-of-type {\n",
       "        vertical-align: middle;\n",
       "    }\n",
       "\n",
       "    .dataframe tbody tr th {\n",
       "        vertical-align: top;\n",
       "    }\n",
       "\n",
       "    .dataframe thead th {\n",
       "        text-align: right;\n",
       "    }\n",
       "</style>\n",
       "<table border=\"1\" class=\"dataframe\">\n",
       "  <thead>\n",
       "    <tr style=\"text-align: right;\">\n",
       "      <th></th>\n",
       "      <th>title</th>\n",
       "      <th>text</th>\n",
       "      <th>Label</th>\n",
       "      <th>text_characters</th>\n",
       "    </tr>\n",
       "  </thead>\n",
       "  <tbody>\n",
       "    <tr>\n",
       "      <th>0</th>\n",
       "      <td>Donald Trump Sends Out Embarrassing New Year...</td>\n",
       "      <td>Donald Trump just couldn t wish all Americans ...</td>\n",
       "      <td>Fake</td>\n",
       "      <td>2893</td>\n",
       "    </tr>\n",
       "    <tr>\n",
       "      <th>1</th>\n",
       "      <td>Drunk Bragging Trump Staffer Started Russian ...</td>\n",
       "      <td>House Intelligence Committee Chairman Devin Nu...</td>\n",
       "      <td>Fake</td>\n",
       "      <td>1898</td>\n",
       "    </tr>\n",
       "    <tr>\n",
       "      <th>2</th>\n",
       "      <td>Sheriff David Clarke Becomes An Internet Joke...</td>\n",
       "      <td>On Friday, it was revealed that former Milwauk...</td>\n",
       "      <td>Fake</td>\n",
       "      <td>3597</td>\n",
       "    </tr>\n",
       "    <tr>\n",
       "      <th>3</th>\n",
       "      <td>Trump Is So Obsessed He Even Has Obamas Name...</td>\n",
       "      <td>On Christmas day, Donald Trump announced that ...</td>\n",
       "      <td>Fake</td>\n",
       "      <td>2774</td>\n",
       "    </tr>\n",
       "    <tr>\n",
       "      <th>4</th>\n",
       "      <td>Pope Francis Just Called Out Donald Trump Dur...</td>\n",
       "      <td>Pope Francis used his annual Christmas Day mes...</td>\n",
       "      <td>Fake</td>\n",
       "      <td>2346</td>\n",
       "    </tr>\n",
       "  </tbody>\n",
       "</table>\n",
       "</div>"
      ],
      "text/plain": [
       "                                               title  \\\n",
       "0   Donald Trump Sends Out Embarrassing New Year...   \n",
       "1   Drunk Bragging Trump Staffer Started Russian ...   \n",
       "2   Sheriff David Clarke Becomes An Internet Joke...   \n",
       "3   Trump Is So Obsessed He Even Has Obamas Name...   \n",
       "4   Pope Francis Just Called Out Donald Trump Dur...   \n",
       "\n",
       "                                                text Label  text_characters  \n",
       "0  Donald Trump just couldn t wish all Americans ...  Fake             2893  \n",
       "1  House Intelligence Committee Chairman Devin Nu...  Fake             1898  \n",
       "2  On Friday, it was revealed that former Milwauk...  Fake             3597  \n",
       "3  On Christmas day, Donald Trump announced that ...  Fake             2774  \n",
       "4  Pope Francis used his annual Christmas Day mes...  Fake             2346  "
      ]
     },
     "execution_count": 20,
     "metadata": {},
     "output_type": "execute_result"
    }
   ],
   "source": [
    "df.head()"
   ]
  },
  {
   "cell_type": "code",
   "execution_count": null,
   "id": "ee3225cc-5043-4dd6-8974-ed46cbed6569",
   "metadata": {},
   "outputs": [],
   "source": []
  }
 ],
 "metadata": {
  "kernelspec": {
   "display_name": "Python 3 (ipykernel)",
   "language": "python",
   "name": "python3"
  },
  "language_info": {
   "codemirror_mode": {
    "name": "ipython",
    "version": 3
   },
   "file_extension": ".py",
   "mimetype": "text/x-python",
   "name": "python",
   "nbconvert_exporter": "python",
   "pygments_lexer": "ipython3",
   "version": "3.12.1"
  }
 },
 "nbformat": 4,
 "nbformat_minor": 5
}
