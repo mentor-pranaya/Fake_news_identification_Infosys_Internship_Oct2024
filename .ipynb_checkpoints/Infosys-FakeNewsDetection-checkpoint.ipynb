{
 "cells": [
  {
   "cell_type": "markdown",
   "id": "f58e35dd",
   "metadata": {},
   "source": [
    "## Data Exploration and Data Cleaning"
   ]
  },
  {
   "cell_type": "code",
   "execution_count": 1,
   "id": "35708dbe",
   "metadata": {},
   "outputs": [],
   "source": [
    "import pandas as pd\n",
    "import string\n",
    "import pandas as pd\n",
    "from nltk.stem import WordNetLemmatizer\n",
    "from nltk.corpus import stopwords\n",
    "import nltk"
   ]
  },
  {
   "cell_type": "code",
   "execution_count": 2,
   "id": "ef10e1da",
   "metadata": {},
   "outputs": [],
   "source": [
    "df = pd.read_csv(r\"D:\\Download_1\\FakeNewsDataset-1\\News _dataset\\MergedDataset.csv\")"
   ]
  },
  {
   "cell_type": "code",
   "execution_count": 3,
   "id": "fd253daf",
   "metadata": {},
   "outputs": [
    {
     "data": {
      "text/html": [
       "<div>\n",
       "<style scoped>\n",
       "    .dataframe tbody tr th:only-of-type {\n",
       "        vertical-align: middle;\n",
       "    }\n",
       "\n",
       "    .dataframe tbody tr th {\n",
       "        vertical-align: top;\n",
       "    }\n",
       "\n",
       "    .dataframe thead th {\n",
       "        text-align: right;\n",
       "    }\n",
       "</style>\n",
       "<table border=\"1\" class=\"dataframe\">\n",
       "  <thead>\n",
       "    <tr style=\"text-align: right;\">\n",
       "      <th></th>\n",
       "      <th>title</th>\n",
       "      <th>text</th>\n",
       "      <th>subject</th>\n",
       "      <th>date</th>\n",
       "      <th>label</th>\n",
       "    </tr>\n",
       "  </thead>\n",
       "  <tbody>\n",
       "    <tr>\n",
       "      <th>0</th>\n",
       "      <td>As U.S. budget fight looms, Republicans flip t...</td>\n",
       "      <td>WASHINGTON (Reuters) - The head of a conservat...</td>\n",
       "      <td>politicsNews</td>\n",
       "      <td>December 31, 2017</td>\n",
       "      <td>0</td>\n",
       "    </tr>\n",
       "    <tr>\n",
       "      <th>1</th>\n",
       "      <td>U.S. military to accept transgender recruits o...</td>\n",
       "      <td>WASHINGTON (Reuters) - Transgender people will...</td>\n",
       "      <td>politicsNews</td>\n",
       "      <td>December 29, 2017</td>\n",
       "      <td>0</td>\n",
       "    </tr>\n",
       "    <tr>\n",
       "      <th>2</th>\n",
       "      <td>Senior U.S. Republican senator: 'Let Mr. Muell...</td>\n",
       "      <td>WASHINGTON (Reuters) - The special counsel inv...</td>\n",
       "      <td>politicsNews</td>\n",
       "      <td>December 31, 2017</td>\n",
       "      <td>0</td>\n",
       "    </tr>\n",
       "    <tr>\n",
       "      <th>3</th>\n",
       "      <td>FBI Russia probe helped by Australian diplomat...</td>\n",
       "      <td>WASHINGTON (Reuters) - Trump campaign adviser ...</td>\n",
       "      <td>politicsNews</td>\n",
       "      <td>December 30, 2017</td>\n",
       "      <td>0</td>\n",
       "    </tr>\n",
       "    <tr>\n",
       "      <th>4</th>\n",
       "      <td>Trump wants Postal Service to charge 'much mor...</td>\n",
       "      <td>SEATTLE/WASHINGTON (Reuters) - President Donal...</td>\n",
       "      <td>politicsNews</td>\n",
       "      <td>December 29, 2017</td>\n",
       "      <td>0</td>\n",
       "    </tr>\n",
       "  </tbody>\n",
       "</table>\n",
       "</div>"
      ],
      "text/plain": [
       "                                               title  \\\n",
       "0  As U.S. budget fight looms, Republicans flip t...   \n",
       "1  U.S. military to accept transgender recruits o...   \n",
       "2  Senior U.S. Republican senator: 'Let Mr. Muell...   \n",
       "3  FBI Russia probe helped by Australian diplomat...   \n",
       "4  Trump wants Postal Service to charge 'much mor...   \n",
       "\n",
       "                                                text       subject  \\\n",
       "0  WASHINGTON (Reuters) - The head of a conservat...  politicsNews   \n",
       "1  WASHINGTON (Reuters) - Transgender people will...  politicsNews   \n",
       "2  WASHINGTON (Reuters) - The special counsel inv...  politicsNews   \n",
       "3  WASHINGTON (Reuters) - Trump campaign adviser ...  politicsNews   \n",
       "4  SEATTLE/WASHINGTON (Reuters) - President Donal...  politicsNews   \n",
       "\n",
       "                 date  label  \n",
       "0  December 31, 2017       0  \n",
       "1  December 29, 2017       0  \n",
       "2  December 31, 2017       0  \n",
       "3  December 30, 2017       0  \n",
       "4  December 29, 2017       0  "
      ]
     },
     "execution_count": 3,
     "metadata": {},
     "output_type": "execute_result"
    }
   ],
   "source": [
    "df.head()"
   ]
  },
  {
   "cell_type": "code",
   "execution_count": 4,
   "id": "04ec903c",
   "metadata": {},
   "outputs": [
    {
     "data": {
      "text/html": [
       "<div>\n",
       "<style scoped>\n",
       "    .dataframe tbody tr th:only-of-type {\n",
       "        vertical-align: middle;\n",
       "    }\n",
       "\n",
       "    .dataframe tbody tr th {\n",
       "        vertical-align: top;\n",
       "    }\n",
       "\n",
       "    .dataframe thead th {\n",
       "        text-align: right;\n",
       "    }\n",
       "</style>\n",
       "<table border=\"1\" class=\"dataframe\">\n",
       "  <thead>\n",
       "    <tr style=\"text-align: right;\">\n",
       "      <th></th>\n",
       "      <th>title</th>\n",
       "      <th>text</th>\n",
       "      <th>subject</th>\n",
       "      <th>date</th>\n",
       "      <th>label</th>\n",
       "    </tr>\n",
       "  </thead>\n",
       "  <tbody>\n",
       "    <tr>\n",
       "      <th>44893</th>\n",
       "      <td>McPain: John McCain Furious That Iran Treated ...</td>\n",
       "      <td>21st Century Wire says As 21WIRE reported earl...</td>\n",
       "      <td>Middle-east</td>\n",
       "      <td>January 16, 2016</td>\n",
       "      <td>1</td>\n",
       "    </tr>\n",
       "    <tr>\n",
       "      <th>44894</th>\n",
       "      <td>JUSTICE? Yahoo Settles E-mail Privacy Class-ac...</td>\n",
       "      <td>21st Century Wire says It s a familiar theme. ...</td>\n",
       "      <td>Middle-east</td>\n",
       "      <td>January 16, 2016</td>\n",
       "      <td>1</td>\n",
       "    </tr>\n",
       "    <tr>\n",
       "      <th>44895</th>\n",
       "      <td>Sunnistan: US and Allied ‘Safe Zone’ Plan to T...</td>\n",
       "      <td>Patrick Henningsen  21st Century WireRemember ...</td>\n",
       "      <td>Middle-east</td>\n",
       "      <td>January 15, 2016</td>\n",
       "      <td>1</td>\n",
       "    </tr>\n",
       "    <tr>\n",
       "      <th>44896</th>\n",
       "      <td>How to Blow $700 Million: Al Jazeera America F...</td>\n",
       "      <td>21st Century Wire says Al Jazeera America will...</td>\n",
       "      <td>Middle-east</td>\n",
       "      <td>January 14, 2016</td>\n",
       "      <td>1</td>\n",
       "    </tr>\n",
       "    <tr>\n",
       "      <th>44897</th>\n",
       "      <td>10 U.S. Navy Sailors Held by Iranian Military ...</td>\n",
       "      <td>21st Century Wire says As 21WIRE predicted in ...</td>\n",
       "      <td>Middle-east</td>\n",
       "      <td>January 12, 2016</td>\n",
       "      <td>1</td>\n",
       "    </tr>\n",
       "  </tbody>\n",
       "</table>\n",
       "</div>"
      ],
      "text/plain": [
       "                                                   title  \\\n",
       "44893  McPain: John McCain Furious That Iran Treated ...   \n",
       "44894  JUSTICE? Yahoo Settles E-mail Privacy Class-ac...   \n",
       "44895  Sunnistan: US and Allied ‘Safe Zone’ Plan to T...   \n",
       "44896  How to Blow $700 Million: Al Jazeera America F...   \n",
       "44897  10 U.S. Navy Sailors Held by Iranian Military ...   \n",
       "\n",
       "                                                    text      subject  \\\n",
       "44893  21st Century Wire says As 21WIRE reported earl...  Middle-east   \n",
       "44894  21st Century Wire says It s a familiar theme. ...  Middle-east   \n",
       "44895  Patrick Henningsen  21st Century WireRemember ...  Middle-east   \n",
       "44896  21st Century Wire says Al Jazeera America will...  Middle-east   \n",
       "44897  21st Century Wire says As 21WIRE predicted in ...  Middle-east   \n",
       "\n",
       "                   date  label  \n",
       "44893  January 16, 2016      1  \n",
       "44894  January 16, 2016      1  \n",
       "44895  January 15, 2016      1  \n",
       "44896  January 14, 2016      1  \n",
       "44897  January 12, 2016      1  "
      ]
     },
     "execution_count": 4,
     "metadata": {},
     "output_type": "execute_result"
    }
   ],
   "source": [
    "df.tail()"
   ]
  },
  {
   "cell_type": "code",
   "execution_count": 5,
   "id": "42108fa4",
   "metadata": {},
   "outputs": [
    {
     "data": {
      "text/html": [
       "<div>\n",
       "<style scoped>\n",
       "    .dataframe tbody tr th:only-of-type {\n",
       "        vertical-align: middle;\n",
       "    }\n",
       "\n",
       "    .dataframe tbody tr th {\n",
       "        vertical-align: top;\n",
       "    }\n",
       "\n",
       "    .dataframe thead th {\n",
       "        text-align: right;\n",
       "    }\n",
       "</style>\n",
       "<table border=\"1\" class=\"dataframe\">\n",
       "  <thead>\n",
       "    <tr style=\"text-align: right;\">\n",
       "      <th></th>\n",
       "      <th>label</th>\n",
       "    </tr>\n",
       "  </thead>\n",
       "  <tbody>\n",
       "    <tr>\n",
       "      <th>count</th>\n",
       "      <td>44898.000000</td>\n",
       "    </tr>\n",
       "    <tr>\n",
       "      <th>mean</th>\n",
       "      <td>0.522985</td>\n",
       "    </tr>\n",
       "    <tr>\n",
       "      <th>std</th>\n",
       "      <td>0.499477</td>\n",
       "    </tr>\n",
       "    <tr>\n",
       "      <th>min</th>\n",
       "      <td>0.000000</td>\n",
       "    </tr>\n",
       "    <tr>\n",
       "      <th>25%</th>\n",
       "      <td>0.000000</td>\n",
       "    </tr>\n",
       "    <tr>\n",
       "      <th>50%</th>\n",
       "      <td>1.000000</td>\n",
       "    </tr>\n",
       "    <tr>\n",
       "      <th>75%</th>\n",
       "      <td>1.000000</td>\n",
       "    </tr>\n",
       "    <tr>\n",
       "      <th>max</th>\n",
       "      <td>1.000000</td>\n",
       "    </tr>\n",
       "  </tbody>\n",
       "</table>\n",
       "</div>"
      ],
      "text/plain": [
       "              label\n",
       "count  44898.000000\n",
       "mean       0.522985\n",
       "std        0.499477\n",
       "min        0.000000\n",
       "25%        0.000000\n",
       "50%        1.000000\n",
       "75%        1.000000\n",
       "max        1.000000"
      ]
     },
     "execution_count": 5,
     "metadata": {},
     "output_type": "execute_result"
    }
   ],
   "source": [
    "df.describe()"
   ]
  },
  {
   "cell_type": "code",
   "execution_count": 6,
   "id": "fbbb1fec",
   "metadata": {},
   "outputs": [
    {
     "name": "stdout",
     "output_type": "stream",
     "text": [
      "<class 'pandas.core.frame.DataFrame'>\n",
      "RangeIndex: 44898 entries, 0 to 44897\n",
      "Data columns (total 5 columns):\n",
      " #   Column   Non-Null Count  Dtype \n",
      "---  ------   --------------  ----- \n",
      " 0   title    44898 non-null  object\n",
      " 1   text     44898 non-null  object\n",
      " 2   subject  44898 non-null  object\n",
      " 3   date     44898 non-null  object\n",
      " 4   label    44898 non-null  int64 \n",
      "dtypes: int64(1), object(4)\n",
      "memory usage: 1.7+ MB\n"
     ]
    }
   ],
   "source": [
    "df.info()"
   ]
  },
  {
   "cell_type": "code",
   "execution_count": 7,
   "id": "e74fa078",
   "metadata": {},
   "outputs": [
    {
     "data": {
      "text/html": [
       "<div>\n",
       "<style scoped>\n",
       "    .dataframe tbody tr th:only-of-type {\n",
       "        vertical-align: middle;\n",
       "    }\n",
       "\n",
       "    .dataframe tbody tr th {\n",
       "        vertical-align: top;\n",
       "    }\n",
       "\n",
       "    .dataframe thead th {\n",
       "        text-align: right;\n",
       "    }\n",
       "</style>\n",
       "<table border=\"1\" class=\"dataframe\">\n",
       "  <thead>\n",
       "    <tr style=\"text-align: right;\">\n",
       "      <th></th>\n",
       "      <th>title</th>\n",
       "      <th>text</th>\n",
       "      <th>subject</th>\n",
       "      <th>date</th>\n",
       "      <th>label</th>\n",
       "    </tr>\n",
       "  </thead>\n",
       "  <tbody>\n",
       "    <tr>\n",
       "      <th>0</th>\n",
       "      <td>False</td>\n",
       "      <td>False</td>\n",
       "      <td>False</td>\n",
       "      <td>False</td>\n",
       "      <td>False</td>\n",
       "    </tr>\n",
       "    <tr>\n",
       "      <th>1</th>\n",
       "      <td>False</td>\n",
       "      <td>False</td>\n",
       "      <td>False</td>\n",
       "      <td>False</td>\n",
       "      <td>False</td>\n",
       "    </tr>\n",
       "    <tr>\n",
       "      <th>2</th>\n",
       "      <td>False</td>\n",
       "      <td>False</td>\n",
       "      <td>False</td>\n",
       "      <td>False</td>\n",
       "      <td>False</td>\n",
       "    </tr>\n",
       "    <tr>\n",
       "      <th>3</th>\n",
       "      <td>False</td>\n",
       "      <td>False</td>\n",
       "      <td>False</td>\n",
       "      <td>False</td>\n",
       "      <td>False</td>\n",
       "    </tr>\n",
       "    <tr>\n",
       "      <th>4</th>\n",
       "      <td>False</td>\n",
       "      <td>False</td>\n",
       "      <td>False</td>\n",
       "      <td>False</td>\n",
       "      <td>False</td>\n",
       "    </tr>\n",
       "    <tr>\n",
       "      <th>...</th>\n",
       "      <td>...</td>\n",
       "      <td>...</td>\n",
       "      <td>...</td>\n",
       "      <td>...</td>\n",
       "      <td>...</td>\n",
       "    </tr>\n",
       "    <tr>\n",
       "      <th>44893</th>\n",
       "      <td>False</td>\n",
       "      <td>False</td>\n",
       "      <td>False</td>\n",
       "      <td>False</td>\n",
       "      <td>False</td>\n",
       "    </tr>\n",
       "    <tr>\n",
       "      <th>44894</th>\n",
       "      <td>False</td>\n",
       "      <td>False</td>\n",
       "      <td>False</td>\n",
       "      <td>False</td>\n",
       "      <td>False</td>\n",
       "    </tr>\n",
       "    <tr>\n",
       "      <th>44895</th>\n",
       "      <td>False</td>\n",
       "      <td>False</td>\n",
       "      <td>False</td>\n",
       "      <td>False</td>\n",
       "      <td>False</td>\n",
       "    </tr>\n",
       "    <tr>\n",
       "      <th>44896</th>\n",
       "      <td>False</td>\n",
       "      <td>False</td>\n",
       "      <td>False</td>\n",
       "      <td>False</td>\n",
       "      <td>False</td>\n",
       "    </tr>\n",
       "    <tr>\n",
       "      <th>44897</th>\n",
       "      <td>False</td>\n",
       "      <td>False</td>\n",
       "      <td>False</td>\n",
       "      <td>False</td>\n",
       "      <td>False</td>\n",
       "    </tr>\n",
       "  </tbody>\n",
       "</table>\n",
       "<p>44898 rows × 5 columns</p>\n",
       "</div>"
      ],
      "text/plain": [
       "       title   text  subject   date  label\n",
       "0      False  False    False  False  False\n",
       "1      False  False    False  False  False\n",
       "2      False  False    False  False  False\n",
       "3      False  False    False  False  False\n",
       "4      False  False    False  False  False\n",
       "...      ...    ...      ...    ...    ...\n",
       "44893  False  False    False  False  False\n",
       "44894  False  False    False  False  False\n",
       "44895  False  False    False  False  False\n",
       "44896  False  False    False  False  False\n",
       "44897  False  False    False  False  False\n",
       "\n",
       "[44898 rows x 5 columns]"
      ]
     },
     "execution_count": 7,
     "metadata": {},
     "output_type": "execute_result"
    }
   ],
   "source": [
    "df.isnull()"
   ]
  },
  {
   "cell_type": "code",
   "execution_count": 8,
   "id": "08eda195",
   "metadata": {},
   "outputs": [
    {
     "data": {
      "text/plain": [
       "title      0\n",
       "text       0\n",
       "subject    0\n",
       "date       0\n",
       "label      0\n",
       "dtype: int64"
      ]
     },
     "execution_count": 8,
     "metadata": {},
     "output_type": "execute_result"
    }
   ],
   "source": [
    "df.isnull().sum()"
   ]
  },
  {
   "cell_type": "code",
   "execution_count": 9,
   "id": "f4a7d969",
   "metadata": {},
   "outputs": [
    {
     "data": {
      "text/plain": [
       "(44898, 5)"
      ]
     },
     "execution_count": 9,
     "metadata": {},
     "output_type": "execute_result"
    }
   ],
   "source": [
    "df.shape"
   ]
  },
  {
   "cell_type": "code",
   "execution_count": 10,
   "id": "8a4172bc",
   "metadata": {},
   "outputs": [
    {
     "data": {
      "text/plain": [
       "label\n",
       "1    23481\n",
       "0    21417\n",
       "Name: count, dtype: int64"
      ]
     },
     "execution_count": 10,
     "metadata": {},
     "output_type": "execute_result"
    }
   ],
   "source": [
    "df['label'].value_counts()"
   ]
  },
  {
   "cell_type": "code",
   "execution_count": 11,
   "id": "8d9d00bd",
   "metadata": {},
   "outputs": [
    {
     "data": {
      "text/plain": [
       "subject\n",
       "politicsNews       11272\n",
       "worldnews          10145\n",
       "News                9050\n",
       "politics            6841\n",
       "left-news           4459\n",
       "Government News     1570\n",
       "US_News              783\n",
       "Middle-east          778\n",
       "Name: count, dtype: int64"
      ]
     },
     "execution_count": 11,
     "metadata": {},
     "output_type": "execute_result"
    }
   ],
   "source": [
    "df['subject'].value_counts()"
   ]
  },
  {
   "cell_type": "code",
   "execution_count": 12,
   "id": "ab4c6c51",
   "metadata": {},
   "outputs": [
    {
     "data": {
      "text/plain": [
       "title      As U.S. budget fight looms, Republicans flip t...\n",
       "text       WASHINGTON (Reuters) - The head of a conservat...\n",
       "subject                                         politicsNews\n",
       "date                                      December 31, 2017 \n",
       "label                                                      0\n",
       "Name: 0, dtype: object"
      ]
     },
     "execution_count": 12,
     "metadata": {},
     "output_type": "execute_result"
    }
   ],
   "source": [
    "df.iloc[0]"
   ]
  },
  {
   "cell_type": "code",
   "execution_count": 13,
   "id": "96e09fdf",
   "metadata": {},
   "outputs": [
    {
     "data": {
      "text/plain": [
       "'As U.S. budget fight looms, Republicans flip their fiscal script'"
      ]
     },
     "execution_count": 13,
     "metadata": {},
     "output_type": "execute_result"
    }
   ],
   "source": [
    "df.iloc[0]['title']"
   ]
  },
  {
   "cell_type": "markdown",
   "id": "bf695a82",
   "metadata": {},
   "source": [
    "### Dealing with Duplicate rows"
   ]
  },
  {
   "cell_type": "code",
   "execution_count": 14,
   "id": "3262330a",
   "metadata": {},
   "outputs": [
    {
     "data": {
      "text/plain": [
       "209"
      ]
     },
     "execution_count": 14,
     "metadata": {},
     "output_type": "execute_result"
    }
   ],
   "source": [
    "df.duplicated().sum()"
   ]
  },
  {
   "cell_type": "code",
   "execution_count": 15,
   "id": "4bccc50f",
   "metadata": {},
   "outputs": [],
   "source": [
    "df.drop_duplicates(inplace=True)"
   ]
  },
  {
   "cell_type": "code",
   "execution_count": 16,
   "id": "0ee9e537",
   "metadata": {},
   "outputs": [
    {
     "data": {
      "text/html": [
       "<div>\n",
       "<style scoped>\n",
       "    .dataframe tbody tr th:only-of-type {\n",
       "        vertical-align: middle;\n",
       "    }\n",
       "\n",
       "    .dataframe tbody tr th {\n",
       "        vertical-align: top;\n",
       "    }\n",
       "\n",
       "    .dataframe thead th {\n",
       "        text-align: right;\n",
       "    }\n",
       "</style>\n",
       "<table border=\"1\" class=\"dataframe\">\n",
       "  <thead>\n",
       "    <tr style=\"text-align: right;\">\n",
       "      <th></th>\n",
       "      <th>title</th>\n",
       "      <th>text</th>\n",
       "      <th>subject</th>\n",
       "      <th>date</th>\n",
       "      <th>label</th>\n",
       "    </tr>\n",
       "  </thead>\n",
       "  <tbody>\n",
       "    <tr>\n",
       "      <th>0</th>\n",
       "      <td>As U.S. budget fight looms, Republicans flip t...</td>\n",
       "      <td>WASHINGTON (Reuters) - The head of a conservat...</td>\n",
       "      <td>politicsNews</td>\n",
       "      <td>December 31, 2017</td>\n",
       "      <td>0</td>\n",
       "    </tr>\n",
       "    <tr>\n",
       "      <th>1</th>\n",
       "      <td>U.S. military to accept transgender recruits o...</td>\n",
       "      <td>WASHINGTON (Reuters) - Transgender people will...</td>\n",
       "      <td>politicsNews</td>\n",
       "      <td>December 29, 2017</td>\n",
       "      <td>0</td>\n",
       "    </tr>\n",
       "    <tr>\n",
       "      <th>2</th>\n",
       "      <td>Senior U.S. Republican senator: 'Let Mr. Muell...</td>\n",
       "      <td>WASHINGTON (Reuters) - The special counsel inv...</td>\n",
       "      <td>politicsNews</td>\n",
       "      <td>December 31, 2017</td>\n",
       "      <td>0</td>\n",
       "    </tr>\n",
       "    <tr>\n",
       "      <th>3</th>\n",
       "      <td>FBI Russia probe helped by Australian diplomat...</td>\n",
       "      <td>WASHINGTON (Reuters) - Trump campaign adviser ...</td>\n",
       "      <td>politicsNews</td>\n",
       "      <td>December 30, 2017</td>\n",
       "      <td>0</td>\n",
       "    </tr>\n",
       "    <tr>\n",
       "      <th>4</th>\n",
       "      <td>Trump wants Postal Service to charge 'much mor...</td>\n",
       "      <td>SEATTLE/WASHINGTON (Reuters) - President Donal...</td>\n",
       "      <td>politicsNews</td>\n",
       "      <td>December 29, 2017</td>\n",
       "      <td>0</td>\n",
       "    </tr>\n",
       "  </tbody>\n",
       "</table>\n",
       "</div>"
      ],
      "text/plain": [
       "                                               title  \\\n",
       "0  As U.S. budget fight looms, Republicans flip t...   \n",
       "1  U.S. military to accept transgender recruits o...   \n",
       "2  Senior U.S. Republican senator: 'Let Mr. Muell...   \n",
       "3  FBI Russia probe helped by Australian diplomat...   \n",
       "4  Trump wants Postal Service to charge 'much mor...   \n",
       "\n",
       "                                                text       subject  \\\n",
       "0  WASHINGTON (Reuters) - The head of a conservat...  politicsNews   \n",
       "1  WASHINGTON (Reuters) - Transgender people will...  politicsNews   \n",
       "2  WASHINGTON (Reuters) - The special counsel inv...  politicsNews   \n",
       "3  WASHINGTON (Reuters) - Trump campaign adviser ...  politicsNews   \n",
       "4  SEATTLE/WASHINGTON (Reuters) - President Donal...  politicsNews   \n",
       "\n",
       "                 date  label  \n",
       "0  December 31, 2017       0  \n",
       "1  December 29, 2017       0  \n",
       "2  December 31, 2017       0  \n",
       "3  December 30, 2017       0  \n",
       "4  December 29, 2017       0  "
      ]
     },
     "execution_count": 16,
     "metadata": {},
     "output_type": "execute_result"
    }
   ],
   "source": [
    "df.head()"
   ]
  },
  {
   "cell_type": "code",
   "execution_count": 17,
   "id": "9da0f351",
   "metadata": {},
   "outputs": [
    {
     "data": {
      "text/plain": [
       "(44689, 5)"
      ]
     },
     "execution_count": 17,
     "metadata": {},
     "output_type": "execute_result"
    }
   ],
   "source": [
    "df.shape"
   ]
  },
  {
   "cell_type": "code",
   "execution_count": 18,
   "id": "d1b59d46",
   "metadata": {},
   "outputs": [
    {
     "data": {
      "text/plain": [
       "'WASHINGTON (Reuters) - The head of a conservative Republican faction in the U.S. Congress, who voted this month for a huge expansion of the national debt to pay for tax cuts, called himself a “fiscal conservative” on Sunday and urged budget restraint in 2018. In keeping with a sharp pivot under way among Republicans, U.S. Representative Mark Meadows, speaking on CBS’ “Face the Nation,” drew a hard line on federal spending, which lawmakers are bracing to do battle over in January. When they return from the holidays on Wednesday, lawmakers will begin trying to pass a federal budget in a fight likely to be linked to other issues, such as immigration policy, even as the November congressional election campaigns approach in which Republicans will seek to keep control of Congress. President Donald Trump and his Republicans want a big budget increase in military spending, while Democrats also want proportional increases for non-defense “discretionary” spending on programs that support education, scientific research, infrastructure, public health and environmental protection. “The (Trump) administration has already been willing to say: ‘We’re going to increase non-defense discretionary spending ... by about 7 percent,’” Meadows, chairman of the small but influential House Freedom Caucus, said on the program. “Now, Democrats are saying that’s not enough, we need to give the government a pay raise of 10 to 11 percent. For a fiscal conservative, I don’t see where the rationale is. ... Eventually you run out of other people’s money,” he said. Meadows was among Republicans who voted in late December for their party’s debt-financed tax overhaul, which is expected to balloon the federal budget deficit and add about $1.5 trillion over 10 years to the $20 trillion national debt. “It’s interesting to hear Mark talk about fiscal responsibility,” Democratic U.S. Representative Joseph Crowley said on CBS. Crowley said the Republican tax bill would require the  United States to borrow $1.5 trillion, to be paid off by future generations, to finance tax cuts for corporations and the rich. “This is one of the least ... fiscally responsible bills we’ve ever seen passed in the history of the House of Representatives. I think we’re going to be paying for this for many, many years to come,” Crowley said. Republicans insist the tax package, the biggest U.S. tax overhaul in more than 30 years,  will boost the economy and job growth. House Speaker Paul Ryan, who also supported the tax bill, recently went further than Meadows, making clear in a radio interview that welfare or “entitlement reform,” as the party often calls it, would be a top Republican priority in 2018. In Republican parlance, “entitlement” programs mean food stamps, housing assistance, Medicare and Medicaid health insurance for the elderly, poor and disabled, as well as other programs created by Washington to assist the needy. Democrats seized on Ryan’s early December remarks, saying they showed Republicans would try to pay for their tax overhaul by seeking spending cuts for social programs. But the goals of House Republicans may have to take a back seat to the Senate, where the votes of some Democrats will be needed to approve a budget and prevent a government shutdown. Democrats will use their leverage in the Senate, which Republicans narrowly control, to defend both discretionary non-defense programs and social spending, while tackling the issue of the “Dreamers,” people brought illegally to the country as children. Trump in September put a March 2018 expiration date on the Deferred Action for Childhood Arrivals, or DACA, program, which protects the young immigrants from deportation and provides them with work permits. The president has said in recent Twitter messages he wants funding for his proposed Mexican border wall and other immigration law changes in exchange for agreeing to help the Dreamers. Representative Debbie Dingell told CBS she did not favor linking that issue to other policy objectives, such as wall funding. “We need to do DACA clean,” she said.  On Wednesday, Trump aides will meet with congressional leaders to discuss those issues. That will be followed by a weekend of strategy sessions for Trump and Republican leaders on Jan. 6 and 7, the White House said. Trump was also scheduled to meet on Sunday with Florida Republican Governor Rick Scott, who wants more emergency aid. The House has passed an $81 billion aid package after hurricanes in Florida, Texas and Puerto Rico, and wildfires in California. The package far exceeded the $44 billion requested by the Trump administration. The Senate has not yet voted on the aid. '"
      ]
     },
     "execution_count": 18,
     "metadata": {},
     "output_type": "execute_result"
    }
   ],
   "source": [
    "df.iloc[0]['text']"
   ]
  },
  {
   "cell_type": "markdown",
   "id": "09c3ae4e",
   "metadata": {},
   "source": [
    "### Dropping the Date, Title, Subject Columns"
   ]
  },
  {
   "cell_type": "code",
   "execution_count": 25,
   "id": "398a6b6c",
   "metadata": {},
   "outputs": [],
   "source": [
    "df = df.drop(columns=['date', 'title', 'subject'])\n"
   ]
  },
  {
   "cell_type": "code",
   "execution_count": 26,
   "id": "1c073355",
   "metadata": {},
   "outputs": [
    {
     "name": "stdout",
     "output_type": "stream",
     "text": [
      "<class 'pandas.core.frame.DataFrame'>\n",
      "Index: 44689 entries, 0 to 44897\n",
      "Data columns (total 2 columns):\n",
      " #   Column  Non-Null Count  Dtype \n",
      "---  ------  --------------  ----- \n",
      " 0   text    44689 non-null  object\n",
      " 1   label   44689 non-null  int64 \n",
      "dtypes: int64(1), object(1)\n",
      "memory usage: 1.0+ MB\n"
     ]
    }
   ],
   "source": [
    "df.info()"
   ]
  },
  {
   "cell_type": "markdown",
   "id": "a0acfb3f",
   "metadata": {},
   "source": [
    "## Data Preprocessing"
   ]
  },
  {
   "cell_type": "markdown",
   "id": "54f5e601",
   "metadata": {},
   "source": [
    "### Lowercasing  the Text"
   ]
  },
  {
   "cell_type": "code",
   "execution_count": 27,
   "id": "41b75e10",
   "metadata": {},
   "outputs": [],
   "source": [
    "df['text'] = df['text'].str.lower()"
   ]
  },
  {
   "cell_type": "code",
   "execution_count": 28,
   "id": "8ca3f789",
   "metadata": {},
   "outputs": [
    {
     "data": {
      "text/plain": [
       "'washington reuters head conservative republican faction us congress voted month huge expansion national debt pay tax cuts called “fiscal conservative” sunday urged budget restraint 2018 keeping sharp pivot way among republicans us representative mark meadows speaking cbs’ “face nation” drew hard line federal spending lawmakers bracing battle january return holidays wednesday lawmakers begin trying pass federal budget fight likely linked issues immigration policy even november congressional election campaigns approach republicans seek keep control congress president donald trump republicans want big budget increase military spending democrats also want proportional increases nondefense “discretionary” spending programs support education scientific research infrastructure public health environmental protection “the trump administration already willing say ‘we’re going increase nondefense discretionary spending 7 percent’” meadows chairman small influential house freedom caucus said program “now democrats saying that’s enough need give government pay raise 10 11 percent fiscal conservative don’t see rationale eventually run people’s money” said meadows among republicans voted late december party’s debtfinanced tax overhaul expected balloon federal budget deficit add 15 trillion 10 years 20 trillion national debt “it’s interesting hear mark talk fiscal responsibility” democratic us representative joseph crowley said cbs crowley said republican tax bill would require united states borrow 15 trillion paid future generations finance tax cuts corporations rich “this one least fiscally responsible bills we’ve ever seen passed history house representatives think we’re going paying many many years come” crowley said republicans insist tax package biggest us tax overhaul 30 years boost economy job growth house speaker paul ryan also supported tax bill recently went meadows making clear radio interview welfare “entitlement reform” party often calls would top republican priority 2018 republican parlance “entitlement” programs mean food stamps housing assistance medicare medicaid health insurance elderly poor disabled well programs created washington assist needy democrats seized ryan’s early december remarks saying showed republicans would try pay tax overhaul seeking spending cuts social programs goals house republicans may take back seat senate votes democrats needed approve budget prevent government shutdown democrats use leverage senate republicans narrowly control defend discretionary nondefense programs social spending tackling issue “dreamers” people brought illegally country children trump september put march 2018 expiration date deferred action childhood arrivals daca program protects young immigrants deportation provides work permits president said recent twitter messages wants funding proposed mexican border wall immigration law changes exchange agreeing help dreamers representative debbie dingell told cbs favor linking issue policy objectives wall funding “we need daca clean” said wednesday trump aides meet congressional leaders discuss issues followed weekend strategy sessions trump republican leaders jan 6 7 white house said trump also scheduled meet sunday florida republican governor rick scott wants emergency aid house passed 81 billion aid package hurricanes florida texas puerto rico wildfires california package far exceeded 44 billion requested trump administration senate yet voted aid'"
      ]
     },
     "execution_count": 28,
     "metadata": {},
     "output_type": "execute_result"
    }
   ],
   "source": [
    "df.iloc[0]['text']"
   ]
  },
  {
   "cell_type": "markdown",
   "id": "e20beb3b",
   "metadata": {},
   "source": [
    "### Removing Punctuations"
   ]
  },
  {
   "cell_type": "code",
   "execution_count": 29,
   "id": "e01905b2",
   "metadata": {},
   "outputs": [],
   "source": [
    "#remove punctuations like -  !\"#$%&'()*+,-./:;<=>?@[\\]^_{|}~\n",
    "df['text'] = df['text'].str.replace(f\"[{string.punctuation}]\", \"\", regex=True)"
   ]
  },
  {
   "cell_type": "code",
   "execution_count": 30,
   "id": "7560beec",
   "metadata": {},
   "outputs": [
    {
     "data": {
      "text/plain": [
       "'washington reuters head conservative republican faction us congress voted month huge expansion national debt pay tax cuts called “fiscal conservative” sunday urged budget restraint 2018 keeping sharp pivot way among republicans us representative mark meadows speaking cbs’ “face nation” drew hard line federal spending lawmakers bracing battle january return holidays wednesday lawmakers begin trying pass federal budget fight likely linked issues immigration policy even november congressional election campaigns approach republicans seek keep control congress president donald trump republicans want big budget increase military spending democrats also want proportional increases nondefense “discretionary” spending programs support education scientific research infrastructure public health environmental protection “the trump administration already willing say ‘we’re going increase nondefense discretionary spending 7 percent’” meadows chairman small influential house freedom caucus said program “now democrats saying that’s enough need give government pay raise 10 11 percent fiscal conservative don’t see rationale eventually run people’s money” said meadows among republicans voted late december party’s debtfinanced tax overhaul expected balloon federal budget deficit add 15 trillion 10 years 20 trillion national debt “it’s interesting hear mark talk fiscal responsibility” democratic us representative joseph crowley said cbs crowley said republican tax bill would require united states borrow 15 trillion paid future generations finance tax cuts corporations rich “this one least fiscally responsible bills we’ve ever seen passed history house representatives think we’re going paying many many years come” crowley said republicans insist tax package biggest us tax overhaul 30 years boost economy job growth house speaker paul ryan also supported tax bill recently went meadows making clear radio interview welfare “entitlement reform” party often calls would top republican priority 2018 republican parlance “entitlement” programs mean food stamps housing assistance medicare medicaid health insurance elderly poor disabled well programs created washington assist needy democrats seized ryan’s early december remarks saying showed republicans would try pay tax overhaul seeking spending cuts social programs goals house republicans may take back seat senate votes democrats needed approve budget prevent government shutdown democrats use leverage senate republicans narrowly control defend discretionary nondefense programs social spending tackling issue “dreamers” people brought illegally country children trump september put march 2018 expiration date deferred action childhood arrivals daca program protects young immigrants deportation provides work permits president said recent twitter messages wants funding proposed mexican border wall immigration law changes exchange agreeing help dreamers representative debbie dingell told cbs favor linking issue policy objectives wall funding “we need daca clean” said wednesday trump aides meet congressional leaders discuss issues followed weekend strategy sessions trump republican leaders jan 6 7 white house said trump also scheduled meet sunday florida republican governor rick scott wants emergency aid house passed 81 billion aid package hurricanes florida texas puerto rico wildfires california package far exceeded 44 billion requested trump administration senate yet voted aid'"
      ]
     },
     "execution_count": 30,
     "metadata": {},
     "output_type": "execute_result"
    }
   ],
   "source": [
    "df.iloc[0]['text']"
   ]
  },
  {
   "cell_type": "markdown",
   "id": "f567fc99",
   "metadata": {},
   "source": [
    "### Removing Stop Words"
   ]
  },
  {
   "cell_type": "code",
   "execution_count": 31,
   "id": "a68e2f5a",
   "metadata": {},
   "outputs": [
    {
     "name": "stderr",
     "output_type": "stream",
     "text": [
      "[nltk_data] Downloading package stopwords to\n",
      "[nltk_data]     C:\\Users\\user\\AppData\\Roaming\\nltk_data...\n",
      "[nltk_data]   Package stopwords is already up-to-date!\n"
     ]
    }
   ],
   "source": [
    "nltk.download('stopwords')\n",
    "\n",
    "stop_words = set(stopwords.words('english'))\n",
    "\n",
    "def remove_stopwords(text):\n",
    "    return ' '.join([word for word in text.split() if word.lower() not in stop_words])\n",
    "\n",
    "df['text'] = df['text'].apply(remove_stopwords)"
   ]
  },
  {
   "cell_type": "code",
   "execution_count": 32,
   "id": "0a2e9c0a",
   "metadata": {},
   "outputs": [
    {
     "data": {
      "text/plain": [
       "'washington reuters head conservative republican faction us congress voted month huge expansion national debt pay tax cuts called “fiscal conservative” sunday urged budget restraint 2018 keeping sharp pivot way among republicans us representative mark meadows speaking cbs’ “face nation” drew hard line federal spending lawmakers bracing battle january return holidays wednesday lawmakers begin trying pass federal budget fight likely linked issues immigration policy even november congressional election campaigns approach republicans seek keep control congress president donald trump republicans want big budget increase military spending democrats also want proportional increases nondefense “discretionary” spending programs support education scientific research infrastructure public health environmental protection “the trump administration already willing say ‘we’re going increase nondefense discretionary spending 7 percent’” meadows chairman small influential house freedom caucus said program “now democrats saying that’s enough need give government pay raise 10 11 percent fiscal conservative don’t see rationale eventually run people’s money” said meadows among republicans voted late december party’s debtfinanced tax overhaul expected balloon federal budget deficit add 15 trillion 10 years 20 trillion national debt “it’s interesting hear mark talk fiscal responsibility” democratic us representative joseph crowley said cbs crowley said republican tax bill would require united states borrow 15 trillion paid future generations finance tax cuts corporations rich “this one least fiscally responsible bills we’ve ever seen passed history house representatives think we’re going paying many many years come” crowley said republicans insist tax package biggest us tax overhaul 30 years boost economy job growth house speaker paul ryan also supported tax bill recently went meadows making clear radio interview welfare “entitlement reform” party often calls would top republican priority 2018 republican parlance “entitlement” programs mean food stamps housing assistance medicare medicaid health insurance elderly poor disabled well programs created washington assist needy democrats seized ryan’s early december remarks saying showed republicans would try pay tax overhaul seeking spending cuts social programs goals house republicans may take back seat senate votes democrats needed approve budget prevent government shutdown democrats use leverage senate republicans narrowly control defend discretionary nondefense programs social spending tackling issue “dreamers” people brought illegally country children trump september put march 2018 expiration date deferred action childhood arrivals daca program protects young immigrants deportation provides work permits president said recent twitter messages wants funding proposed mexican border wall immigration law changes exchange agreeing help dreamers representative debbie dingell told cbs favor linking issue policy objectives wall funding “we need daca clean” said wednesday trump aides meet congressional leaders discuss issues followed weekend strategy sessions trump republican leaders jan 6 7 white house said trump also scheduled meet sunday florida republican governor rick scott wants emergency aid house passed 81 billion aid package hurricanes florida texas puerto rico wildfires california package far exceeded 44 billion requested trump administration senate yet voted aid'"
      ]
     },
     "execution_count": 32,
     "metadata": {},
     "output_type": "execute_result"
    }
   ],
   "source": [
    "df.iloc[0]['text']"
   ]
  },
  {
   "cell_type": "markdown",
   "id": "917b5a72",
   "metadata": {},
   "source": [
    "### Tokenization of  the Text"
   ]
  },
  {
   "cell_type": "code",
   "execution_count": 33,
   "id": "9ca5b43c",
   "metadata": {},
   "outputs": [
    {
     "name": "stderr",
     "output_type": "stream",
     "text": [
      "[nltk_data] Downloading package punkt to\n",
      "[nltk_data]     C:\\Users\\user\\AppData\\Roaming\\nltk_data...\n",
      "[nltk_data]   Unzipping tokenizers\\punkt.zip.\n"
     ]
    }
   ],
   "source": [
    "nltk.download('punkt')\n",
    "from nltk.tokenize import word_tokenize\n",
    "\n",
    "def tokenize_text(text):\n",
    "    return word_tokenize(text)\n",
    "\n",
    "df['text'] = df['text'].apply(tokenize_text)"
   ]
  },
  {
   "cell_type": "code",
   "execution_count": 34,
   "id": "fdc8364a",
   "metadata": {},
   "outputs": [
    {
     "data": {
      "text/plain": [
       "['washington',\n",
       " 'reuters',\n",
       " 'head',\n",
       " 'conservative',\n",
       " 'republican',\n",
       " 'faction',\n",
       " 'us',\n",
       " 'congress',\n",
       " 'voted',\n",
       " 'month',\n",
       " 'huge',\n",
       " 'expansion',\n",
       " 'national',\n",
       " 'debt',\n",
       " 'pay',\n",
       " 'tax',\n",
       " 'cuts',\n",
       " 'called',\n",
       " '“',\n",
       " 'fiscal',\n",
       " 'conservative',\n",
       " '”',\n",
       " 'sunday',\n",
       " 'urged',\n",
       " 'budget',\n",
       " 'restraint',\n",
       " '2018',\n",
       " 'keeping',\n",
       " 'sharp',\n",
       " 'pivot',\n",
       " 'way',\n",
       " 'among',\n",
       " 'republicans',\n",
       " 'us',\n",
       " 'representative',\n",
       " 'mark',\n",
       " 'meadows',\n",
       " 'speaking',\n",
       " 'cbs',\n",
       " '’',\n",
       " '“',\n",
       " 'face',\n",
       " 'nation',\n",
       " '”',\n",
       " 'drew',\n",
       " 'hard',\n",
       " 'line',\n",
       " 'federal',\n",
       " 'spending',\n",
       " 'lawmakers',\n",
       " 'bracing',\n",
       " 'battle',\n",
       " 'january',\n",
       " 'return',\n",
       " 'holidays',\n",
       " 'wednesday',\n",
       " 'lawmakers',\n",
       " 'begin',\n",
       " 'trying',\n",
       " 'pass',\n",
       " 'federal',\n",
       " 'budget',\n",
       " 'fight',\n",
       " 'likely',\n",
       " 'linked',\n",
       " 'issues',\n",
       " 'immigration',\n",
       " 'policy',\n",
       " 'even',\n",
       " 'november',\n",
       " 'congressional',\n",
       " 'election',\n",
       " 'campaigns',\n",
       " 'approach',\n",
       " 'republicans',\n",
       " 'seek',\n",
       " 'keep',\n",
       " 'control',\n",
       " 'congress',\n",
       " 'president',\n",
       " 'donald',\n",
       " 'trump',\n",
       " 'republicans',\n",
       " 'want',\n",
       " 'big',\n",
       " 'budget',\n",
       " 'increase',\n",
       " 'military',\n",
       " 'spending',\n",
       " 'democrats',\n",
       " 'also',\n",
       " 'want',\n",
       " 'proportional',\n",
       " 'increases',\n",
       " 'nondefense',\n",
       " '“',\n",
       " 'discretionary',\n",
       " '”',\n",
       " 'spending',\n",
       " 'programs',\n",
       " 'support',\n",
       " 'education',\n",
       " 'scientific',\n",
       " 'research',\n",
       " 'infrastructure',\n",
       " 'public',\n",
       " 'health',\n",
       " 'environmental',\n",
       " 'protection',\n",
       " '“',\n",
       " 'the',\n",
       " 'trump',\n",
       " 'administration',\n",
       " 'already',\n",
       " 'willing',\n",
       " 'say',\n",
       " '‘',\n",
       " 'we',\n",
       " '’',\n",
       " 're',\n",
       " 'going',\n",
       " 'increase',\n",
       " 'nondefense',\n",
       " 'discretionary',\n",
       " 'spending',\n",
       " '7',\n",
       " 'percent',\n",
       " '’',\n",
       " '”',\n",
       " 'meadows',\n",
       " 'chairman',\n",
       " 'small',\n",
       " 'influential',\n",
       " 'house',\n",
       " 'freedom',\n",
       " 'caucus',\n",
       " 'said',\n",
       " 'program',\n",
       " '“',\n",
       " 'now',\n",
       " 'democrats',\n",
       " 'saying',\n",
       " 'that',\n",
       " '’',\n",
       " 's',\n",
       " 'enough',\n",
       " 'need',\n",
       " 'give',\n",
       " 'government',\n",
       " 'pay',\n",
       " 'raise',\n",
       " '10',\n",
       " '11',\n",
       " 'percent',\n",
       " 'fiscal',\n",
       " 'conservative',\n",
       " 'don',\n",
       " '’',\n",
       " 't',\n",
       " 'see',\n",
       " 'rationale',\n",
       " 'eventually',\n",
       " 'run',\n",
       " 'people',\n",
       " '’',\n",
       " 's',\n",
       " 'money',\n",
       " '”',\n",
       " 'said',\n",
       " 'meadows',\n",
       " 'among',\n",
       " 'republicans',\n",
       " 'voted',\n",
       " 'late',\n",
       " 'december',\n",
       " 'party',\n",
       " '’',\n",
       " 's',\n",
       " 'debtfinanced',\n",
       " 'tax',\n",
       " 'overhaul',\n",
       " 'expected',\n",
       " 'balloon',\n",
       " 'federal',\n",
       " 'budget',\n",
       " 'deficit',\n",
       " 'add',\n",
       " '15',\n",
       " 'trillion',\n",
       " '10',\n",
       " 'years',\n",
       " '20',\n",
       " 'trillion',\n",
       " 'national',\n",
       " 'debt',\n",
       " '“',\n",
       " 'it',\n",
       " '’',\n",
       " 's',\n",
       " 'interesting',\n",
       " 'hear',\n",
       " 'mark',\n",
       " 'talk',\n",
       " 'fiscal',\n",
       " 'responsibility',\n",
       " '”',\n",
       " 'democratic',\n",
       " 'us',\n",
       " 'representative',\n",
       " 'joseph',\n",
       " 'crowley',\n",
       " 'said',\n",
       " 'cbs',\n",
       " 'crowley',\n",
       " 'said',\n",
       " 'republican',\n",
       " 'tax',\n",
       " 'bill',\n",
       " 'would',\n",
       " 'require',\n",
       " 'united',\n",
       " 'states',\n",
       " 'borrow',\n",
       " '15',\n",
       " 'trillion',\n",
       " 'paid',\n",
       " 'future',\n",
       " 'generations',\n",
       " 'finance',\n",
       " 'tax',\n",
       " 'cuts',\n",
       " 'corporations',\n",
       " 'rich',\n",
       " '“',\n",
       " 'this',\n",
       " 'one',\n",
       " 'least',\n",
       " 'fiscally',\n",
       " 'responsible',\n",
       " 'bills',\n",
       " 'we',\n",
       " '’',\n",
       " 've',\n",
       " 'ever',\n",
       " 'seen',\n",
       " 'passed',\n",
       " 'history',\n",
       " 'house',\n",
       " 'representatives',\n",
       " 'think',\n",
       " 'we',\n",
       " '’',\n",
       " 're',\n",
       " 'going',\n",
       " 'paying',\n",
       " 'many',\n",
       " 'many',\n",
       " 'years',\n",
       " 'come',\n",
       " '”',\n",
       " 'crowley',\n",
       " 'said',\n",
       " 'republicans',\n",
       " 'insist',\n",
       " 'tax',\n",
       " 'package',\n",
       " 'biggest',\n",
       " 'us',\n",
       " 'tax',\n",
       " 'overhaul',\n",
       " '30',\n",
       " 'years',\n",
       " 'boost',\n",
       " 'economy',\n",
       " 'job',\n",
       " 'growth',\n",
       " 'house',\n",
       " 'speaker',\n",
       " 'paul',\n",
       " 'ryan',\n",
       " 'also',\n",
       " 'supported',\n",
       " 'tax',\n",
       " 'bill',\n",
       " 'recently',\n",
       " 'went',\n",
       " 'meadows',\n",
       " 'making',\n",
       " 'clear',\n",
       " 'radio',\n",
       " 'interview',\n",
       " 'welfare',\n",
       " '“',\n",
       " 'entitlement',\n",
       " 'reform',\n",
       " '”',\n",
       " 'party',\n",
       " 'often',\n",
       " 'calls',\n",
       " 'would',\n",
       " 'top',\n",
       " 'republican',\n",
       " 'priority',\n",
       " '2018',\n",
       " 'republican',\n",
       " 'parlance',\n",
       " '“',\n",
       " 'entitlement',\n",
       " '”',\n",
       " 'programs',\n",
       " 'mean',\n",
       " 'food',\n",
       " 'stamps',\n",
       " 'housing',\n",
       " 'assistance',\n",
       " 'medicare',\n",
       " 'medicaid',\n",
       " 'health',\n",
       " 'insurance',\n",
       " 'elderly',\n",
       " 'poor',\n",
       " 'disabled',\n",
       " 'well',\n",
       " 'programs',\n",
       " 'created',\n",
       " 'washington',\n",
       " 'assist',\n",
       " 'needy',\n",
       " 'democrats',\n",
       " 'seized',\n",
       " 'ryan',\n",
       " '’',\n",
       " 's',\n",
       " 'early',\n",
       " 'december',\n",
       " 'remarks',\n",
       " 'saying',\n",
       " 'showed',\n",
       " 'republicans',\n",
       " 'would',\n",
       " 'try',\n",
       " 'pay',\n",
       " 'tax',\n",
       " 'overhaul',\n",
       " 'seeking',\n",
       " 'spending',\n",
       " 'cuts',\n",
       " 'social',\n",
       " 'programs',\n",
       " 'goals',\n",
       " 'house',\n",
       " 'republicans',\n",
       " 'may',\n",
       " 'take',\n",
       " 'back',\n",
       " 'seat',\n",
       " 'senate',\n",
       " 'votes',\n",
       " 'democrats',\n",
       " 'needed',\n",
       " 'approve',\n",
       " 'budget',\n",
       " 'prevent',\n",
       " 'government',\n",
       " 'shutdown',\n",
       " 'democrats',\n",
       " 'use',\n",
       " 'leverage',\n",
       " 'senate',\n",
       " 'republicans',\n",
       " 'narrowly',\n",
       " 'control',\n",
       " 'defend',\n",
       " 'discretionary',\n",
       " 'nondefense',\n",
       " 'programs',\n",
       " 'social',\n",
       " 'spending',\n",
       " 'tackling',\n",
       " 'issue',\n",
       " '“',\n",
       " 'dreamers',\n",
       " '”',\n",
       " 'people',\n",
       " 'brought',\n",
       " 'illegally',\n",
       " 'country',\n",
       " 'children',\n",
       " 'trump',\n",
       " 'september',\n",
       " 'put',\n",
       " 'march',\n",
       " '2018',\n",
       " 'expiration',\n",
       " 'date',\n",
       " 'deferred',\n",
       " 'action',\n",
       " 'childhood',\n",
       " 'arrivals',\n",
       " 'daca',\n",
       " 'program',\n",
       " 'protects',\n",
       " 'young',\n",
       " 'immigrants',\n",
       " 'deportation',\n",
       " 'provides',\n",
       " 'work',\n",
       " 'permits',\n",
       " 'president',\n",
       " 'said',\n",
       " 'recent',\n",
       " 'twitter',\n",
       " 'messages',\n",
       " 'wants',\n",
       " 'funding',\n",
       " 'proposed',\n",
       " 'mexican',\n",
       " 'border',\n",
       " 'wall',\n",
       " 'immigration',\n",
       " 'law',\n",
       " 'changes',\n",
       " 'exchange',\n",
       " 'agreeing',\n",
       " 'help',\n",
       " 'dreamers',\n",
       " 'representative',\n",
       " 'debbie',\n",
       " 'dingell',\n",
       " 'told',\n",
       " 'cbs',\n",
       " 'favor',\n",
       " 'linking',\n",
       " 'issue',\n",
       " 'policy',\n",
       " 'objectives',\n",
       " 'wall',\n",
       " 'funding',\n",
       " '“',\n",
       " 'we',\n",
       " 'need',\n",
       " 'daca',\n",
       " 'clean',\n",
       " '”',\n",
       " 'said',\n",
       " 'wednesday',\n",
       " 'trump',\n",
       " 'aides',\n",
       " 'meet',\n",
       " 'congressional',\n",
       " 'leaders',\n",
       " 'discuss',\n",
       " 'issues',\n",
       " 'followed',\n",
       " 'weekend',\n",
       " 'strategy',\n",
       " 'sessions',\n",
       " 'trump',\n",
       " 'republican',\n",
       " 'leaders',\n",
       " 'jan',\n",
       " '6',\n",
       " '7',\n",
       " 'white',\n",
       " 'house',\n",
       " 'said',\n",
       " 'trump',\n",
       " 'also',\n",
       " 'scheduled',\n",
       " 'meet',\n",
       " 'sunday',\n",
       " 'florida',\n",
       " 'republican',\n",
       " 'governor',\n",
       " 'rick',\n",
       " 'scott',\n",
       " 'wants',\n",
       " 'emergency',\n",
       " 'aid',\n",
       " 'house',\n",
       " 'passed',\n",
       " '81',\n",
       " 'billion',\n",
       " 'aid',\n",
       " 'package',\n",
       " 'hurricanes',\n",
       " 'florida',\n",
       " 'texas',\n",
       " 'puerto',\n",
       " 'rico',\n",
       " 'wildfires',\n",
       " 'california',\n",
       " 'package',\n",
       " 'far',\n",
       " 'exceeded',\n",
       " '44',\n",
       " 'billion',\n",
       " 'requested',\n",
       " 'trump',\n",
       " 'administration',\n",
       " 'senate',\n",
       " 'yet',\n",
       " 'voted',\n",
       " 'aid']"
      ]
     },
     "execution_count": 34,
     "metadata": {},
     "output_type": "execute_result"
    }
   ],
   "source": [
    "df.iloc[0]['text']"
   ]
  },
  {
   "cell_type": "code",
   "execution_count": null,
   "id": "48a053ac",
   "metadata": {},
   "outputs": [],
   "source": []
  }
 ],
 "metadata": {
  "kernelspec": {
   "display_name": "Python 3 (ipykernel)",
   "language": "python",
   "name": "python3"
  },
  "language_info": {
   "codemirror_mode": {
    "name": "ipython",
    "version": 3
   },
   "file_extension": ".py",
   "mimetype": "text/x-python",
   "name": "python",
   "nbconvert_exporter": "python",
   "pygments_lexer": "ipython3",
   "version": "3.11.5"
  }
 },
 "nbformat": 4,
 "nbformat_minor": 5
}
