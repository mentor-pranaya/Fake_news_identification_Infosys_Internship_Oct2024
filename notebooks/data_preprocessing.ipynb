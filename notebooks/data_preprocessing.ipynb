{
 "cells": [
  {
   "cell_type": "code",
   "execution_count": 24,
   "metadata": {},
   "outputs": [],
   "source": [
    "import pandas as pd\n",
    "import re\n",
    "from sklearn.model_selection import train_test_split\n",
    "\n",
    "# Load the dataset\n",
    "df = pd.read_csv('../data/fake_news_data.csv')"
   ]
  },
  {
   "cell_type": "code",
   "execution_count": 25,
   "metadata": {},
   "outputs": [],
   "source": [
    "# Data Preprocessing\n",
    "# 1. Convert the title to lowercase\n",
    "df['title'] = df['title'].str.lower()"
   ]
  },
  {
   "cell_type": "code",
   "execution_count": 26,
   "metadata": {},
   "outputs": [],
   "source": [
    "# 2. Remove punctuation from the title\n",
    "df['title'] = df['title'].str.replace('[^\\w\\s]', '', regex=True)\n"
   ]
  },
  {
   "cell_type": "code",
   "execution_count": 27,
   "metadata": {},
   "outputs": [],
   "source": [
    "# 3. Remove numbers from the title\n",
    "df['title'] = df['title'].str.replace('\\d+', '', regex=True)"
   ]
  },
  {
   "cell_type": "code",
   "execution_count": 28,
   "metadata": {},
   "outputs": [],
   "source": [
    "# 4. Handle missing values in the title (fill with an empty string or drop the rows)\n",
    "df['title'] = df['title'].fillna('')"
   ]
  },
  {
   "cell_type": "code",
   "execution_count": 29,
   "metadata": {},
   "outputs": [
    {
     "name": "stdout",
     "output_type": "stream",
     "text": [
      "\n",
      "Number of remaining duplicates in 'title': 0\n"
     ]
    }
   ],
   "source": [
    "# 5. Remove duplicates in the cleaned title\n",
    "df = df.drop_duplicates(subset='title', keep='first')\n",
    "print(f\"\\nNumber of remaining duplicates in 'title': {df.duplicated(subset='title').sum()}\")"
   ]
  },
  {
   "cell_type": "code",
   "execution_count": 30,
   "metadata": {},
   "outputs": [
    {
     "name": "stdout",
     "output_type": "stream",
     "text": [
      "\n",
      "Number of rows after removing empty titles: 12237\n"
     ]
    }
   ],
   "source": [
    "# 6. Remove rows where the title is still missing or empty after cleaning (optional)\n",
    "df = df[df['title'].str.strip() != '']\n",
    "print(f\"\\nNumber of rows after removing empty titles: {len(df)}\")"
   ]
  },
  {
   "cell_type": "code",
   "execution_count": 31,
   "metadata": {},
   "outputs": [],
   "source": [
    "# Save the cleaned and processed data\n",
    "df.to_csv('../data/processed_data.csv', index=False)"
   ]
  },
  {
   "cell_type": "code",
   "execution_count": 32,
   "metadata": {},
   "outputs": [
    {
     "name": "stdout",
     "output_type": "stream",
     "text": [
      "\n",
      "Processed Data Info:\n",
      "<class 'pandas.core.frame.DataFrame'>\n",
      "Index: 12237 entries, 0 to 15336\n",
      "Data columns (total 6 columns):\n",
      " #   Column         Non-Null Count  Dtype \n",
      "---  ------         --------------  ----- \n",
      " 0   article_id     12237 non-null  int64 \n",
      " 1   title          12237 non-null  object\n",
      " 2   description    12210 non-null  object\n",
      " 3   news_url       12060 non-null  object\n",
      " 4   source_domain  12060 non-null  object\n",
      " 5   real           12237 non-null  int64 \n",
      "dtypes: int64(2), object(4)\n",
      "memory usage: 669.2+ KB\n",
      "None\n"
     ]
    }
   ],
   "source": [
    "# Display processed data information\n",
    "print(\"\\nProcessed Data Info:\")\n",
    "print(df.info())"
   ]
  },
  {
   "cell_type": "code",
   "execution_count": 33,
   "metadata": {},
   "outputs": [
    {
     "name": "stdout",
     "output_type": "stream",
     "text": [
      "Preprocessing completed and saved as 'processed_data.csv'.\n"
     ]
    }
   ],
   "source": [
    "# Confirmation message\n",
    "print(\"Preprocessing completed and saved as 'processed_data.csv' inside /data folder.\")"
   ]
  }
 ],
 "metadata": {
  "kernelspec": {
   "display_name": "myenv",
   "language": "python",
   "name": "python3"
  },
  "language_info": {
   "codemirror_mode": {
    "name": "ipython",
    "version": 3
   },
   "file_extension": ".py",
   "mimetype": "text/x-python",
   "name": "python",
   "nbconvert_exporter": "python",
   "pygments_lexer": "ipython3",
   "version": "3.10.11"
  }
 },
 "nbformat": 4,
 "nbformat_minor": 2
}
