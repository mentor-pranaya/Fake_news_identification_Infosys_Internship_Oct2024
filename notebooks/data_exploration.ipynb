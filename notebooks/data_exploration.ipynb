{
 "cells": [
  {
   "cell_type": "code",
   "execution_count": 10,
   "metadata": {},
   "outputs": [],
   "source": [
    "import pandas as pd \n",
    "import matplotlib.pyplot as plt\n",
    "import seaborn as sns\n",
    "\n",
    "# To Load the dataset\n",
    "df = pd.read_csv('../data/fake_news_data.csv')"
   ]
  },
  {
   "cell_type": "code",
   "execution_count": 11,
   "metadata": {},
   "outputs": [
    {
     "name": "stdout",
     "output_type": "stream",
     "text": [
      "Dataset Info:\n",
      "<class 'pandas.core.frame.DataFrame'>\n",
      "RangeIndex: 15337 entries, 0 to 15336\n",
      "Data columns (total 6 columns):\n",
      " #   Column         Non-Null Count  Dtype \n",
      "---  ------         --------------  ----- \n",
      " 0   article_id     15337 non-null  int64 \n",
      " 1   title          15017 non-null  object\n",
      " 2   description    15291 non-null  object\n",
      " 3   news_url       15128 non-null  object\n",
      " 4   source_domain  15128 non-null  object\n",
      " 5   real           15337 non-null  int64 \n",
      "dtypes: int64(2), object(4)\n",
      "memory usage: 719.0+ KB\n",
      "None\n"
     ]
    }
   ],
   "source": [
    "# Dataset Information\n",
    "print(\"Dataset Info:\")\n",
    "print(df.info()) "
   ]
  },
  {
   "cell_type": "code",
   "execution_count": 12,
   "metadata": {},
   "outputs": [
    {
     "name": "stdout",
     "output_type": "stream",
     "text": [
      "\n",
      "First 5 Rows of the Dataset:\n",
      "   article_id                                              title  \\\n",
      "0          42  Watch The Exact Moment Paul Ryan Committed Pol...   \n",
      "1         527        Kerry to go to Paris in gesture of sympathy   \n",
      "2          63  Bernie supporters on Twitter erupt in anger ag...   \n",
      "3          20   The Battle of New York: Why This Primary Matters   \n",
      "4          38                                        Tehran, USA   \n",
      "\n",
      "                                         description  \\\n",
      "0  Google Pinterest Digg Linkedin Reddit Stumbleu...   \n",
      "1  U.S. Secretary of State John F. Kerry said Mon...   \n",
      "2  — Kaydee King (@KaydeeKing) November 9, 2016 T...   \n",
      "3  It's primary day in New York and front-runners...   \n",
      "4    \\nI’m not an immigrant, but my grandparents ...   \n",
      "\n",
      "                                            news_url        source_domain  \\\n",
      "0  http://toofab.com/2017/05/08/real-housewives-a...           toofab.com   \n",
      "1  https://www.today.com/style/see-people-s-choic...        www.today.com   \n",
      "2  https://www.etonline.com/news/220806_sophia_bu...     www.etonline.com   \n",
      "3  https://www.dailymail.co.uk/news/article-33655...  www.dailymail.co.uk   \n",
      "4  https://www.zerchoo.com/entertainment/gossip-g...      www.zerchoo.com   \n",
      "\n",
      "   real  \n",
      "0     1  \n",
      "1     0  \n",
      "2     1  \n",
      "3     1  \n",
      "4     1  \n"
     ]
    }
   ],
   "source": [
    "# To display first 5 rows of the dataset\n",
    "print(\"\\nFirst 5 Rows of the Dataset:\")\n",
    "print(df.head())  "
   ]
  },
  {
   "cell_type": "code",
   "execution_count": 13,
   "metadata": {},
   "outputs": [
    {
     "name": "stdout",
     "output_type": "stream",
     "text": [
      "\n",
      "Missing Values Count:\n",
      "article_id         0\n",
      "title            320\n",
      "description       46\n",
      "news_url         209\n",
      "source_domain    209\n",
      "real               0\n",
      "dtype: int64\n",
      "\n",
      "Total Missing Values in the Dataset: 784\n"
     ]
    }
   ],
   "source": [
    "# Checking for missing values\n",
    "missing_values = df.isnull().sum()\n",
    "total_missing = missing_values.sum() \n",
    "print(\"\\nMissing Values Count:\")\n",
    "print(missing_values)  \n",
    "print(f\"\\nTotal Missing Values in the Dataset: {total_missing}\")"
   ]
  },
  {
   "cell_type": "code",
   "execution_count": 14,
   "metadata": {},
   "outputs": [
    {
     "name": "stdout",
     "output_type": "stream",
     "text": [
      "\n",
      "Number of Duplicate Titles: 2899\n"
     ]
    }
   ],
   "source": [
    "# Checking for duplicates values based on the 'title'\n",
    "num_duplicates = df.duplicated(subset='title').sum()\n",
    "print(f\"\\nNumber of Duplicate Titles: {num_duplicates}\")"
   ]
  },
  {
   "cell_type": "code",
   "execution_count": 15,
   "metadata": {},
   "outputs": [
    {
     "name": "stdout",
     "output_type": "stream",
     "text": [
      "\n",
      "Distribution of Real vs Fake News:\n",
      "real\n",
      "0    8320\n",
      "1    7017\n",
      "Name: count, dtype: int64\n"
     ]
    }
   ],
   "source": [
    "# Show value counts for the 'real' column (fake or real news)\n",
    "print(\"\\nDistribution of Real vs Fake News:\")\n",
    "print(df['real'].value_counts())"
   ]
  },
  {
   "cell_type": "code",
   "execution_count": 16,
   "metadata": {},
   "outputs": [
    {
     "name": "stderr",
     "output_type": "stream",
     "text": [
      "C:\\Users\\ejaz4\\AppData\\Local\\Temp\\ipykernel_32064\\113273723.py:10: FutureWarning: \n",
      "\n",
      "Passing `palette` without assigning `hue` is deprecated and will be removed in v0.14.0. Assign the `x` variable to `hue` and set `legend=False` for the same effect.\n",
      "\n",
      "  sns.barplot(data=real_counts_df, x='Type', y='Percentage', palette='viridis')\n"
     ]
    },
    {
     "data": {
      "image/png": "[encoded data removed]",
      "text/plain": [
       "<Figure size 1000x500 with 1 Axes>"
      ]
     },
     "metadata": {},
     "output_type": "display_data"
    }
   ],
   "source": [
    "# Distribution of 'real' or 'Fake' column as percentages\n",
    "real_counts = df['real'].value_counts(normalize=True) * 100 \n",
    "real_counts = real_counts.sort_index()\n",
    "\n",
    "# Creating a DataFrame for plotting\n",
    "real_counts_df = pd.DataFrame({'Type': ['Fake', 'Real'], 'Percentage': real_counts.values})\n",
    "\n",
    "# Plot the percentage distribution\n",
    "plt.figure(figsize=(10, 5))\n",
    "sns.barplot(data=real_counts_df, x='Type', y='Percentage', palette='viridis')\n",
    "plt.title('Percentage Distribution of Real vs Fake News')\n",
    "plt.xlabel('News Type (0 = Fake, 1 = Real)')\n",
    "plt.ylabel('Percentage (%)')\n",
    "plt.ylim(0, 100)\n",
    "plt.show()"
   ]
  }
 ],
 "metadata": {
  "kernelspec": {
   "display_name": "myenv",
   "language": "python",
   "name": "python3"
  },
  "language_info": {
   "codemirror_mode": {
    "name": "ipython",
    "version": 3
   },
   "file_extension": ".py",
   "mimetype": "text/x-python",
   "name": "python",
   "nbconvert_exporter": "python",
   "pygments_lexer": "ipython3",
   "version": "3.10.11"
  }
 },
 "nbformat": 4,
 "nbformat_minor": 2
}
