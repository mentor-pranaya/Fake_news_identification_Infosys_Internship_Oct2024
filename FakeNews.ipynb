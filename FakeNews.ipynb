{
 "cells": [
  {
   "cell_type": "markdown",
   "id": "803a6f93-68d2-4bdc-a886-55323b4995c6",
   "metadata": {},
   "source": [
    "# Loading Data"
   ]
  },
  {
   "cell_type": "markdown",
   "id": "da3a2c45-dd7e-4e6a-8628-37f7044d33b3",
   "metadata": {},
   "source": [
    "### Adding libraries needed"
   ]
  },
  {
   "cell_type": "code",
   "execution_count": 42,
   "id": "febc6861-3ac6-452c-92ac-4bca6ea02478",
   "metadata": {},
   "outputs": [],
   "source": [
    "import pandas as pd\n",
    "import matplotlib.pyplot as plt\n",
    "import nltk\n",
    "from nltk.corpus import stopwords\n",
    "from nltk.tokenize import word_tokenize\n",
    "import string"
   ]
  },
  {
   "cell_type": "code",
   "execution_count": 28,
   "id": "4e26a0ac-4d52-4168-90cb-d1d4d4a6b102",
   "metadata": {},
   "outputs": [
    {
     "data": {
      "text/html": [
       "<div>\n",
       "<style scoped>\n",
       "    .dataframe tbody tr th:only-of-type {\n",
       "        vertical-align: middle;\n",
       "    }\n",
       "\n",
       "    .dataframe tbody tr th {\n",
       "        vertical-align: top;\n",
       "    }\n",
       "\n",
       "    .dataframe thead th {\n",
       "        text-align: right;\n",
       "    }\n",
       "</style>\n",
       "<table border=\"1\" class=\"dataframe\">\n",
       "  <thead>\n",
       "    <tr style=\"text-align: right;\">\n",
       "      <th></th>\n",
       "      <th>title</th>\n",
       "      <th>text</th>\n",
       "      <th>subject</th>\n",
       "      <th>date</th>\n",
       "      <th>type</th>\n",
       "    </tr>\n",
       "  </thead>\n",
       "  <tbody>\n",
       "    <tr>\n",
       "      <th>0</th>\n",
       "      <td>As U.S. budget fight looms, Republicans flip t...</td>\n",
       "      <td>WASHINGTON (Reuters) - The head of a conservat...</td>\n",
       "      <td>politicsNews</td>\n",
       "      <td>31-Dec-17</td>\n",
       "      <td>1</td>\n",
       "    </tr>\n",
       "    <tr>\n",
       "      <th>1</th>\n",
       "      <td>U.S. military to accept transgender recruits o...</td>\n",
       "      <td>WASHINGTON (Reuters) - Transgender people will...</td>\n",
       "      <td>politicsNews</td>\n",
       "      <td>29-Dec-17</td>\n",
       "      <td>1</td>\n",
       "    </tr>\n",
       "    <tr>\n",
       "      <th>2</th>\n",
       "      <td>Senior U.S. Republican senator: 'Let Mr. Muell...</td>\n",
       "      <td>WASHINGTON (Reuters) - The special counsel inv...</td>\n",
       "      <td>politicsNews</td>\n",
       "      <td>31-Dec-17</td>\n",
       "      <td>1</td>\n",
       "    </tr>\n",
       "    <tr>\n",
       "      <th>3</th>\n",
       "      <td>FBI Russia probe helped by Australian diplomat...</td>\n",
       "      <td>WASHINGTON (Reuters) - Trump campaign adviser ...</td>\n",
       "      <td>politicsNews</td>\n",
       "      <td>30-Dec-17</td>\n",
       "      <td>1</td>\n",
       "    </tr>\n",
       "    <tr>\n",
       "      <th>4</th>\n",
       "      <td>Trump wants Postal Service to charge 'much mor...</td>\n",
       "      <td>SEATTLE/WASHINGTON (Reuters) - President Donal...</td>\n",
       "      <td>politicsNews</td>\n",
       "      <td>29-Dec-17</td>\n",
       "      <td>1</td>\n",
       "    </tr>\n",
       "    <tr>\n",
       "      <th>...</th>\n",
       "      <td>...</td>\n",
       "      <td>...</td>\n",
       "      <td>...</td>\n",
       "      <td>...</td>\n",
       "      <td>...</td>\n",
       "    </tr>\n",
       "    <tr>\n",
       "      <th>44914</th>\n",
       "      <td>McPain: John McCain Furious That Iran Treated ...</td>\n",
       "      <td>21st Century Wire says As 21WIRE reported earl...</td>\n",
       "      <td>Middle-east</td>\n",
       "      <td>16-Jan-16</td>\n",
       "      <td>0</td>\n",
       "    </tr>\n",
       "    <tr>\n",
       "      <th>44915</th>\n",
       "      <td>JUSTICE? Yahoo Settles E-mail Privacy Class-ac...</td>\n",
       "      <td>21st Century Wire says It s a familiar theme. ...</td>\n",
       "      <td>Middle-east</td>\n",
       "      <td>16-Jan-16</td>\n",
       "      <td>0</td>\n",
       "    </tr>\n",
       "    <tr>\n",
       "      <th>44916</th>\n",
       "      <td>Sunnistan: US and Allied ‘Safe Zone’ Plan to T...</td>\n",
       "      <td>Patrick Henningsen  21st Century WireRemember ...</td>\n",
       "      <td>Middle-east</td>\n",
       "      <td>15-Jan-16</td>\n",
       "      <td>0</td>\n",
       "    </tr>\n",
       "    <tr>\n",
       "      <th>44917</th>\n",
       "      <td>How to Blow $700 Million: Al Jazeera America F...</td>\n",
       "      <td>21st Century Wire says Al Jazeera America will...</td>\n",
       "      <td>Middle-east</td>\n",
       "      <td>14-Jan-16</td>\n",
       "      <td>0</td>\n",
       "    </tr>\n",
       "    <tr>\n",
       "      <th>44918</th>\n",
       "      <td>10 U.S. Navy Sailors Held by Iranian Military ...</td>\n",
       "      <td>21st Century Wire says As 21WIRE predicted in ...</td>\n",
       "      <td>Middle-east</td>\n",
       "      <td>12-Jan-16</td>\n",
       "      <td>0</td>\n",
       "    </tr>\n",
       "  </tbody>\n",
       "</table>\n",
       "<p>44919 rows × 5 columns</p>\n",
       "</div>"
      ],
      "text/plain": [
       "                                                   title  \\\n",
       "0      As U.S. budget fight looms, Republicans flip t...   \n",
       "1      U.S. military to accept transgender recruits o...   \n",
       "2      Senior U.S. Republican senator: 'Let Mr. Muell...   \n",
       "3      FBI Russia probe helped by Australian diplomat...   \n",
       "4      Trump wants Postal Service to charge 'much mor...   \n",
       "...                                                  ...   \n",
       "44914  McPain: John McCain Furious That Iran Treated ...   \n",
       "44915  JUSTICE? Yahoo Settles E-mail Privacy Class-ac...   \n",
       "44916  Sunnistan: US and Allied ‘Safe Zone’ Plan to T...   \n",
       "44917  How to Blow $700 Million: Al Jazeera America F...   \n",
       "44918  10 U.S. Navy Sailors Held by Iranian Military ...   \n",
       "\n",
       "                                                    text       subject  \\\n",
       "0      WASHINGTON (Reuters) - The head of a conservat...  politicsNews   \n",
       "1      WASHINGTON (Reuters) - Transgender people will...  politicsNews   \n",
       "2      WASHINGTON (Reuters) - The special counsel inv...  politicsNews   \n",
       "3      WASHINGTON (Reuters) - Trump campaign adviser ...  politicsNews   \n",
       "4      SEATTLE/WASHINGTON (Reuters) - President Donal...  politicsNews   \n",
       "...                                                  ...           ...   \n",
       "44914  21st Century Wire says As 21WIRE reported earl...   Middle-east   \n",
       "44915  21st Century Wire says It s a familiar theme. ...   Middle-east   \n",
       "44916  Patrick Henningsen  21st Century WireRemember ...   Middle-east   \n",
       "44917  21st Century Wire says Al Jazeera America will...   Middle-east   \n",
       "44918  21st Century Wire says As 21WIRE predicted in ...   Middle-east   \n",
       "\n",
       "            date  type  \n",
       "0      31-Dec-17     1  \n",
       "1      29-Dec-17     1  \n",
       "2      31-Dec-17     1  \n",
       "3      30-Dec-17     1  \n",
       "4      29-Dec-17     1  \n",
       "...          ...   ...  \n",
       "44914  16-Jan-16     0  \n",
       "44915  16-Jan-16     0  \n",
       "44916  15-Jan-16     0  \n",
       "44917  14-Jan-16     0  \n",
       "44918  12-Jan-16     0  \n",
       "\n",
       "[44919 rows x 5 columns]"
      ]
     },
     "execution_count": 28,
     "metadata": {},
     "output_type": "execute_result"
    }
   ],
   "source": [
    "## Load the CSV file into a DataFrame\n",
    "data = pd.read_csv('final_dataset.csv')\n",
    "data\n"
   ]
  },
  {
   "cell_type": "markdown",
   "id": "a153c770-ad13-456c-846f-a36b8c4c5545",
   "metadata": {},
   "source": [
    "# Data Exploration"
   ]
  },
  {
   "cell_type": "markdown",
   "id": "e1c35488-aa20-4ec3-8e9b-3317bcc65c33",
   "metadata": {},
   "source": [
    "#### data description "
   ]
  },
  {
   "cell_type": "code",
   "execution_count": 6,
   "id": "4999da7f-59d2-4e23-86c6-a1ec54111049",
   "metadata": {},
   "outputs": [
    {
     "data": {
      "text/html": [
       "<div>\n",
       "<style scoped>\n",
       "    .dataframe tbody tr th:only-of-type {\n",
       "        vertical-align: middle;\n",
       "    }\n",
       "\n",
       "    .dataframe tbody tr th {\n",
       "        vertical-align: top;\n",
       "    }\n",
       "\n",
       "    .dataframe thead th {\n",
       "        text-align: right;\n",
       "    }\n",
       "</style>\n",
       "<table border=\"1\" class=\"dataframe\">\n",
       "  <thead>\n",
       "    <tr style=\"text-align: right;\">\n",
       "      <th></th>\n",
       "      <th>type</th>\n",
       "    </tr>\n",
       "  </thead>\n",
       "  <tbody>\n",
       "    <tr>\n",
       "      <th>count</th>\n",
       "      <td>44919.000000</td>\n",
       "    </tr>\n",
       "    <tr>\n",
       "      <th>mean</th>\n",
       "      <td>0.476792</td>\n",
       "    </tr>\n",
       "    <tr>\n",
       "      <th>std</th>\n",
       "      <td>0.499467</td>\n",
       "    </tr>\n",
       "    <tr>\n",
       "      <th>min</th>\n",
       "      <td>0.000000</td>\n",
       "    </tr>\n",
       "    <tr>\n",
       "      <th>25%</th>\n",
       "      <td>0.000000</td>\n",
       "    </tr>\n",
       "    <tr>\n",
       "      <th>50%</th>\n",
       "      <td>0.000000</td>\n",
       "    </tr>\n",
       "    <tr>\n",
       "      <th>75%</th>\n",
       "      <td>1.000000</td>\n",
       "    </tr>\n",
       "    <tr>\n",
       "      <th>max</th>\n",
       "      <td>1.000000</td>\n",
       "    </tr>\n",
       "  </tbody>\n",
       "</table>\n",
       "</div>"
      ],
      "text/plain": [
       "               type\n",
       "count  44919.000000\n",
       "mean       0.476792\n",
       "std        0.499467\n",
       "min        0.000000\n",
       "25%        0.000000\n",
       "50%        0.000000\n",
       "75%        1.000000\n",
       "max        1.000000"
      ]
     },
     "execution_count": 6,
     "metadata": {},
     "output_type": "execute_result"
    }
   ],
   "source": [
    "data.describe()"
   ]
  },
  {
   "cell_type": "markdown",
   "id": "3cbfaeb7-d915-4623-8de4-f1efb92fcb15",
   "metadata": {},
   "source": [
    "### Features of columns in dataset \n",
    "    >TITLE- TITLE OF NEWS \n",
    "\t>TEXT- DESCRIPTION OF THE NEWS\n",
    "\t>SUBJECT- Shows Type of News \n",
    "\t>DATA - Shows date of news \n",
    "\t>TYPE- shows news is true or false news(1(true) and 0(false))"
   ]
  },
  {
   "cell_type": "code",
   "execution_count": 20,
   "id": "5203da22-b459-4058-87e9-6370aaa0a53a",
   "metadata": {},
   "outputs": [
    {
     "data": {
      "text/plain": [
       "Index(['title', 'text', 'subject', 'date', 'type'], dtype='object')"
      ]
     },
     "execution_count": 20,
     "metadata": {},
     "output_type": "execute_result"
    }
   ],
   "source": [
    "data.columns"
   ]
  },
  {
   "cell_type": "markdown",
   "id": "b29e63fb-d95b-476b-ad3b-9a48c96dbd42",
   "metadata": {},
   "source": [
    "#### Knowing datatypes of each column"
   ]
  },
  {
   "cell_type": "code",
   "execution_count": 23,
   "id": "0a22fb65-9363-4f26-b03f-2da29e3b7aa0",
   "metadata": {},
   "outputs": [
    {
     "data": {
      "text/plain": [
       "title      object\n",
       "text       object\n",
       "subject    object\n",
       "date       object\n",
       "type        int64\n",
       "dtype: object"
      ]
     },
     "execution_count": 23,
     "metadata": {},
     "output_type": "execute_result"
    }
   ],
   "source": [
    "data.dtypes"
   ]
  },
  {
   "cell_type": "markdown",
   "id": "538ab06d-e71a-4f3c-b740-e552d3e492d7",
   "metadata": {},
   "source": [
    "#### Histogram plotted based on type of data "
   ]
  },
  {
   "cell_type": "code",
   "execution_count": 24,
   "id": "38c25523-d4f2-461e-a9d2-2ab31eb41be2",
   "metadata": {},
   "outputs": [
    {
     "data": {
      "text/plain": [
       "array([[<Axes: title={'center': 'type'}>]], dtype=object)"
      ]
     },
     "execution_count": 24,
     "metadata": {},
     "output_type": "execute_result"
    },
    {
     "data": {
      "image/png": "[encoded data removed]",
      "text/plain": [
       "<Figure size 640x480 with 1 Axes>"
      ]
     },
     "metadata": {},
     "output_type": "display_data"
    }
   ],
   "source": [
    "data.hist(bins=60)"
   ]
  },
  {
   "cell_type": "code",
   "execution_count": 30,
   "id": "9d8698ce-8173-4746-a807-a2ef42018c60",
   "metadata": {},
   "outputs": [
    {
     "data": {
      "text/plain": [
       "array([1, 0], dtype=int64)"
      ]
     },
     "execution_count": 30,
     "metadata": {},
     "output_type": "execute_result"
    }
   ],
   "source": [
    "data['type'].unique()"
   ]
  },
  {
   "cell_type": "markdown",
   "id": "2a3c1581-029f-40b4-9f2e-45b373be6a89",
   "metadata": {},
   "source": [
    "#### Comparing true news and fake news via bar graph "
   ]
  },
  {
   "cell_type": "code",
   "execution_count": 32,
   "id": "3d65a411-a2a8-490f-aeeb-4b7194b42a13",
   "metadata": {},
   "outputs": [
    {
     "data": {
      "text/plain": [
       "<Axes: xlabel='type'>"
      ]
     },
     "execution_count": 32,
     "metadata": {},
     "output_type": "execute_result"
    },
    {
     "data": {
      "image/png": "[encoded data removed]",
      "text/plain": [
       "<Figure size 640x480 with 1 Axes>"
      ]
     },
     "metadata": {},
     "output_type": "display_data"
    }
   ],
   "source": [
    "data['type'].value_counts().plot(kind='bar')"
   ]
  },
  {
   "cell_type": "markdown",
   "id": "c504f139-dfbe-47e3-b688-ade39ac8b7c6",
   "metadata": {},
   "source": [
    "### Checking values for each columns "
   ]
  },
  {
   "cell_type": "code",
   "execution_count": 39,
   "id": "8c7c25f6-7b72-4fa6-a7c5-07a4191d6780",
   "metadata": {},
   "outputs": [
    {
     "data": {
      "text/plain": [
       "type\n",
       "0    23502\n",
       "1    21417\n",
       "Name: count, dtype: int64"
      ]
     },
     "execution_count": 39,
     "metadata": {},
     "output_type": "execute_result"
    }
   ],
   "source": [
    "data['type'].value_counts()"
   ]
  },
  {
   "cell_type": "code",
   "execution_count": 36,
   "id": "68f63dae-ac93-48b3-b9db-055e8295a6e7",
   "metadata": {},
   "outputs": [
    {
     "data": {
      "text/plain": [
       "44919"
      ]
     },
     "execution_count": 36,
     "metadata": {},
     "output_type": "execute_result"
    }
   ],
   "source": [
    "data['text'].value_counts().sum()"
   ]
  },
  {
   "cell_type": "code",
   "execution_count": 37,
   "id": "831f3c04-c269-4b84-adaf-1cd102b176fb",
   "metadata": {},
   "outputs": [
    {
     "data": {
      "text/plain": [
       "title\n",
       "Factbox: Trump fills top jobs for his administration                                                     14\n",
       "Factbox: Contenders for senior jobs in Trump's administration                                             8\n",
       "Highlights: The Trump presidency on April 13 at 9:30 P.M. EDT/0130 GMT on Friday                          8\n",
       "Factbox: International reaction to arrest of Reuters reporters in Myanmar                                 6\n",
       "MEDIA IGNORES Time That Bill Clinton FIRED His FBI Director On Day Before Vince Foster Was Found Dead     6\n",
       "                                                                                                         ..\n",
       "Pope heads for Bangladesh after diplomatic balancing act in Myanmar                                       1\n",
       "Japan emperor to cede all public duties after abdication: prince                                          1\n",
       "Russia's Lavrov: little difference between policies of Trump and Obama - RIA                              1\n",
       "Election crisis engulfs Honduras with rivals neck-and-neck                                                1\n",
       "A Troubled King: Chicago’s Rahm Emanuel Desperate to Save His 2020 Presidential Run                       1\n",
       "Name: count, Length: 38740, dtype: int64"
      ]
     },
     "execution_count": 37,
     "metadata": {},
     "output_type": "execute_result"
    }
   ],
   "source": [
    "data['title'].value_counts()"
   ]
  },
  {
   "cell_type": "markdown",
   "id": "71575de9-24c4-4b5e-a5bc-af3829bab33a",
   "metadata": {},
   "source": [
    "# Data cleaning"
   ]
  },
  {
   "cell_type": "markdown",
   "id": "bf714b1e-ec1d-434c-9b3e-0b92497f2484",
   "metadata": {},
   "source": [
    "### Checking colums and Removing unnecessary columns "
   ]
  },
  {
   "cell_type": "code",
   "execution_count": 7,
   "id": "3aee36d1-7a69-40f7-8913-fea2ff0108b4",
   "metadata": {},
   "outputs": [
    {
     "data": {
      "text/plain": [
       "Index(['title', 'text', 'subject', 'date', 'type'], dtype='object')"
      ]
     },
     "execution_count": 7,
     "metadata": {},
     "output_type": "execute_result"
    }
   ],
   "source": [
    "data.columns"
   ]
  },
  {
   "cell_type": "code",
   "execution_count": 8,
   "id": "75c2e3dc-76f2-43e4-a345-696b96879206",
   "metadata": {},
   "outputs": [
    {
     "data": {
      "text/html": [
       "<div>\n",
       "<style scoped>\n",
       "    .dataframe tbody tr th:only-of-type {\n",
       "        vertical-align: middle;\n",
       "    }\n",
       "\n",
       "    .dataframe tbody tr th {\n",
       "        vertical-align: top;\n",
       "    }\n",
       "\n",
       "    .dataframe thead th {\n",
       "        text-align: right;\n",
       "    }\n",
       "</style>\n",
       "<table border=\"1\" class=\"dataframe\">\n",
       "  <thead>\n",
       "    <tr style=\"text-align: right;\">\n",
       "      <th></th>\n",
       "      <th>title</th>\n",
       "      <th>text</th>\n",
       "      <th>type</th>\n",
       "    </tr>\n",
       "  </thead>\n",
       "  <tbody>\n",
       "    <tr>\n",
       "      <th>0</th>\n",
       "      <td>As U.S. budget fight looms, Republicans flip t...</td>\n",
       "      <td>WASHINGTON (Reuters) - The head of a conservat...</td>\n",
       "      <td>1</td>\n",
       "    </tr>\n",
       "    <tr>\n",
       "      <th>1</th>\n",
       "      <td>U.S. military to accept transgender recruits o...</td>\n",
       "      <td>WASHINGTON (Reuters) - Transgender people will...</td>\n",
       "      <td>1</td>\n",
       "    </tr>\n",
       "    <tr>\n",
       "      <th>2</th>\n",
       "      <td>Senior U.S. Republican senator: 'Let Mr. Muell...</td>\n",
       "      <td>WASHINGTON (Reuters) - The special counsel inv...</td>\n",
       "      <td>1</td>\n",
       "    </tr>\n",
       "    <tr>\n",
       "      <th>3</th>\n",
       "      <td>FBI Russia probe helped by Australian diplomat...</td>\n",
       "      <td>WASHINGTON (Reuters) - Trump campaign adviser ...</td>\n",
       "      <td>1</td>\n",
       "    </tr>\n",
       "    <tr>\n",
       "      <th>4</th>\n",
       "      <td>Trump wants Postal Service to charge 'much mor...</td>\n",
       "      <td>SEATTLE/WASHINGTON (Reuters) - President Donal...</td>\n",
       "      <td>1</td>\n",
       "    </tr>\n",
       "    <tr>\n",
       "      <th>...</th>\n",
       "      <td>...</td>\n",
       "      <td>...</td>\n",
       "      <td>...</td>\n",
       "    </tr>\n",
       "    <tr>\n",
       "      <th>44914</th>\n",
       "      <td>McPain: John McCain Furious That Iran Treated ...</td>\n",
       "      <td>21st Century Wire says As 21WIRE reported earl...</td>\n",
       "      <td>0</td>\n",
       "    </tr>\n",
       "    <tr>\n",
       "      <th>44915</th>\n",
       "      <td>JUSTICE? Yahoo Settles E-mail Privacy Class-ac...</td>\n",
       "      <td>21st Century Wire says It s a familiar theme. ...</td>\n",
       "      <td>0</td>\n",
       "    </tr>\n",
       "    <tr>\n",
       "      <th>44916</th>\n",
       "      <td>Sunnistan: US and Allied ‘Safe Zone’ Plan to T...</td>\n",
       "      <td>Patrick Henningsen  21st Century WireRemember ...</td>\n",
       "      <td>0</td>\n",
       "    </tr>\n",
       "    <tr>\n",
       "      <th>44917</th>\n",
       "      <td>How to Blow $700 Million: Al Jazeera America F...</td>\n",
       "      <td>21st Century Wire says Al Jazeera America will...</td>\n",
       "      <td>0</td>\n",
       "    </tr>\n",
       "    <tr>\n",
       "      <th>44918</th>\n",
       "      <td>10 U.S. Navy Sailors Held by Iranian Military ...</td>\n",
       "      <td>21st Century Wire says As 21WIRE predicted in ...</td>\n",
       "      <td>0</td>\n",
       "    </tr>\n",
       "  </tbody>\n",
       "</table>\n",
       "<p>44919 rows × 3 columns</p>\n",
       "</div>"
      ],
      "text/plain": [
       "                                                   title  \\\n",
       "0      As U.S. budget fight looms, Republicans flip t...   \n",
       "1      U.S. military to accept transgender recruits o...   \n",
       "2      Senior U.S. Republican senator: 'Let Mr. Muell...   \n",
       "3      FBI Russia probe helped by Australian diplomat...   \n",
       "4      Trump wants Postal Service to charge 'much mor...   \n",
       "...                                                  ...   \n",
       "44914  McPain: John McCain Furious That Iran Treated ...   \n",
       "44915  JUSTICE? Yahoo Settles E-mail Privacy Class-ac...   \n",
       "44916  Sunnistan: US and Allied ‘Safe Zone’ Plan to T...   \n",
       "44917  How to Blow $700 Million: Al Jazeera America F...   \n",
       "44918  10 U.S. Navy Sailors Held by Iranian Military ...   \n",
       "\n",
       "                                                    text  type  \n",
       "0      WASHINGTON (Reuters) - The head of a conservat...     1  \n",
       "1      WASHINGTON (Reuters) - Transgender people will...     1  \n",
       "2      WASHINGTON (Reuters) - The special counsel inv...     1  \n",
       "3      WASHINGTON (Reuters) - Trump campaign adviser ...     1  \n",
       "4      SEATTLE/WASHINGTON (Reuters) - President Donal...     1  \n",
       "...                                                  ...   ...  \n",
       "44914  21st Century Wire says As 21WIRE reported earl...     0  \n",
       "44915  21st Century Wire says It s a familiar theme. ...     0  \n",
       "44916  Patrick Henningsen  21st Century WireRemember ...     0  \n",
       "44917  21st Century Wire says Al Jazeera America will...     0  \n",
       "44918  21st Century Wire says As 21WIRE predicted in ...     0  \n",
       "\n",
       "[44919 rows x 3 columns]"
      ]
     },
     "execution_count": 8,
     "metadata": {},
     "output_type": "execute_result"
    }
   ],
   "source": [
    "#removal of unnecessary data \n",
    "df=data[['title','text','type']]\n",
    "df"
   ]
  },
  {
   "cell_type": "markdown",
   "id": "28a852c4-ef0c-4606-8417-c4066f267a21",
   "metadata": {},
   "source": [
    "### checking for nulls and duplicate values"
   ]
  },
  {
   "cell_type": "code",
   "execution_count": 9,
   "id": "288ad31d-ba91-4e83-b21c-c1fe1eb93f37",
   "metadata": {},
   "outputs": [
    {
     "data": {
      "text/plain": [
       "title    0\n",
       "text     0\n",
       "type     0\n",
       "dtype: int64"
      ]
     },
     "execution_count": 9,
     "metadata": {},
     "output_type": "execute_result"
    }
   ],
   "source": [
    "df.isna().sum()"
   ]
  },
  {
   "cell_type": "code",
   "execution_count": 10,
   "id": "e5ef34ac-93be-4d36-8d34-2fc6279ea884",
   "metadata": {},
   "outputs": [
    {
     "data": {
      "text/plain": [
       "6262"
      ]
     },
     "execution_count": 10,
     "metadata": {},
     "output_type": "execute_result"
    }
   ],
   "source": [
    "#checking for duplicates \n",
    "df['text'].duplicated().sum()\n"
   ]
  },
  {
   "cell_type": "markdown",
   "id": "0b8ae050-9755-4b20-a2b2-e789aba6a03e",
   "metadata": {},
   "source": [
    "#### dropping duplicate values"
   ]
  },
  {
   "cell_type": "code",
   "execution_count": 15,
   "id": "5d366221-da2f-43b3-b78c-5d2e6a5833bb",
   "metadata": {},
   "outputs": [
    {
     "data": {
      "text/html": [
       "<div>\n",
       "<style scoped>\n",
       "    .dataframe tbody tr th:only-of-type {\n",
       "        vertical-align: middle;\n",
       "    }\n",
       "\n",
       "    .dataframe tbody tr th {\n",
       "        vertical-align: top;\n",
       "    }\n",
       "\n",
       "    .dataframe thead th {\n",
       "        text-align: right;\n",
       "    }\n",
       "</style>\n",
       "<table border=\"1\" class=\"dataframe\">\n",
       "  <thead>\n",
       "    <tr style=\"text-align: right;\">\n",
       "      <th></th>\n",
       "      <th>title</th>\n",
       "      <th>text</th>\n",
       "      <th>type</th>\n",
       "    </tr>\n",
       "  </thead>\n",
       "  <tbody>\n",
       "    <tr>\n",
       "      <th>0</th>\n",
       "      <td>As U.S. budget fight looms, Republicans flip t...</td>\n",
       "      <td>WASHINGTON (Reuters) - The head of a conservat...</td>\n",
       "      <td>1</td>\n",
       "    </tr>\n",
       "    <tr>\n",
       "      <th>1</th>\n",
       "      <td>U.S. military to accept transgender recruits o...</td>\n",
       "      <td>WASHINGTON (Reuters) - Transgender people will...</td>\n",
       "      <td>1</td>\n",
       "    </tr>\n",
       "    <tr>\n",
       "      <th>2</th>\n",
       "      <td>Senior U.S. Republican senator: 'Let Mr. Muell...</td>\n",
       "      <td>WASHINGTON (Reuters) - The special counsel inv...</td>\n",
       "      <td>1</td>\n",
       "    </tr>\n",
       "    <tr>\n",
       "      <th>3</th>\n",
       "      <td>FBI Russia probe helped by Australian diplomat...</td>\n",
       "      <td>WASHINGTON (Reuters) - Trump campaign adviser ...</td>\n",
       "      <td>1</td>\n",
       "    </tr>\n",
       "    <tr>\n",
       "      <th>4</th>\n",
       "      <td>Trump wants Postal Service to charge 'much mor...</td>\n",
       "      <td>SEATTLE/WASHINGTON (Reuters) - President Donal...</td>\n",
       "      <td>1</td>\n",
       "    </tr>\n",
       "    <tr>\n",
       "      <th>...</th>\n",
       "      <td>...</td>\n",
       "      <td>...</td>\n",
       "      <td>...</td>\n",
       "    </tr>\n",
       "    <tr>\n",
       "      <th>44128</th>\n",
       "      <td>The White House and The Theatrics of ‘Gun Cont...</td>\n",
       "      <td>21st Century Wire says All the world s a stage...</td>\n",
       "      <td>0</td>\n",
       "    </tr>\n",
       "    <tr>\n",
       "      <th>44129</th>\n",
       "      <td>Activists or Terrorists? How Media Controls an...</td>\n",
       "      <td>Randy Johnson 21st Century WireThe majority ...</td>\n",
       "      <td>0</td>\n",
       "    </tr>\n",
       "    <tr>\n",
       "      <th>44130</th>\n",
       "      <td>BOILER ROOM – No Surrender, No Retreat, Heads ...</td>\n",
       "      <td>Tune in to the Alternate Current Radio Network...</td>\n",
       "      <td>0</td>\n",
       "    </tr>\n",
       "    <tr>\n",
       "      <th>44131</th>\n",
       "      <td>Federal Showdown Looms in Oregon After BLM Abu...</td>\n",
       "      <td>21st Century Wire says A new front has just op...</td>\n",
       "      <td>0</td>\n",
       "    </tr>\n",
       "    <tr>\n",
       "      <th>44132</th>\n",
       "      <td>A Troubled King: Chicago’s Rahm Emanuel Desper...</td>\n",
       "      <td>21st Century Wire says It s not that far away....</td>\n",
       "      <td>0</td>\n",
       "    </tr>\n",
       "  </tbody>\n",
       "</table>\n",
       "<p>39116 rows × 3 columns</p>\n",
       "</div>"
      ],
      "text/plain": [
       "                                                   title  \\\n",
       "0      As U.S. budget fight looms, Republicans flip t...   \n",
       "1      U.S. military to accept transgender recruits o...   \n",
       "2      Senior U.S. Republican senator: 'Let Mr. Muell...   \n",
       "3      FBI Russia probe helped by Australian diplomat...   \n",
       "4      Trump wants Postal Service to charge 'much mor...   \n",
       "...                                                  ...   \n",
       "44128  The White House and The Theatrics of ‘Gun Cont...   \n",
       "44129  Activists or Terrorists? How Media Controls an...   \n",
       "44130  BOILER ROOM – No Surrender, No Retreat, Heads ...   \n",
       "44131  Federal Showdown Looms in Oregon After BLM Abu...   \n",
       "44132  A Troubled King: Chicago’s Rahm Emanuel Desper...   \n",
       "\n",
       "                                                    text  type  \n",
       "0      WASHINGTON (Reuters) - The head of a conservat...     1  \n",
       "1      WASHINGTON (Reuters) - Transgender people will...     1  \n",
       "2      WASHINGTON (Reuters) - The special counsel inv...     1  \n",
       "3      WASHINGTON (Reuters) - Trump campaign adviser ...     1  \n",
       "4      SEATTLE/WASHINGTON (Reuters) - President Donal...     1  \n",
       "...                                                  ...   ...  \n",
       "44128  21st Century Wire says All the world s a stage...     0  \n",
       "44129    Randy Johnson 21st Century WireThe majority ...     0  \n",
       "44130  Tune in to the Alternate Current Radio Network...     0  \n",
       "44131  21st Century Wire says A new front has just op...     0  \n",
       "44132  21st Century Wire says It s not that far away....     0  \n",
       "\n",
       "[39116 rows x 3 columns]"
      ]
     },
     "execution_count": 15,
     "metadata": {},
     "output_type": "execute_result"
    }
   ],
   "source": [
    "df=df.drop_duplicates()\n",
    "df"
   ]
  },
  {
   "cell_type": "code",
   "execution_count": 17,
   "id": "ce0ba518-a263-430a-9134-378e129fab34",
   "metadata": {},
   "outputs": [
    {
     "data": {
      "text/plain": [
       "0"
      ]
     },
     "execution_count": 17,
     "metadata": {},
     "output_type": "execute_result"
    }
   ],
   "source": [
    "df.duplicated().sum()"
   ]
  },
  {
   "cell_type": "markdown",
   "id": "8117296b-0c5c-48ea-b189-d9c14626c36f",
   "metadata": {},
   "source": [
    "### Checking if the data is balanced or not"
   ]
  },
  {
   "cell_type": "code",
   "execution_count": 40,
   "id": "d981143f-d62d-46a7-81db-d6d50900d73c",
   "metadata": {},
   "outputs": [
    {
     "data": {
      "image/png": "[encoded data removed]",
      "text/plain": [
       "<Figure size 640x480 with 1 Axes>"
      ]
     },
     "metadata": {},
     "output_type": "display_data"
    }
   ],
   "source": [
    "pie = df['type'].value_counts()\n",
    "pie.plot(kind='pie', autopct='%1.1f%%')\n",
    "plt.show()"
   ]
  },
  {
   "cell_type": "markdown",
   "id": "1956e240-01fb-4339-9c29-16802d36e170",
   "metadata": {},
   "source": [
    "#### Checking no.of records between the true and false news"
   ]
  },
  {
   "cell_type": "code",
   "execution_count": 41,
   "id": "8b9ab2e2-0fa1-4873-9a19-1a30f10b89bf",
   "metadata": {},
   "outputs": [
    {
     "data": {
      "text/plain": [
       "type\n",
       "1    21197\n",
       "0    17919\n",
       "Name: count, dtype: int64"
      ]
     },
     "execution_count": 41,
     "metadata": {},
     "output_type": "execute_result"
    }
   ],
   "source": [
    "df['type'].value_counts()"
   ]
  },
  {
   "cell_type": "code",
   "execution_count": null,
   "id": "b4916320-8dd2-4552-89f6-3d7cc7357910",
   "metadata": {},
   "outputs": [],
   "source": [
    "# #if there are missing values we can impute data with knn or mean ,mode ,median\n",
    "# from sklearn.impute import KNNImputer \n",
    "# impute=KNNImputer()\n",
    "\n",
    "# for i in df.select_dtypes(include=\"number\").columns:\n",
    "#     df[i]=impute.fit_transform(df[[i]])"
   ]
  },
  {
   "cell_type": "markdown",
   "id": "07e82728-5a76-453b-8f04-783ee24acfca",
   "metadata": {},
   "source": [
    "# Data Pre-processing"
   ]
  },
  {
   "cell_type": "markdown",
   "id": "b058b7eb-f8d5-4661-9c95-147ea76bfdac",
   "metadata": {},
   "source": [
    "## Tokenization and removal of punctuation and stop words "
   ]
  },
  {
   "cell_type": "markdown",
   "id": "3480fa92-5e70-41f7-863e-1d9e32471d88",
   "metadata": {},
   "source": [
    "### Lowercasing alphabets in dataset in title and text"
   ]
  },
  {
   "cell_type": "code",
   "execution_count": 43,
   "id": "108de6c7-978d-4e9f-a5fe-7d1ddab17292",
   "metadata": {},
   "outputs": [],
   "source": [
    "def preprocess_text(text):\n",
    "    text = text.lower()\n",
    "    # Tokenization\n",
    "    tokens = word_tokenize(text)\n",
    "    # Remove punctuation\n",
    "    tokens = [word for word in tokens if word.isalnum()]\n",
    "    # Remove stop words\n",
    "    stop_words = set(stopwords.words('english'))\n",
    "    tokens = [word for word in tokens if word not in stop_words]\n",
    "    return ' '.join(tokens)\n"
   ]
  },
  {
   "cell_type": "code",
   "execution_count": 50,
   "id": "9d4feefc-f8e6-4fc3-bf13-58aa5697427f",
   "metadata": {},
   "outputs": [
    {
     "data": {
      "text/html": [
       "<div>\n",
       "<style scoped>\n",
       "    .dataframe tbody tr th:only-of-type {\n",
       "        vertical-align: middle;\n",
       "    }\n",
       "\n",
       "    .dataframe tbody tr th {\n",
       "        vertical-align: top;\n",
       "    }\n",
       "\n",
       "    .dataframe thead th {\n",
       "        text-align: right;\n",
       "    }\n",
       "</style>\n",
       "<table border=\"1\" class=\"dataframe\">\n",
       "  <thead>\n",
       "    <tr style=\"text-align: right;\">\n",
       "      <th></th>\n",
       "      <th>title</th>\n",
       "      <th>text</th>\n",
       "      <th>type</th>\n",
       "    </tr>\n",
       "  </thead>\n",
       "  <tbody>\n",
       "    <tr>\n",
       "      <th>0</th>\n",
       "      <td>budget fight looms republicans flip fiscal script</td>\n",
       "      <td>washington reuters head conservative republica...</td>\n",
       "      <td>1</td>\n",
       "    </tr>\n",
       "    <tr>\n",
       "      <th>1</th>\n",
       "      <td>military accept transgender recruits monday pe...</td>\n",
       "      <td>washington reuters transgender people allowed ...</td>\n",
       "      <td>1</td>\n",
       "    </tr>\n",
       "    <tr>\n",
       "      <th>2</th>\n",
       "      <td>senior republican senator mueller job</td>\n",
       "      <td>washington reuters special counsel investigati...</td>\n",
       "      <td>1</td>\n",
       "    </tr>\n",
       "    <tr>\n",
       "      <th>3</th>\n",
       "      <td>fbi russia probe helped australian diplomat nyt</td>\n",
       "      <td>washington reuters trump campaign adviser geor...</td>\n",
       "      <td>1</td>\n",
       "    </tr>\n",
       "    <tr>\n",
       "      <th>4</th>\n",
       "      <td>trump wants postal service charge amazon shipm...</td>\n",
       "      <td>reuters president donald trump called postal s...</td>\n",
       "      <td>1</td>\n",
       "    </tr>\n",
       "    <tr>\n",
       "      <th>...</th>\n",
       "      <td>...</td>\n",
       "      <td>...</td>\n",
       "      <td>...</td>\n",
       "    </tr>\n",
       "    <tr>\n",
       "      <th>44128</th>\n",
       "      <td>white house theatrics gun control</td>\n",
       "      <td>21st century wire says world stage men women m...</td>\n",
       "      <td>0</td>\n",
       "    </tr>\n",
       "    <tr>\n",
       "      <th>44129</th>\n",
       "      <td>activists terrorists media controls dictates n...</td>\n",
       "      <td>randy johnson 21st century wirethe majority ma...</td>\n",
       "      <td>0</td>\n",
       "    </tr>\n",
       "    <tr>\n",
       "      <th>44130</th>\n",
       "      <td>boiler room surrender retreat heads roll ep 38</td>\n",
       "      <td>tune alternate current radio network acr anoth...</td>\n",
       "      <td>0</td>\n",
       "    </tr>\n",
       "    <tr>\n",
       "      <th>44131</th>\n",
       "      <td>federal showdown looms oregon blm abuse local ...</td>\n",
       "      <td>21st century wire says new front opened long b...</td>\n",
       "      <td>0</td>\n",
       "    </tr>\n",
       "    <tr>\n",
       "      <th>44132</th>\n",
       "      <td>troubled king chicago rahm emanuel desperate s...</td>\n",
       "      <td>21st century wire says far away guess wants ru...</td>\n",
       "      <td>0</td>\n",
       "    </tr>\n",
       "  </tbody>\n",
       "</table>\n",
       "<p>39116 rows × 3 columns</p>\n",
       "</div>"
      ],
      "text/plain": [
       "                                                   title  \\\n",
       "0      budget fight looms republicans flip fiscal script   \n",
       "1      military accept transgender recruits monday pe...   \n",
       "2                  senior republican senator mueller job   \n",
       "3        fbi russia probe helped australian diplomat nyt   \n",
       "4      trump wants postal service charge amazon shipm...   \n",
       "...                                                  ...   \n",
       "44128                  white house theatrics gun control   \n",
       "44129  activists terrorists media controls dictates n...   \n",
       "44130     boiler room surrender retreat heads roll ep 38   \n",
       "44131  federal showdown looms oregon blm abuse local ...   \n",
       "44132  troubled king chicago rahm emanuel desperate s...   \n",
       "\n",
       "                                                    text  type  \n",
       "0      washington reuters head conservative republica...     1  \n",
       "1      washington reuters transgender people allowed ...     1  \n",
       "2      washington reuters special counsel investigati...     1  \n",
       "3      washington reuters trump campaign adviser geor...     1  \n",
       "4      reuters president donald trump called postal s...     1  \n",
       "...                                                  ...   ...  \n",
       "44128  21st century wire says world stage men women m...     0  \n",
       "44129  randy johnson 21st century wirethe majority ma...     0  \n",
       "44130  tune alternate current radio network acr anoth...     0  \n",
       "44131  21st century wire says new front opened long b...     0  \n",
       "44132  21st century wire says far away guess wants ru...     0  \n",
       "\n",
       "[39116 rows x 3 columns]"
      ]
     },
     "execution_count": 50,
     "metadata": {},
     "output_type": "execute_result"
    }
   ],
   "source": [
    "df['title'] = df['title'].apply(preprocess_text)\n",
    "df"
   ]
  },
  {
   "cell_type": "code",
   "execution_count": 52,
   "id": "fbec21a7-6ab5-480e-ac78-cd2d19bbb1d5",
   "metadata": {},
   "outputs": [
    {
     "data": {
      "text/html": [
       "<div>\n",
       "<style scoped>\n",
       "    .dataframe tbody tr th:only-of-type {\n",
       "        vertical-align: middle;\n",
       "    }\n",
       "\n",
       "    .dataframe tbody tr th {\n",
       "        vertical-align: top;\n",
       "    }\n",
       "\n",
       "    .dataframe thead th {\n",
       "        text-align: right;\n",
       "    }\n",
       "</style>\n",
       "<table border=\"1\" class=\"dataframe\">\n",
       "  <thead>\n",
       "    <tr style=\"text-align: right;\">\n",
       "      <th></th>\n",
       "      <th>title</th>\n",
       "      <th>text</th>\n",
       "      <th>type</th>\n",
       "    </tr>\n",
       "  </thead>\n",
       "  <tbody>\n",
       "    <tr>\n",
       "      <th>0</th>\n",
       "      <td>budget fight looms republicans flip fiscal script</td>\n",
       "      <td>washington reuters head conservative republica...</td>\n",
       "      <td>1</td>\n",
       "    </tr>\n",
       "    <tr>\n",
       "      <th>1</th>\n",
       "      <td>military accept transgender recruits monday pe...</td>\n",
       "      <td>washington reuters transgender people allowed ...</td>\n",
       "      <td>1</td>\n",
       "    </tr>\n",
       "    <tr>\n",
       "      <th>2</th>\n",
       "      <td>senior republican senator mueller job</td>\n",
       "      <td>washington reuters special counsel investigati...</td>\n",
       "      <td>1</td>\n",
       "    </tr>\n",
       "    <tr>\n",
       "      <th>3</th>\n",
       "      <td>fbi russia probe helped australian diplomat nyt</td>\n",
       "      <td>washington reuters trump campaign adviser geor...</td>\n",
       "      <td>1</td>\n",
       "    </tr>\n",
       "    <tr>\n",
       "      <th>4</th>\n",
       "      <td>trump wants postal service charge amazon shipm...</td>\n",
       "      <td>reuters president donald trump called postal s...</td>\n",
       "      <td>1</td>\n",
       "    </tr>\n",
       "    <tr>\n",
       "      <th>...</th>\n",
       "      <td>...</td>\n",
       "      <td>...</td>\n",
       "      <td>...</td>\n",
       "    </tr>\n",
       "    <tr>\n",
       "      <th>44128</th>\n",
       "      <td>white house theatrics gun control</td>\n",
       "      <td>21st century wire says world stage men women m...</td>\n",
       "      <td>0</td>\n",
       "    </tr>\n",
       "    <tr>\n",
       "      <th>44129</th>\n",
       "      <td>activists terrorists media controls dictates n...</td>\n",
       "      <td>randy johnson 21st century wirethe majority ma...</td>\n",
       "      <td>0</td>\n",
       "    </tr>\n",
       "    <tr>\n",
       "      <th>44130</th>\n",
       "      <td>boiler room surrender retreat heads roll ep 38</td>\n",
       "      <td>tune alternate current radio network acr anoth...</td>\n",
       "      <td>0</td>\n",
       "    </tr>\n",
       "    <tr>\n",
       "      <th>44131</th>\n",
       "      <td>federal showdown looms oregon blm abuse local ...</td>\n",
       "      <td>21st century wire says new front opened long b...</td>\n",
       "      <td>0</td>\n",
       "    </tr>\n",
       "    <tr>\n",
       "      <th>44132</th>\n",
       "      <td>troubled king chicago rahm emanuel desperate s...</td>\n",
       "      <td>21st century wire says far away guess wants ru...</td>\n",
       "      <td>0</td>\n",
       "    </tr>\n",
       "  </tbody>\n",
       "</table>\n",
       "<p>39116 rows × 3 columns</p>\n",
       "</div>"
      ],
      "text/plain": [
       "                                                   title  \\\n",
       "0      budget fight looms republicans flip fiscal script   \n",
       "1      military accept transgender recruits monday pe...   \n",
       "2                  senior republican senator mueller job   \n",
       "3        fbi russia probe helped australian diplomat nyt   \n",
       "4      trump wants postal service charge amazon shipm...   \n",
       "...                                                  ...   \n",
       "44128                  white house theatrics gun control   \n",
       "44129  activists terrorists media controls dictates n...   \n",
       "44130     boiler room surrender retreat heads roll ep 38   \n",
       "44131  federal showdown looms oregon blm abuse local ...   \n",
       "44132  troubled king chicago rahm emanuel desperate s...   \n",
       "\n",
       "                                                    text  type  \n",
       "0      washington reuters head conservative republica...     1  \n",
       "1      washington reuters transgender people allowed ...     1  \n",
       "2      washington reuters special counsel investigati...     1  \n",
       "3      washington reuters trump campaign adviser geor...     1  \n",
       "4      reuters president donald trump called postal s...     1  \n",
       "...                                                  ...   ...  \n",
       "44128  21st century wire says world stage men women m...     0  \n",
       "44129  randy johnson 21st century wirethe majority ma...     0  \n",
       "44130  tune alternate current radio network acr anoth...     0  \n",
       "44131  21st century wire says new front opened long b...     0  \n",
       "44132  21st century wire says far away guess wants ru...     0  \n",
       "\n",
       "[39116 rows x 3 columns]"
      ]
     },
     "execution_count": 52,
     "metadata": {},
     "output_type": "execute_result"
    }
   ],
   "source": [
    "df['text'] = df['text'].apply(preprocess_text)\n",
    "df"
   ]
  },
  {
   "cell_type": "markdown",
   "id": "ac5077b3-0917-4e38-981b-6c4030e436c8",
   "metadata": {},
   "source": [
    "## Applying stemming and lemmatization"
   ]
  },
  {
   "cell_type": "code",
   "execution_count": null,
   "id": "0d569dfd-342f-4220-94d1-8d5074406766",
   "metadata": {
    "scrolled": true
   },
   "outputs": [],
   "source": [
    "from nltk.stem import PorterStemmer, WordNetLemmatizer\n",
    "nltk.download('wordnet')\n",
    "nltk.download('omw-1.4')\n"
   ]
  },
  {
   "cell_type": "code",
   "execution_count": null,
   "id": "ef6e2762-cac4-4a69-b448-272b498b95ea",
   "metadata": {},
   "outputs": [],
   "source": [
    "stemmer = PorterStemmer()\n",
    "lemmatizer = WordNetLemmatizer()\n",
    "\n",
    "# Function to apply stemming\n",
    "def apply_stemming(text):\n",
    "    return stemmer.stem(text)\n",
    "\n",
    "# Function to apply lemmatization\n",
    "def apply_lemmatization(text):\n",
    "    return lemmatizer.lemmatize(text)"
   ]
  },
  {
   "cell_type": "code",
   "execution_count": 59,
   "id": "102639b2-23ba-4fa9-be85-1e3d6f16c133",
   "metadata": {},
   "outputs": [
    {
     "data": {
      "text/html": [
       "<div>\n",
       "<style scoped>\n",
       "    .dataframe tbody tr th:only-of-type {\n",
       "        vertical-align: middle;\n",
       "    }\n",
       "\n",
       "    .dataframe tbody tr th {\n",
       "        vertical-align: top;\n",
       "    }\n",
       "\n",
       "    .dataframe thead th {\n",
       "        text-align: right;\n",
       "    }\n",
       "</style>\n",
       "<table border=\"1\" class=\"dataframe\">\n",
       "  <thead>\n",
       "    <tr style=\"text-align: right;\">\n",
       "      <th></th>\n",
       "      <th>title</th>\n",
       "      <th>text</th>\n",
       "      <th>type</th>\n",
       "    </tr>\n",
       "  </thead>\n",
       "  <tbody>\n",
       "    <tr>\n",
       "      <th>0</th>\n",
       "      <td>budget fight looms republicans flip fiscal script</td>\n",
       "      <td>washington reuters head conservative republica...</td>\n",
       "      <td>1</td>\n",
       "    </tr>\n",
       "    <tr>\n",
       "      <th>1</th>\n",
       "      <td>military accept transgender recruits monday pe...</td>\n",
       "      <td>washington reuters transgender people allowed ...</td>\n",
       "      <td>1</td>\n",
       "    </tr>\n",
       "    <tr>\n",
       "      <th>2</th>\n",
       "      <td>senior republican senator mueller job</td>\n",
       "      <td>washington reuters special counsel investigati...</td>\n",
       "      <td>1</td>\n",
       "    </tr>\n",
       "    <tr>\n",
       "      <th>3</th>\n",
       "      <td>fbi russia probe helped australian diplomat nyt</td>\n",
       "      <td>washington reuters trump campaign adviser geor...</td>\n",
       "      <td>1</td>\n",
       "    </tr>\n",
       "    <tr>\n",
       "      <th>4</th>\n",
       "      <td>trump wants postal service charge amazon ship</td>\n",
       "      <td>reuters president donald trump called postal s...</td>\n",
       "      <td>1</td>\n",
       "    </tr>\n",
       "    <tr>\n",
       "      <th>...</th>\n",
       "      <td>...</td>\n",
       "      <td>...</td>\n",
       "      <td>...</td>\n",
       "    </tr>\n",
       "    <tr>\n",
       "      <th>44128</th>\n",
       "      <td>white house theatrics gun control</td>\n",
       "      <td>21st century wire says world stage men women m...</td>\n",
       "      <td>0</td>\n",
       "    </tr>\n",
       "    <tr>\n",
       "      <th>44129</th>\n",
       "      <td>activists terrorists media controls dictates n...</td>\n",
       "      <td>randy johnson 21st century wirethe majority ma...</td>\n",
       "      <td>0</td>\n",
       "    </tr>\n",
       "    <tr>\n",
       "      <th>44130</th>\n",
       "      <td>boiler room surrender retreat heads roll ep 38</td>\n",
       "      <td>tune alternate current radio network acr anoth...</td>\n",
       "      <td>0</td>\n",
       "    </tr>\n",
       "    <tr>\n",
       "      <th>44131</th>\n",
       "      <td>federal showdown looms oregon blm abuse local ...</td>\n",
       "      <td>21st century wire says new front opened long b...</td>\n",
       "      <td>0</td>\n",
       "    </tr>\n",
       "    <tr>\n",
       "      <th>44132</th>\n",
       "      <td>troubled king chicago rahm emanuel desperate s...</td>\n",
       "      <td>21st century wire says far away guess wants ru...</td>\n",
       "      <td>0</td>\n",
       "    </tr>\n",
       "  </tbody>\n",
       "</table>\n",
       "<p>39116 rows × 3 columns</p>\n",
       "</div>"
      ],
      "text/plain": [
       "                                                   title  \\\n",
       "0      budget fight looms republicans flip fiscal script   \n",
       "1      military accept transgender recruits monday pe...   \n",
       "2                  senior republican senator mueller job   \n",
       "3        fbi russia probe helped australian diplomat nyt   \n",
       "4          trump wants postal service charge amazon ship   \n",
       "...                                                  ...   \n",
       "44128                  white house theatrics gun control   \n",
       "44129  activists terrorists media controls dictates n...   \n",
       "44130     boiler room surrender retreat heads roll ep 38   \n",
       "44131  federal showdown looms oregon blm abuse local ...   \n",
       "44132  troubled king chicago rahm emanuel desperate s...   \n",
       "\n",
       "                                                    text  type  \n",
       "0      washington reuters head conservative republica...     1  \n",
       "1      washington reuters transgender people allowed ...     1  \n",
       "2      washington reuters special counsel investigati...     1  \n",
       "3      washington reuters trump campaign adviser geor...     1  \n",
       "4      reuters president donald trump called postal s...     1  \n",
       "...                                                  ...   ...  \n",
       "44128  21st century wire says world stage men women m...     0  \n",
       "44129  randy johnson 21st century wirethe majority ma...     0  \n",
       "44130  tune alternate current radio network acr anoth...     0  \n",
       "44131  21st century wire says new front opened long b...     0  \n",
       "44132  21st century wire says far away guess wants ru...     0  \n",
       "\n",
       "[39116 rows x 3 columns]"
      ]
     },
     "execution_count": 59,
     "metadata": {},
     "output_type": "execute_result"
    }
   ],
   "source": [
    "df['text'] = df['text'].apply(apply_stemming)\n",
    "df['text'] = df['text'].apply(apply_lemmatization)\n",
    "df['title'] = df['title'].apply(apply_stemming)\n",
    "df['title'] = df['title'].apply(apply_lemmatization)\n",
    "df"
   ]
  },
  {
   "cell_type": "markdown",
   "id": "5c501184-aa8c-4a2d-9dee-eeb22b818cd0",
   "metadata": {},
   "source": [
    "## Removal of Special characters and symbols "
   ]
  },
  {
   "cell_type": "code",
   "execution_count": 60,
   "id": "f43f91ee-a3e3-4424-928f-13edf5aca7e4",
   "metadata": {},
   "outputs": [
    {
     "data": {
      "text/html": [
       "<div>\n",
       "<style scoped>\n",
       "    .dataframe tbody tr th:only-of-type {\n",
       "        vertical-align: middle;\n",
       "    }\n",
       "\n",
       "    .dataframe tbody tr th {\n",
       "        vertical-align: top;\n",
       "    }\n",
       "\n",
       "    .dataframe thead th {\n",
       "        text-align: right;\n",
       "    }\n",
       "</style>\n",
       "<table border=\"1\" class=\"dataframe\">\n",
       "  <thead>\n",
       "    <tr style=\"text-align: right;\">\n",
       "      <th></th>\n",
       "      <th>title</th>\n",
       "      <th>text</th>\n",
       "      <th>type</th>\n",
       "    </tr>\n",
       "  </thead>\n",
       "  <tbody>\n",
       "    <tr>\n",
       "      <th>0</th>\n",
       "      <td>budget fight looms republicans flip fiscal script</td>\n",
       "      <td>washington reuters head conservative republica...</td>\n",
       "      <td>1</td>\n",
       "    </tr>\n",
       "    <tr>\n",
       "      <th>1</th>\n",
       "      <td>military accept transgender recruits monday pe...</td>\n",
       "      <td>washington reuters transgender people allowed ...</td>\n",
       "      <td>1</td>\n",
       "    </tr>\n",
       "    <tr>\n",
       "      <th>2</th>\n",
       "      <td>senior republican senator mueller job</td>\n",
       "      <td>washington reuters special counsel investigati...</td>\n",
       "      <td>1</td>\n",
       "    </tr>\n",
       "    <tr>\n",
       "      <th>3</th>\n",
       "      <td>fbi russia probe helped australian diplomat nyt</td>\n",
       "      <td>washington reuters trump campaign adviser geor...</td>\n",
       "      <td>1</td>\n",
       "    </tr>\n",
       "    <tr>\n",
       "      <th>4</th>\n",
       "      <td>trump wants postal service charge amazon ship</td>\n",
       "      <td>reuters president donald trump called postal s...</td>\n",
       "      <td>1</td>\n",
       "    </tr>\n",
       "    <tr>\n",
       "      <th>...</th>\n",
       "      <td>...</td>\n",
       "      <td>...</td>\n",
       "      <td>...</td>\n",
       "    </tr>\n",
       "    <tr>\n",
       "      <th>44128</th>\n",
       "      <td>white house theatrics gun control</td>\n",
       "      <td>21st century wire says world stage men women m...</td>\n",
       "      <td>0</td>\n",
       "    </tr>\n",
       "    <tr>\n",
       "      <th>44129</th>\n",
       "      <td>activists terrorists media controls dictates n...</td>\n",
       "      <td>randy johnson 21st century wirethe majority ma...</td>\n",
       "      <td>0</td>\n",
       "    </tr>\n",
       "    <tr>\n",
       "      <th>44130</th>\n",
       "      <td>boiler room surrender retreat heads roll ep 38</td>\n",
       "      <td>tune alternate current radio network acr anoth...</td>\n",
       "      <td>0</td>\n",
       "    </tr>\n",
       "    <tr>\n",
       "      <th>44131</th>\n",
       "      <td>federal showdown looms oregon blm abuse local ...</td>\n",
       "      <td>21st century wire says new front opened long b...</td>\n",
       "      <td>0</td>\n",
       "    </tr>\n",
       "    <tr>\n",
       "      <th>44132</th>\n",
       "      <td>troubled king chicago rahm emanuel desperate s...</td>\n",
       "      <td>21st century wire says far away guess wants ru...</td>\n",
       "      <td>0</td>\n",
       "    </tr>\n",
       "  </tbody>\n",
       "</table>\n",
       "<p>39116 rows × 3 columns</p>\n",
       "</div>"
      ],
      "text/plain": [
       "                                                   title  \\\n",
       "0      budget fight looms republicans flip fiscal script   \n",
       "1      military accept transgender recruits monday pe...   \n",
       "2                  senior republican senator mueller job   \n",
       "3        fbi russia probe helped australian diplomat nyt   \n",
       "4          trump wants postal service charge amazon ship   \n",
       "...                                                  ...   \n",
       "44128                  white house theatrics gun control   \n",
       "44129  activists terrorists media controls dictates n...   \n",
       "44130     boiler room surrender retreat heads roll ep 38   \n",
       "44131  federal showdown looms oregon blm abuse local ...   \n",
       "44132  troubled king chicago rahm emanuel desperate s...   \n",
       "\n",
       "                                                    text  type  \n",
       "0      washington reuters head conservative republica...     1  \n",
       "1      washington reuters transgender people allowed ...     1  \n",
       "2      washington reuters special counsel investigati...     1  \n",
       "3      washington reuters trump campaign adviser geor...     1  \n",
       "4      reuters president donald trump called postal s...     1  \n",
       "...                                                  ...   ...  \n",
       "44128  21st century wire says world stage men women m...     0  \n",
       "44129  randy johnson 21st century wirethe majority ma...     0  \n",
       "44130  tune alternate current radio network acr anoth...     0  \n",
       "44131  21st century wire says new front opened long b...     0  \n",
       "44132  21st century wire says far away guess wants ru...     0  \n",
       "\n",
       "[39116 rows x 3 columns]"
      ]
     },
     "execution_count": 60,
     "metadata": {},
     "output_type": "execute_result"
    }
   ],
   "source": [
    "df['text'] = df['text'].str.replace(r'[^\\w\\s]', '', regex=True)\n",
    "df['title'] = df['title'].str.replace(r'[^\\w\\s]', '', regex=True)\n",
    "df"
   ]
  }
 ],
 "metadata": {
  "kernelspec": {
   "display_name": "Python 3 (ipykernel)",
   "language": "python",
   "name": "python3"
  },
  "language_info": {
   "codemirror_mode": {
    "name": "ipython",
    "version": 3
   },
   "file_extension": ".py",
   "mimetype": "text/x-python",
   "name": "python",
   "nbconvert_exporter": "python",
   "pygments_lexer": "ipython3",
   "version": "3.12.7"
  }
 },
 "nbformat": 4,
 "nbformat_minor": 5
}
