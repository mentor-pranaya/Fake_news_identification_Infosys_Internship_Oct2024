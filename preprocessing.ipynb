{
 "cells": [
  {
   "cell_type": "code",
   "execution_count": 1,
   "id": "c4ac1abc-4224-4cf6-9b57-2aeaf06ae5ae",
   "metadata": {},
   "outputs": [],
   "source": [
    "import pandas as pd\n",
    "import numpy as np"
   ]
  },
  {
   "cell_type": "code",
   "execution_count": 2,
   "id": "e47f3093-f28a-40d1-a6e6-987097bc214d",
   "metadata": {},
   "outputs": [
    {
     "data": {
      "text/html": [
       "<div>\n",
       "<style scoped>\n",
       "    .dataframe tbody tr th:only-of-type {\n",
       "        vertical-align: middle;\n",
       "    }\n",
       "\n",
       "    .dataframe tbody tr th {\n",
       "        vertical-align: top;\n",
       "    }\n",
       "\n",
       "    .dataframe thead th {\n",
       "        text-align: right;\n",
       "    }\n",
       "</style>\n",
       "<table border=\"1\" class=\"dataframe\">\n",
       "  <thead>\n",
       "    <tr style=\"text-align: right;\">\n",
       "      <th></th>\n",
       "      <th>title</th>\n",
       "      <th>text</th>\n",
       "      <th>date</th>\n",
       "      <th>category</th>\n",
       "    </tr>\n",
       "  </thead>\n",
       "  <tbody>\n",
       "    <tr>\n",
       "      <th>0</th>\n",
       "      <td>As U.S. budget fight looms, Republicans flip t...</td>\n",
       "      <td>WASHINGTON (Reuters) - The head of a conservat...</td>\n",
       "      <td>December 31, 2017</td>\n",
       "      <td>TRUE</td>\n",
       "    </tr>\n",
       "    <tr>\n",
       "      <th>1</th>\n",
       "      <td>U.S. military to accept transgender recruits o...</td>\n",
       "      <td>WASHINGTON (Reuters) - Transgender people will...</td>\n",
       "      <td>December 29, 2017</td>\n",
       "      <td>TRUE</td>\n",
       "    </tr>\n",
       "    <tr>\n",
       "      <th>2</th>\n",
       "      <td>Senior U.S. Republican senator: 'Let Mr. Muell...</td>\n",
       "      <td>WASHINGTON (Reuters) - The special counsel inv...</td>\n",
       "      <td>December 31, 2017</td>\n",
       "      <td>TRUE</td>\n",
       "    </tr>\n",
       "    <tr>\n",
       "      <th>3</th>\n",
       "      <td>FBI Russia probe helped by Australian diplomat...</td>\n",
       "      <td>WASHINGTON (Reuters) - Trump campaign adviser ...</td>\n",
       "      <td>December 30, 2017</td>\n",
       "      <td>TRUE</td>\n",
       "    </tr>\n",
       "    <tr>\n",
       "      <th>4</th>\n",
       "      <td>Trump wants Postal Service to charge 'much mor...</td>\n",
       "      <td>SEATTLE/WASHINGTON (Reuters) - President Donal...</td>\n",
       "      <td>December 29, 2017</td>\n",
       "      <td>TRUE</td>\n",
       "    </tr>\n",
       "  </tbody>\n",
       "</table>\n",
       "</div>"
      ],
      "text/plain": [
       "                                               title  \\\n",
       "0  As U.S. budget fight looms, Republicans flip t...   \n",
       "1  U.S. military to accept transgender recruits o...   \n",
       "2  Senior U.S. Republican senator: 'Let Mr. Muell...   \n",
       "3  FBI Russia probe helped by Australian diplomat...   \n",
       "4  Trump wants Postal Service to charge 'much mor...   \n",
       "\n",
       "                                                text                date  \\\n",
       "0  WASHINGTON (Reuters) - The head of a conservat...  December 31, 2017    \n",
       "1  WASHINGTON (Reuters) - Transgender people will...  December 29, 2017    \n",
       "2  WASHINGTON (Reuters) - The special counsel inv...  December 31, 2017    \n",
       "3  WASHINGTON (Reuters) - Trump campaign adviser ...  December 30, 2017    \n",
       "4  SEATTLE/WASHINGTON (Reuters) - President Donal...  December 29, 2017    \n",
       "\n",
       "  category  \n",
       "0     TRUE  \n",
       "1     TRUE  \n",
       "2     TRUE  \n",
       "3     TRUE  \n",
       "4     TRUE  "
      ]
     },
     "execution_count": 2,
     "metadata": {},
     "output_type": "execute_result"
    }
   ],
   "source": [
    "fn = pd.read_csv('fake_news.csv')\n",
    "fn.head()"
   ]
  },
  {
   "cell_type": "code",
   "execution_count": 3,
   "id": "edb3b36e-bb02-4899-a8c3-a3ad9f4cd96c",
   "metadata": {},
   "outputs": [
    {
     "name": "stdout",
     "output_type": "stream",
     "text": [
      "<class 'pandas.core.frame.DataFrame'>\n",
      "RangeIndex: 44890 entries, 0 to 44889\n",
      "Data columns (total 4 columns):\n",
      " #   Column    Non-Null Count  Dtype \n",
      "---  ------    --------------  ----- \n",
      " 0   title     44882 non-null  object\n",
      " 1   text      44882 non-null  object\n",
      " 2   date      44880 non-null  object\n",
      " 3   category  44880 non-null  object\n",
      "dtypes: object(4)\n",
      "memory usage: 1.4+ MB\n"
     ]
    }
   ],
   "source": [
    "# information of the dataset\n",
    "fn.info()"
   ]
  },
  {
   "cell_type": "code",
   "execution_count": 4,
   "id": "a29e5fbc-2d59-4ee2-bd0a-a81fd7348377",
   "metadata": {},
   "outputs": [
    {
     "data": {
      "text/plain": [
       "title        8\n",
       "text         8\n",
       "date        10\n",
       "category    10\n",
       "dtype: int64"
      ]
     },
     "execution_count": 4,
     "metadata": {},
     "output_type": "execute_result"
    }
   ],
   "source": [
    "#checking null items in the dataset\n",
    "fn.isna().sum()"
   ]
  },
  {
   "cell_type": "code",
   "execution_count": 5,
   "id": "aceae8a1-638f-4666-a08f-be8c09ea5ee9",
   "metadata": {},
   "outputs": [],
   "source": [
    "# title and date both column are dropped\n",
    "fn.dropna(subset=['title'], inplace=True)\n",
    "fn.dropna(subset=['date'], inplace=True)          "
   ]
  },
  {
   "cell_type": "code",
   "execution_count": 6,
   "id": "a08b24b3-fa2f-420c-a0df-590a9913a04b",
   "metadata": {},
   "outputs": [
    {
     "data": {
      "text/plain": [
       "title       0\n",
       "text        0\n",
       "date        0\n",
       "category    0\n",
       "dtype: int64"
      ]
     },
     "execution_count": 6,
     "metadata": {},
     "output_type": "execute_result"
    }
   ],
   "source": [
    "#removed all the null items\n",
    "fn.isna().sum()"
   ]
  },
  {
   "cell_type": "code",
   "execution_count": 7,
   "id": "d1cf3f6f-ee4f-435e-8f32-9d784c2568af",
   "metadata": {},
   "outputs": [
    {
     "name": "stdout",
     "output_type": "stream",
     "text": [
      "0        False\n",
      "1        False\n",
      "2        False\n",
      "3        False\n",
      "4        False\n",
      "         ...  \n",
      "44885     True\n",
      "44886     True\n",
      "44887     True\n",
      "44888     True\n",
      "44889     True\n",
      "Name: title, Length: 44880, dtype: bool\n"
     ]
    }
   ],
   "source": [
    "#checking for the duplicate items in the dataset\n",
    "duplicate = fn['title'].duplicated()\n",
    "print(duplicate)"
   ]
  },
  {
   "cell_type": "code",
   "execution_count": 8,
   "id": "086ca604-6e65-4295-906f-1af7275c837e",
   "metadata": {},
   "outputs": [
    {
     "name": "stdout",
     "output_type": "stream",
     "text": [
      "                                                   title  \\\n",
      "0      As U.S. budget fight looms, Republicans flip t...   \n",
      "1      U.S. military to accept transgender recruits o...   \n",
      "2      Senior U.S. Republican senator: 'Let Mr. Muell...   \n",
      "3      FBI Russia probe helped by Australian diplomat...   \n",
      "4      Trump wants Postal Service to charge 'much mor...   \n",
      "...                                                  ...   \n",
      "44115  The White House and The Theatrics of ‘Gun Cont...   \n",
      "44116  Activists or Terrorists? How Media Controls an...   \n",
      "44117  BOILER ROOM – No Surrender, No Retreat, Heads ...   \n",
      "44118  Federal Showdown Looms in Oregon After BLM Abu...   \n",
      "44119  A Troubled King: Chicago’s Rahm Emanuel Desper...   \n",
      "\n",
      "                                                    text                date  \\\n",
      "0      WASHINGTON (Reuters) - The head of a conservat...  December 31, 2017    \n",
      "1      WASHINGTON (Reuters) - Transgender people will...  December 29, 2017    \n",
      "2      WASHINGTON (Reuters) - The special counsel inv...  December 31, 2017    \n",
      "3      WASHINGTON (Reuters) - Trump campaign adviser ...  December 30, 2017    \n",
      "4      SEATTLE/WASHINGTON (Reuters) - President Donal...  December 29, 2017    \n",
      "...                                                  ...                 ...   \n",
      "44115  21st Century Wire says All the world s a stage...     January 7, 2016   \n",
      "44116    Randy Johnson 21st Century WireThe majority ...     January 7, 2016   \n",
      "44117  Tune in to the Alternate Current Radio Network...     January 6, 2016   \n",
      "44118  21st Century Wire says A new front has just op...     January 4, 2016   \n",
      "44119  21st Century Wire says It s not that far away....     January 2, 2016   \n",
      "\n",
      "      category  \n",
      "0         TRUE  \n",
      "1         TRUE  \n",
      "2         TRUE  \n",
      "3         TRUE  \n",
      "4         TRUE  \n",
      "...        ...  \n",
      "44115     FAKE  \n",
      "44116     FAKE  \n",
      "44117     FAKE  \n",
      "44118     FAKE  \n",
      "44119     FAKE  \n",
      "\n",
      "[38720 rows x 4 columns]\n"
     ]
    }
   ],
   "source": [
    "#deleting all the duplicate items from the dataset\n",
    "fn = fn.drop_duplicates(subset=['title'], keep='first')\n",
    "print(fn)"
   ]
  },
  {
   "cell_type": "code",
   "execution_count": 9,
   "id": "fd50dccc-475e-4c32-a0b6-96f958ec521d",
   "metadata": {},
   "outputs": [
    {
     "name": "stdout",
     "output_type": "stream",
     "text": [
      "Duplicated rows: 0\n",
      "0        False\n",
      "1        False\n",
      "2        False\n",
      "3        False\n",
      "4        False\n",
      "         ...  \n",
      "44115    False\n",
      "44116    False\n",
      "44117    False\n",
      "44118    False\n",
      "44119    False\n",
      "Name: title, Length: 38720, dtype: bool\n"
     ]
    }
   ],
   "source": [
    "#checking for any duplicate row left\n",
    "duplicate = fn['title'].duplicated()\n",
    "print(\"Duplicated rows:\",duplicate.sum())\n",
    "print(duplicate)"
   ]
  },
  {
   "cell_type": "code",
   "execution_count": 10,
   "id": "c20dc23b-053e-4005-a9a4-665e3a36177e",
   "metadata": {},
   "outputs": [
    {
     "data": {
      "text/plain": [
       "(38720, 4)"
      ]
     },
     "execution_count": 10,
     "metadata": {},
     "output_type": "execute_result"
    }
   ],
   "source": [
    "# shape function will give the total no. of rows and columns in dataset\n",
    "fn.shape"
   ]
  },
  {
   "cell_type": "code",
   "execution_count": 11,
   "id": "9d0413c3-bb5a-42c3-a030-88e416628233",
   "metadata": {},
   "outputs": [
    {
     "data": {
      "text/html": [
       "<div>\n",
       "<style scoped>\n",
       "    .dataframe tbody tr th:only-of-type {\n",
       "        vertical-align: middle;\n",
       "    }\n",
       "\n",
       "    .dataframe tbody tr th {\n",
       "        vertical-align: top;\n",
       "    }\n",
       "\n",
       "    .dataframe thead th {\n",
       "        text-align: right;\n",
       "    }\n",
       "</style>\n",
       "<table border=\"1\" class=\"dataframe\">\n",
       "  <thead>\n",
       "    <tr style=\"text-align: right;\">\n",
       "      <th></th>\n",
       "      <th>title</th>\n",
       "      <th>text</th>\n",
       "      <th>date</th>\n",
       "      <th>category</th>\n",
       "    </tr>\n",
       "  </thead>\n",
       "  <tbody>\n",
       "    <tr>\n",
       "      <th>0</th>\n",
       "      <td>As U.S. budget fight looms, Republicans flip t...</td>\n",
       "      <td>WASHINGTON (Reuters) - The head of a conservat...</td>\n",
       "      <td>December 31, 2017</td>\n",
       "      <td>TRUE</td>\n",
       "    </tr>\n",
       "    <tr>\n",
       "      <th>1</th>\n",
       "      <td>U.S. military to accept transgender recruits o...</td>\n",
       "      <td>WASHINGTON (Reuters) - Transgender people will...</td>\n",
       "      <td>December 29, 2017</td>\n",
       "      <td>TRUE</td>\n",
       "    </tr>\n",
       "    <tr>\n",
       "      <th>2</th>\n",
       "      <td>Senior U.S. Republican senator: 'Let Mr. Muell...</td>\n",
       "      <td>WASHINGTON (Reuters) - The special counsel inv...</td>\n",
       "      <td>December 31, 2017</td>\n",
       "      <td>TRUE</td>\n",
       "    </tr>\n",
       "    <tr>\n",
       "      <th>3</th>\n",
       "      <td>FBI Russia probe helped by Australian diplomat...</td>\n",
       "      <td>WASHINGTON (Reuters) - Trump campaign adviser ...</td>\n",
       "      <td>December 30, 2017</td>\n",
       "      <td>TRUE</td>\n",
       "    </tr>\n",
       "    <tr>\n",
       "      <th>4</th>\n",
       "      <td>Trump wants Postal Service to charge 'much mor...</td>\n",
       "      <td>SEATTLE/WASHINGTON (Reuters) - President Donal...</td>\n",
       "      <td>December 29, 2017</td>\n",
       "      <td>TRUE</td>\n",
       "    </tr>\n",
       "  </tbody>\n",
       "</table>\n",
       "</div>"
      ],
      "text/plain": [
       "                                               title  \\\n",
       "0  As U.S. budget fight looms, Republicans flip t...   \n",
       "1  U.S. military to accept transgender recruits o...   \n",
       "2  Senior U.S. Republican senator: 'Let Mr. Muell...   \n",
       "3  FBI Russia probe helped by Australian diplomat...   \n",
       "4  Trump wants Postal Service to charge 'much mor...   \n",
       "\n",
       "                                                text                date  \\\n",
       "0  WASHINGTON (Reuters) - The head of a conservat...  December 31, 2017    \n",
       "1  WASHINGTON (Reuters) - Transgender people will...  December 29, 2017    \n",
       "2  WASHINGTON (Reuters) - The special counsel inv...  December 31, 2017    \n",
       "3  WASHINGTON (Reuters) - Trump campaign adviser ...  December 30, 2017    \n",
       "4  SEATTLE/WASHINGTON (Reuters) - President Donal...  December 29, 2017    \n",
       "\n",
       "  category  \n",
       "0     TRUE  \n",
       "1     TRUE  \n",
       "2     TRUE  \n",
       "3     TRUE  \n",
       "4     TRUE  "
      ]
     },
     "execution_count": 11,
     "metadata": {},
     "output_type": "execute_result"
    }
   ],
   "source": [
    "fn.head()"
   ]
  },
  {
   "cell_type": "code",
   "execution_count": 12,
   "id": "41c2f30d-b9ca-4fb1-bc4d-eb6fd1fb79aa",
   "metadata": {},
   "outputs": [
    {
     "name": "stdout",
     "output_type": "stream",
     "text": [
      "<class 'pandas.core.frame.DataFrame'>\n",
      "Index: 38720 entries, 0 to 44119\n",
      "Data columns (total 4 columns):\n",
      " #   Column    Non-Null Count  Dtype \n",
      "---  ------    --------------  ----- \n",
      " 0   title     38720 non-null  object\n",
      " 1   text      38720 non-null  object\n",
      " 2   date      38720 non-null  object\n",
      " 3   category  38720 non-null  object\n",
      "dtypes: object(4)\n",
      "memory usage: 1.5+ MB\n"
     ]
    }
   ],
   "source": [
    "fn.info()"
   ]
  },
  {
   "cell_type": "markdown",
   "id": "ca6819ec-1407-4eff-a775-28c573f47fb5",
   "metadata": {},
   "source": [
    "## Converting column data to lowercase"
   ]
  },
  {
   "cell_type": "code",
   "execution_count": 13,
   "id": "dae2f367-4a21-4714-a493-c1be5b68d094",
   "metadata": {},
   "outputs": [],
   "source": [
    "# Converting all the columns data to lowercase\n",
    "fn['title'] = fn['title'].str.lower()\n",
    "fn['text'] = fn['text'].str.lower()\n",
    "fn['date'] = fn['date'].str.lower()\n",
    "fn['category'] = fn['category'].str.lower()"
   ]
  },
  {
   "cell_type": "code",
   "execution_count": 14,
   "id": "0fad7c84-6a28-4cd6-b92f-5b2351b5a40a",
   "metadata": {},
   "outputs": [
    {
     "data": {
      "text/html": [
       "<div>\n",
       "<style scoped>\n",
       "    .dataframe tbody tr th:only-of-type {\n",
       "        vertical-align: middle;\n",
       "    }\n",
       "\n",
       "    .dataframe tbody tr th {\n",
       "        vertical-align: top;\n",
       "    }\n",
       "\n",
       "    .dataframe thead th {\n",
       "        text-align: right;\n",
       "    }\n",
       "</style>\n",
       "<table border=\"1\" class=\"dataframe\">\n",
       "  <thead>\n",
       "    <tr style=\"text-align: right;\">\n",
       "      <th></th>\n",
       "      <th>title</th>\n",
       "      <th>text</th>\n",
       "      <th>date</th>\n",
       "      <th>category</th>\n",
       "    </tr>\n",
       "  </thead>\n",
       "  <tbody>\n",
       "    <tr>\n",
       "      <th>0</th>\n",
       "      <td>as u.s. budget fight looms, republicans flip t...</td>\n",
       "      <td>washington (reuters) - the head of a conservat...</td>\n",
       "      <td>december 31, 2017</td>\n",
       "      <td>true</td>\n",
       "    </tr>\n",
       "    <tr>\n",
       "      <th>1</th>\n",
       "      <td>u.s. military to accept transgender recruits o...</td>\n",
       "      <td>washington (reuters) - transgender people will...</td>\n",
       "      <td>december 29, 2017</td>\n",
       "      <td>true</td>\n",
       "    </tr>\n",
       "    <tr>\n",
       "      <th>2</th>\n",
       "      <td>senior u.s. republican senator: 'let mr. muell...</td>\n",
       "      <td>washington (reuters) - the special counsel inv...</td>\n",
       "      <td>december 31, 2017</td>\n",
       "      <td>true</td>\n",
       "    </tr>\n",
       "    <tr>\n",
       "      <th>3</th>\n",
       "      <td>fbi russia probe helped by australian diplomat...</td>\n",
       "      <td>washington (reuters) - trump campaign adviser ...</td>\n",
       "      <td>december 30, 2017</td>\n",
       "      <td>true</td>\n",
       "    </tr>\n",
       "    <tr>\n",
       "      <th>4</th>\n",
       "      <td>trump wants postal service to charge 'much mor...</td>\n",
       "      <td>seattle/washington (reuters) - president donal...</td>\n",
       "      <td>december 29, 2017</td>\n",
       "      <td>true</td>\n",
       "    </tr>\n",
       "  </tbody>\n",
       "</table>\n",
       "</div>"
      ],
      "text/plain": [
       "                                               title  \\\n",
       "0  as u.s. budget fight looms, republicans flip t...   \n",
       "1  u.s. military to accept transgender recruits o...   \n",
       "2  senior u.s. republican senator: 'let mr. muell...   \n",
       "3  fbi russia probe helped by australian diplomat...   \n",
       "4  trump wants postal service to charge 'much mor...   \n",
       "\n",
       "                                                text                date  \\\n",
       "0  washington (reuters) - the head of a conservat...  december 31, 2017    \n",
       "1  washington (reuters) - transgender people will...  december 29, 2017    \n",
       "2  washington (reuters) - the special counsel inv...  december 31, 2017    \n",
       "3  washington (reuters) - trump campaign adviser ...  december 30, 2017    \n",
       "4  seattle/washington (reuters) - president donal...  december 29, 2017    \n",
       "\n",
       "  category  \n",
       "0     true  \n",
       "1     true  \n",
       "2     true  \n",
       "3     true  \n",
       "4     true  "
      ]
     },
     "execution_count": 14,
     "metadata": {},
     "output_type": "execute_result"
    }
   ],
   "source": [
    "fn.head()"
   ]
  },
  {
   "cell_type": "markdown",
   "id": "8350383e-2168-409f-b367-5cc06b61a976",
   "metadata": {},
   "source": [
    "## Tokenization"
   ]
  },
  {
   "cell_type": "code",
   "execution_count": 15,
   "id": "7f4c71e2-4e1e-4b72-83ae-5e0694fcd8e8",
   "metadata": {},
   "outputs": [],
   "source": [
    "# Performing tokenization step on the dataset\n",
    "# Tokenization will divide the sentence into the token(word)\n",
    "import nltk\n",
    "from nltk.tokenize import word_tokenize\n",
    "\n",
    "fn['text'] = fn['text'].apply(word_tokenize)\n",
    "fn['title'] = fn['title'].apply(word_tokenize)"
   ]
  },
  {
   "cell_type": "code",
   "execution_count": 16,
   "id": "b6323298-8320-47f9-8541-26092422d057",
   "metadata": {},
   "outputs": [
    {
     "data": {
      "text/html": [
       "<div>\n",
       "<style scoped>\n",
       "    .dataframe tbody tr th:only-of-type {\n",
       "        vertical-align: middle;\n",
       "    }\n",
       "\n",
       "    .dataframe tbody tr th {\n",
       "        vertical-align: top;\n",
       "    }\n",
       "\n",
       "    .dataframe thead th {\n",
       "        text-align: right;\n",
       "    }\n",
       "</style>\n",
       "<table border=\"1\" class=\"dataframe\">\n",
       "  <thead>\n",
       "    <tr style=\"text-align: right;\">\n",
       "      <th></th>\n",
       "      <th>title</th>\n",
       "      <th>text</th>\n",
       "      <th>date</th>\n",
       "      <th>category</th>\n",
       "    </tr>\n",
       "  </thead>\n",
       "  <tbody>\n",
       "    <tr>\n",
       "      <th>0</th>\n",
       "      <td>[as, u.s., budget, fight, looms, ,, republican...</td>\n",
       "      <td>[washington, (, reuters, ), -, the, head, of, ...</td>\n",
       "      <td>december 31, 2017</td>\n",
       "      <td>true</td>\n",
       "    </tr>\n",
       "    <tr>\n",
       "      <th>1</th>\n",
       "      <td>[u.s., military, to, accept, transgender, recr...</td>\n",
       "      <td>[washington, (, reuters, ), -, transgender, pe...</td>\n",
       "      <td>december 29, 2017</td>\n",
       "      <td>true</td>\n",
       "    </tr>\n",
       "    <tr>\n",
       "      <th>2</th>\n",
       "      <td>[senior, u.s., republican, senator, :, 'let, m...</td>\n",
       "      <td>[washington, (, reuters, ), -, the, special, c...</td>\n",
       "      <td>december 31, 2017</td>\n",
       "      <td>true</td>\n",
       "    </tr>\n",
       "    <tr>\n",
       "      <th>3</th>\n",
       "      <td>[fbi, russia, probe, helped, by, australian, d...</td>\n",
       "      <td>[washington, (, reuters, ), -, trump, campaign...</td>\n",
       "      <td>december 30, 2017</td>\n",
       "      <td>true</td>\n",
       "    </tr>\n",
       "    <tr>\n",
       "      <th>4</th>\n",
       "      <td>[trump, wants, postal, service, to, charge, 'm...</td>\n",
       "      <td>[seattle/washington, (, reuters, ), -, preside...</td>\n",
       "      <td>december 29, 2017</td>\n",
       "      <td>true</td>\n",
       "    </tr>\n",
       "  </tbody>\n",
       "</table>\n",
       "</div>"
      ],
      "text/plain": [
       "                                               title  \\\n",
       "0  [as, u.s., budget, fight, looms, ,, republican...   \n",
       "1  [u.s., military, to, accept, transgender, recr...   \n",
       "2  [senior, u.s., republican, senator, :, 'let, m...   \n",
       "3  [fbi, russia, probe, helped, by, australian, d...   \n",
       "4  [trump, wants, postal, service, to, charge, 'm...   \n",
       "\n",
       "                                                text                date  \\\n",
       "0  [washington, (, reuters, ), -, the, head, of, ...  december 31, 2017    \n",
       "1  [washington, (, reuters, ), -, transgender, pe...  december 29, 2017    \n",
       "2  [washington, (, reuters, ), -, the, special, c...  december 31, 2017    \n",
       "3  [washington, (, reuters, ), -, trump, campaign...  december 30, 2017    \n",
       "4  [seattle/washington, (, reuters, ), -, preside...  december 29, 2017    \n",
       "\n",
       "  category  \n",
       "0     true  \n",
       "1     true  \n",
       "2     true  \n",
       "3     true  \n",
       "4     true  "
      ]
     },
     "execution_count": 16,
     "metadata": {},
     "output_type": "execute_result"
    }
   ],
   "source": [
    "fn.head()"
   ]
  },
  {
   "cell_type": "code",
   "execution_count": 17,
   "id": "37834d1a-daef-44bb-9606-09fd895c3a59",
   "metadata": {},
   "outputs": [
    {
     "data": {
      "text/plain": [
       "'!\"#$%&\\'()*+,-./:;<=>?@[\\\\]^_`{|}~'"
      ]
     },
     "execution_count": 17,
     "metadata": {},
     "output_type": "execute_result"
    }
   ],
   "source": [
    "# Removing the punctuation mark and some special characters\n",
    "import string\n",
    "string.punctuation"
   ]
  },
  {
   "cell_type": "code",
   "execution_count": 18,
   "id": "3f3b2072-5add-4393-88c7-244e82a763dd",
   "metadata": {},
   "outputs": [],
   "source": [
    "def remove_function(text):\n",
    "    if isinstance(text, list):\n",
    "        text = ' '.join(text)  # Join list elements into a single string\n",
    "    punctuations = string.punctuation\n",
    "    return text.translate(str.maketrans('', '', punctuations))"
   ]
  },
  {
   "cell_type": "code",
   "execution_count": 20,
   "id": "59ff5983-c56f-4064-a243-06b6789f1deb",
   "metadata": {},
   "outputs": [
    {
     "data": {
      "text/html": [
       "<div>\n",
       "<style scoped>\n",
       "    .dataframe tbody tr th:only-of-type {\n",
       "        vertical-align: middle;\n",
       "    }\n",
       "\n",
       "    .dataframe tbody tr th {\n",
       "        vertical-align: top;\n",
       "    }\n",
       "\n",
       "    .dataframe thead th {\n",
       "        text-align: right;\n",
       "    }\n",
       "</style>\n",
       "<table border=\"1\" class=\"dataframe\">\n",
       "  <thead>\n",
       "    <tr style=\"text-align: right;\">\n",
       "      <th></th>\n",
       "      <th>title</th>\n",
       "      <th>text</th>\n",
       "      <th>date</th>\n",
       "      <th>category</th>\n",
       "    </tr>\n",
       "  </thead>\n",
       "  <tbody>\n",
       "    <tr>\n",
       "      <th>0</th>\n",
       "      <td>as us budget fight looms  republicans flip the...</td>\n",
       "      <td>washington  reuters   the head of a conservati...</td>\n",
       "      <td>december 31, 2017</td>\n",
       "      <td>true</td>\n",
       "    </tr>\n",
       "    <tr>\n",
       "      <th>1</th>\n",
       "      <td>us military to accept transgender recruits on ...</td>\n",
       "      <td>washington  reuters   transgender people will ...</td>\n",
       "      <td>december 29, 2017</td>\n",
       "      <td>true</td>\n",
       "    </tr>\n",
       "    <tr>\n",
       "      <th>2</th>\n",
       "      <td>senior us republican senator  let mr mueller d...</td>\n",
       "      <td>washington  reuters   the special counsel inve...</td>\n",
       "      <td>december 31, 2017</td>\n",
       "      <td>true</td>\n",
       "    </tr>\n",
       "    <tr>\n",
       "      <th>3</th>\n",
       "      <td>fbi russia probe helped by australian diplomat...</td>\n",
       "      <td>washington  reuters   trump campaign adviser g...</td>\n",
       "      <td>december 30, 2017</td>\n",
       "      <td>true</td>\n",
       "    </tr>\n",
       "    <tr>\n",
       "      <th>4</th>\n",
       "      <td>trump wants postal service to charge much more...</td>\n",
       "      <td>seattlewashington  reuters   president donald ...</td>\n",
       "      <td>december 29, 2017</td>\n",
       "      <td>true</td>\n",
       "    </tr>\n",
       "  </tbody>\n",
       "</table>\n",
       "</div>"
      ],
      "text/plain": [
       "                                               title  \\\n",
       "0  as us budget fight looms  republicans flip the...   \n",
       "1  us military to accept transgender recruits on ...   \n",
       "2  senior us republican senator  let mr mueller d...   \n",
       "3  fbi russia probe helped by australian diplomat...   \n",
       "4  trump wants postal service to charge much more...   \n",
       "\n",
       "                                                text                date  \\\n",
       "0  washington  reuters   the head of a conservati...  december 31, 2017    \n",
       "1  washington  reuters   transgender people will ...  december 29, 2017    \n",
       "2  washington  reuters   the special counsel inve...  december 31, 2017    \n",
       "3  washington  reuters   trump campaign adviser g...  december 30, 2017    \n",
       "4  seattlewashington  reuters   president donald ...  december 29, 2017    \n",
       "\n",
       "  category  \n",
       "0     true  \n",
       "1     true  \n",
       "2     true  \n",
       "3     true  \n",
       "4     true  "
      ]
     },
     "execution_count": 20,
     "metadata": {},
     "output_type": "execute_result"
    }
   ],
   "source": [
    "# Removing punctuation\n",
    "fn['text']=fn['text'].apply(lambda x:remove_function(x))\n",
    "fn['title'] = fn['title'].apply(lambda x:remove_function(x))\n",
    "fn.head()"
   ]
  },
  {
   "cell_type": "markdown",
   "id": "a3c99c91-d809-4506-b6f1-90017f8b17a1",
   "metadata": {},
   "source": [
    "## Stopwords"
   ]
  },
  {
   "cell_type": "code",
   "execution_count": 21,
   "id": "29c41627-b982-4524-aa26-b57519bab6d1",
   "metadata": {},
   "outputs": [
    {
     "data": {
      "text/plain": [
       "\"i,me,my,myself,we,our,ours,ourselves,you,you're,you've,you'll,you'd,your,yours,yourself,yourselves,he,him,his,himself,she,she's,her,hers,herself,it,it's,its,itself,they,them,their,theirs,themselves,what,which,who,whom,this,that,that'll,these,those,am,is,are,was,were,be,been,being,have,has,had,having,do,does,did,doing,a,an,the,and,but,if,or,because,as,until,while,of,at,by,for,with,about,against,between,into,through,during,before,after,above,below,to,from,up,down,in,out,on,off,over,under,again,further,then,once,here,there,when,where,why,how,all,any,both,each,few,more,most,other,some,such,no,nor,not,only,own,same,so,than,too,very,s,t,can,will,just,don,don't,should,should've,now,d,ll,m,o,re,ve,y,ain,aren,aren't,couldn,couldn't,didn,didn't,doesn,doesn't,hadn,hadn't,hasn,hasn't,haven,haven't,isn,isn't,ma,mightn,mightn't,mustn,mustn't,needn,needn't,shan,shan't,shouldn,shouldn't,wasn,wasn't,weren,weren't,won,won't,wouldn,wouldn't\""
      ]
     },
     "execution_count": 21,
     "metadata": {},
     "output_type": "execute_result"
    }
   ],
   "source": [
    "from nltk.corpus import stopwords\n",
    "\",\".join(stopwords.words('english'))"
   ]
  },
  {
   "cell_type": "code",
   "execution_count": 22,
   "id": "c8c172d2-d9eb-4469-9ad8-a795234a7ab2",
   "metadata": {},
   "outputs": [],
   "source": [
    "STOPWORDS=set(stopwords.words('english'))\n",
    "def remove_stopwords(text):\n",
    "  return \" \".join([word for word in text.split() if word not in STOPWORDS])"
   ]
  },
  {
   "cell_type": "code",
   "execution_count": 23,
   "id": "e341df6b-6be7-4a4c-8842-3750bd5c4fd0",
   "metadata": {},
   "outputs": [
    {
     "data": {
      "text/html": [
       "<div>\n",
       "<style scoped>\n",
       "    .dataframe tbody tr th:only-of-type {\n",
       "        vertical-align: middle;\n",
       "    }\n",
       "\n",
       "    .dataframe tbody tr th {\n",
       "        vertical-align: top;\n",
       "    }\n",
       "\n",
       "    .dataframe thead th {\n",
       "        text-align: right;\n",
       "    }\n",
       "</style>\n",
       "<table border=\"1\" class=\"dataframe\">\n",
       "  <thead>\n",
       "    <tr style=\"text-align: right;\">\n",
       "      <th></th>\n",
       "      <th>title</th>\n",
       "      <th>text</th>\n",
       "      <th>date</th>\n",
       "      <th>category</th>\n",
       "    </tr>\n",
       "  </thead>\n",
       "  <tbody>\n",
       "    <tr>\n",
       "      <th>0</th>\n",
       "      <td>us budget fight looms republicans flip fiscal ...</td>\n",
       "      <td>washington reuters head conservative republica...</td>\n",
       "      <td>december 31, 2017</td>\n",
       "      <td>true</td>\n",
       "    </tr>\n",
       "    <tr>\n",
       "      <th>1</th>\n",
       "      <td>us military accept transgender recruits monday...</td>\n",
       "      <td>washington reuters transgender people allowed ...</td>\n",
       "      <td>december 29, 2017</td>\n",
       "      <td>true</td>\n",
       "    </tr>\n",
       "    <tr>\n",
       "      <th>2</th>\n",
       "      <td>senior us republican senator let mr mueller job</td>\n",
       "      <td>washington reuters special counsel investigati...</td>\n",
       "      <td>december 31, 2017</td>\n",
       "      <td>true</td>\n",
       "    </tr>\n",
       "    <tr>\n",
       "      <th>3</th>\n",
       "      <td>fbi russia probe helped australian diplomat ti...</td>\n",
       "      <td>washington reuters trump campaign adviser geor...</td>\n",
       "      <td>december 30, 2017</td>\n",
       "      <td>true</td>\n",
       "    </tr>\n",
       "    <tr>\n",
       "      <th>4</th>\n",
       "      <td>trump wants postal service charge much amazon ...</td>\n",
       "      <td>seattlewashington reuters president donald tru...</td>\n",
       "      <td>december 29, 2017</td>\n",
       "      <td>true</td>\n",
       "    </tr>\n",
       "  </tbody>\n",
       "</table>\n",
       "</div>"
      ],
      "text/plain": [
       "                                               title  \\\n",
       "0  us budget fight looms republicans flip fiscal ...   \n",
       "1  us military accept transgender recruits monday...   \n",
       "2    senior us republican senator let mr mueller job   \n",
       "3  fbi russia probe helped australian diplomat ti...   \n",
       "4  trump wants postal service charge much amazon ...   \n",
       "\n",
       "                                                text                date  \\\n",
       "0  washington reuters head conservative republica...  december 31, 2017    \n",
       "1  washington reuters transgender people allowed ...  december 29, 2017    \n",
       "2  washington reuters special counsel investigati...  december 31, 2017    \n",
       "3  washington reuters trump campaign adviser geor...  december 30, 2017    \n",
       "4  seattlewashington reuters president donald tru...  december 29, 2017    \n",
       "\n",
       "  category  \n",
       "0     true  \n",
       "1     true  \n",
       "2     true  \n",
       "3     true  \n",
       "4     true  "
      ]
     },
     "execution_count": 23,
     "metadata": {},
     "output_type": "execute_result"
    }
   ],
   "source": [
    "# Removing the stopwords\n",
    "fn['text']=fn['text'].apply(lambda x:remove_stopwords(x))\n",
    "fn['title']=fn['title'].apply(lambda x:remove_stopwords(x))\n",
    "\n",
    "fn.head()"
   ]
  },
  {
   "cell_type": "markdown",
   "id": "2e503c07-3ec6-4521-89af-a72a9a94a0d4",
   "metadata": {},
   "source": [
    "## Stemming"
   ]
  },
  {
   "cell_type": "code",
   "execution_count": 25,
   "id": "aeb89bdc-7139-404e-a1d4-c151632e3baa",
   "metadata": {},
   "outputs": [],
   "source": [
    "# Performing stemming on the dataset\n",
    "# Stemming is the process that removes the last few characters from the word, often leading to incorrect meaning.\n",
    "from nltk.stem.porter import PorterStemmer\n",
    "from nltk.stem import WordNetLemmatizer\n",
    "ps=PorterStemmer()\n",
    "wnl =  WordNetLemmatizer()"
   ]
  },
  {
   "cell_type": "code",
   "execution_count": 26,
   "id": "f4380184-6004-488f-ae2d-823bb9937c69",
   "metadata": {},
   "outputs": [],
   "source": [
    "# Stemming function\n",
    "def stemm(text):\n",
    "    return ps.stem(text)\n",
    "\n",
    "# Lemmatization function\n",
    "def lemmat(text):\n",
    "    return wnl.lemmatize(text)"
   ]
  },
  {
   "cell_type": "code",
   "execution_count": 27,
   "id": "0a144929-e645-4e7c-a885-323c74266bce",
   "metadata": {},
   "outputs": [
    {
     "data": {
      "text/html": [
       "<div>\n",
       "<style scoped>\n",
       "    .dataframe tbody tr th:only-of-type {\n",
       "        vertical-align: middle;\n",
       "    }\n",
       "\n",
       "    .dataframe tbody tr th {\n",
       "        vertical-align: top;\n",
       "    }\n",
       "\n",
       "    .dataframe thead th {\n",
       "        text-align: right;\n",
       "    }\n",
       "</style>\n",
       "<table border=\"1\" class=\"dataframe\">\n",
       "  <thead>\n",
       "    <tr style=\"text-align: right;\">\n",
       "      <th></th>\n",
       "      <th>title</th>\n",
       "      <th>text</th>\n",
       "      <th>date</th>\n",
       "      <th>category</th>\n",
       "    </tr>\n",
       "  </thead>\n",
       "  <tbody>\n",
       "    <tr>\n",
       "      <th>0</th>\n",
       "      <td>us budget fight looms republicans flip fiscal ...</td>\n",
       "      <td>washington reuters head conservative republica...</td>\n",
       "      <td>december 31, 2017</td>\n",
       "      <td>true</td>\n",
       "    </tr>\n",
       "    <tr>\n",
       "      <th>1</th>\n",
       "      <td>us military accept transgender recruits monday...</td>\n",
       "      <td>washington reuters transgender people allowed ...</td>\n",
       "      <td>december 29, 2017</td>\n",
       "      <td>true</td>\n",
       "    </tr>\n",
       "    <tr>\n",
       "      <th>2</th>\n",
       "      <td>senior us republican senator let mr mueller job</td>\n",
       "      <td>washington reuters special counsel investigati...</td>\n",
       "      <td>december 31, 2017</td>\n",
       "      <td>true</td>\n",
       "    </tr>\n",
       "    <tr>\n",
       "      <th>3</th>\n",
       "      <td>fbi russia probe helped australian diplomat ti...</td>\n",
       "      <td>washington reuters trump campaign adviser geor...</td>\n",
       "      <td>december 30, 2017</td>\n",
       "      <td>true</td>\n",
       "    </tr>\n",
       "    <tr>\n",
       "      <th>4</th>\n",
       "      <td>trump wants postal service charge much amazon ...</td>\n",
       "      <td>seattlewashington reuters president donald tru...</td>\n",
       "      <td>december 29, 2017</td>\n",
       "      <td>true</td>\n",
       "    </tr>\n",
       "  </tbody>\n",
       "</table>\n",
       "</div>"
      ],
      "text/plain": [
       "                                               title  \\\n",
       "0  us budget fight looms republicans flip fiscal ...   \n",
       "1  us military accept transgender recruits monday...   \n",
       "2    senior us republican senator let mr mueller job   \n",
       "3  fbi russia probe helped australian diplomat ti...   \n",
       "4  trump wants postal service charge much amazon ...   \n",
       "\n",
       "                                                text                date  \\\n",
       "0  washington reuters head conservative republica...  december 31, 2017    \n",
       "1  washington reuters transgender people allowed ...  december 29, 2017    \n",
       "2  washington reuters special counsel investigati...  december 31, 2017    \n",
       "3  washington reuters trump campaign adviser geor...  december 30, 2017    \n",
       "4  seattlewashington reuters president donald tru...  december 29, 2017    \n",
       "\n",
       "  category  \n",
       "0     true  \n",
       "1     true  \n",
       "2     true  \n",
       "3     true  \n",
       "4     true  "
      ]
     },
     "execution_count": 27,
     "metadata": {},
     "output_type": "execute_result"
    }
   ],
   "source": [
    "fn['title'] = fn['title'].apply(lemmat)\n",
    "fn['text'] = fn['text'].apply(lemmat)\n",
    "fn['title'] = fn['title'].apply(stemm)\n",
    "fn['text'] = fn['text'].apply(stemm)\n",
    "fn.head()"
   ]
  },
  {
   "cell_type": "code",
   "execution_count": 28,
   "id": "332cd068-c3fa-49f1-aff8-ddf9f92ec109",
   "metadata": {},
   "outputs": [
    {
     "name": "stdout",
     "output_type": "stream",
     "text": [
      "Cleaned data is saved as cleaned_data.csv\n"
     ]
    }
   ],
   "source": [
    "fn.to_csv('cleaned_data.csv',index=False)\n",
    "print(\"Cleaned data is saved as cleaned_data.csv\")"
   ]
  },
  {
   "cell_type": "code",
   "execution_count": 29,
   "id": "209ee00b-8f1d-41ea-9f88-e0de83c7fe9f",
   "metadata": {},
   "outputs": [
    {
     "data": {
      "text/html": [
       "<div>\n",
       "<style scoped>\n",
       "    .dataframe tbody tr th:only-of-type {\n",
       "        vertical-align: middle;\n",
       "    }\n",
       "\n",
       "    .dataframe tbody tr th {\n",
       "        vertical-align: top;\n",
       "    }\n",
       "\n",
       "    .dataframe thead th {\n",
       "        text-align: right;\n",
       "    }\n",
       "</style>\n",
       "<table border=\"1\" class=\"dataframe\">\n",
       "  <thead>\n",
       "    <tr style=\"text-align: right;\">\n",
       "      <th></th>\n",
       "      <th>title</th>\n",
       "      <th>text</th>\n",
       "      <th>date</th>\n",
       "      <th>category</th>\n",
       "    </tr>\n",
       "  </thead>\n",
       "  <tbody>\n",
       "    <tr>\n",
       "      <th>0</th>\n",
       "      <td>us budget fight looms republicans flip fiscal ...</td>\n",
       "      <td>washington reuters head conservative republica...</td>\n",
       "      <td>december 31, 2017</td>\n",
       "      <td>true</td>\n",
       "    </tr>\n",
       "    <tr>\n",
       "      <th>1</th>\n",
       "      <td>us military accept transgender recruits monday...</td>\n",
       "      <td>washington reuters transgender people allowed ...</td>\n",
       "      <td>december 29, 2017</td>\n",
       "      <td>true</td>\n",
       "    </tr>\n",
       "    <tr>\n",
       "      <th>2</th>\n",
       "      <td>senior us republican senator let mr mueller job</td>\n",
       "      <td>washington reuters special counsel investigati...</td>\n",
       "      <td>december 31, 2017</td>\n",
       "      <td>true</td>\n",
       "    </tr>\n",
       "    <tr>\n",
       "      <th>3</th>\n",
       "      <td>fbi russia probe helped australian diplomat ti...</td>\n",
       "      <td>washington reuters trump campaign adviser geor...</td>\n",
       "      <td>december 30, 2017</td>\n",
       "      <td>true</td>\n",
       "    </tr>\n",
       "    <tr>\n",
       "      <th>4</th>\n",
       "      <td>trump wants postal service charge much amazon ...</td>\n",
       "      <td>seattlewashington reuters president donald tru...</td>\n",
       "      <td>december 29, 2017</td>\n",
       "      <td>true</td>\n",
       "    </tr>\n",
       "  </tbody>\n",
       "</table>\n",
       "</div>"
      ],
      "text/plain": [
       "                                               title  \\\n",
       "0  us budget fight looms republicans flip fiscal ...   \n",
       "1  us military accept transgender recruits monday...   \n",
       "2    senior us republican senator let mr mueller job   \n",
       "3  fbi russia probe helped australian diplomat ti...   \n",
       "4  trump wants postal service charge much amazon ...   \n",
       "\n",
       "                                                text                date  \\\n",
       "0  washington reuters head conservative republica...  december 31, 2017    \n",
       "1  washington reuters transgender people allowed ...  december 29, 2017    \n",
       "2  washington reuters special counsel investigati...  december 31, 2017    \n",
       "3  washington reuters trump campaign adviser geor...  december 30, 2017    \n",
       "4  seattlewashington reuters president donald tru...  december 29, 2017    \n",
       "\n",
       "  category  \n",
       "0     true  \n",
       "1     true  \n",
       "2     true  \n",
       "3     true  \n",
       "4     true  "
      ]
     },
     "execution_count": 29,
     "metadata": {},
     "output_type": "execute_result"
    }
   ],
   "source": [
    "cleaned_data = pd.read_csv('cleaned_data.csv')\n",
    "cleaned_data.head()"
   ]
  },
  {
   "cell_type": "code",
   "execution_count": 30,
   "id": "63ff9454-52fa-4f5f-9927-17d07243dd1b",
   "metadata": {},
   "outputs": [
    {
     "data": {
      "text/plain": [
       "array(['true', 'fake'], dtype=object)"
      ]
     },
     "execution_count": 30,
     "metadata": {},
     "output_type": "execute_result"
    }
   ],
   "source": [
    "import matplotlib.pyplot as plt\n",
    "fn['category'].unique()"
   ]
  },
  {
   "cell_type": "code",
   "execution_count": 31,
   "id": "4e10d2f3-a2ea-455d-8752-4e3089837a1e",
   "metadata": {},
   "outputs": [
    {
     "data": {
      "text/plain": [
       "category\n",
       "true    20826\n",
       "fake    17894\n",
       "Name: count, dtype: int64"
      ]
     },
     "execution_count": 31,
     "metadata": {},
     "output_type": "execute_result"
    }
   ],
   "source": [
    "fn['category'].value_counts()"
   ]
  },
  {
   "cell_type": "code",
   "execution_count": 32,
   "id": "64775d57-3e49-4de8-802e-4dfe178e4334",
   "metadata": {},
   "outputs": [
    {
     "data": {
      "image/png": "[encoded data removed]",
      "text/plain": [
       "<Figure size 640x480 with 1 Axes>"
      ]
     },
     "metadata": {},
     "output_type": "display_data"
    }
   ],
   "source": [
    "class_counts = fn['category'].value_counts()\n",
    "\n",
    "# Plot Pie Chart for Balance Check\n",
    "# plt.figure(figsize=(6, 6))\n",
    "plt.pie(class_counts, labels=class_counts.index, autopct='%1.1f%%', startangle=90)\n",
    "plt.title('Class Distribution (Pie Chart)')\n",
    "plt.show()"
   ]
  },
  {
   "cell_type": "code",
   "execution_count": 33,
   "id": "2770b871-4e27-4585-bfe7-e839da4caf1c",
   "metadata": {},
   "outputs": [
    {
     "data": {
      "image/png": "[encoded data removed]",
      "text/plain": [
       "<Figure size 800x600 with 1 Axes>"
      ]
     },
     "metadata": {},
     "output_type": "display_data"
    }
   ],
   "source": [
    "import seaborn as sns\n",
    "plt.figure(figsize=(8, 6))\n",
    "sns.barplot(x=class_counts.index, y=class_counts.values)\n",
    "plt.title('Class Distribution (Bar Chart)')\n",
    "plt.xlabel('Class')\n",
    "plt.ylabel('Count')\n",
    "plt.show()"
   ]
  },
  {
   "cell_type": "code",
   "execution_count": null,
   "id": "1e7868b0-228f-41b3-aa96-8059c078443a",
   "metadata": {},
   "outputs": [],
   "source": []
  }
 ],
 "metadata": {
  "kernelspec": {
   "display_name": "Python 3 (ipykernel)",
   "language": "python",
   "name": "python3"
  },
  "language_info": {
   "codemirror_mode": {
    "name": "ipython",
    "version": 3
   },
   "file_extension": ".py",
   "mimetype": "text/x-python",
   "name": "python",
   "nbconvert_exporter": "python",
   "pygments_lexer": "ipython3",
   "version": "3.11.7"
  }
 },
 "nbformat": 4,
 "nbformat_minor": 5
}
