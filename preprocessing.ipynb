{
 "cells": [
  {
   "cell_type": "code",
   "execution_count": 1,
   "id": "c4ac1abc-4224-4cf6-9b57-2aeaf06ae5ae",
   "metadata": {},
   "outputs": [],
   "source": [
    "import pandas as pd\n",
    "import numpy as np"
   ]
  },
  {
   "cell_type": "code",
   "execution_count": 2,
   "id": "e47f3093-f28a-40d1-a6e6-987097bc214d",
   "metadata": {},
   "outputs": [
    {
     "data": {
      "text/html": [
       "<div>\n",
       "<style scoped>\n",
       "    .dataframe tbody tr th:only-of-type {\n",
       "        vertical-align: middle;\n",
       "    }\n",
       "\n",
       "    .dataframe tbody tr th {\n",
       "        vertical-align: top;\n",
       "    }\n",
       "\n",
       "    .dataframe thead th {\n",
       "        text-align: right;\n",
       "    }\n",
       "</style>\n",
       "<table border=\"1\" class=\"dataframe\">\n",
       "  <thead>\n",
       "    <tr style=\"text-align: right;\">\n",
       "      <th></th>\n",
       "      <th>title</th>\n",
       "      <th>text</th>\n",
       "      <th>date</th>\n",
       "      <th>category</th>\n",
       "    </tr>\n",
       "  </thead>\n",
       "  <tbody>\n",
       "    <tr>\n",
       "      <th>0</th>\n",
       "      <td>As U.S. budget fight looms, Republicans flip t...</td>\n",
       "      <td>WASHINGTON (Reuters) - The head of a conservat...</td>\n",
       "      <td>December 31, 2017</td>\n",
       "      <td>TRUE</td>\n",
       "    </tr>\n",
       "    <tr>\n",
       "      <th>1</th>\n",
       "      <td>U.S. military to accept transgender recruits o...</td>\n",
       "      <td>WASHINGTON (Reuters) - Transgender people will...</td>\n",
       "      <td>December 29, 2017</td>\n",
       "      <td>TRUE</td>\n",
       "    </tr>\n",
       "    <tr>\n",
       "      <th>2</th>\n",
       "      <td>Senior U.S. Republican senator: 'Let Mr. Muell...</td>\n",
       "      <td>WASHINGTON (Reuters) - The special counsel inv...</td>\n",
       "      <td>December 31, 2017</td>\n",
       "      <td>TRUE</td>\n",
       "    </tr>\n",
       "    <tr>\n",
       "      <th>3</th>\n",
       "      <td>FBI Russia probe helped by Australian diplomat...</td>\n",
       "      <td>WASHINGTON (Reuters) - Trump campaign adviser ...</td>\n",
       "      <td>December 30, 2017</td>\n",
       "      <td>TRUE</td>\n",
       "    </tr>\n",
       "    <tr>\n",
       "      <th>4</th>\n",
       "      <td>Trump wants Postal Service to charge 'much mor...</td>\n",
       "      <td>SEATTLE/WASHINGTON (Reuters) - President Donal...</td>\n",
       "      <td>December 29, 2017</td>\n",
       "      <td>TRUE</td>\n",
       "    </tr>\n",
       "  </tbody>\n",
       "</table>\n",
       "</div>"
      ],
      "text/plain": [
       "                                               title  \\\n",
       "0  As U.S. budget fight looms, Republicans flip t...   \n",
       "1  U.S. military to accept transgender recruits o...   \n",
       "2  Senior U.S. Republican senator: 'Let Mr. Muell...   \n",
       "3  FBI Russia probe helped by Australian diplomat...   \n",
       "4  Trump wants Postal Service to charge 'much mor...   \n",
       "\n",
       "                                                text                date  \\\n",
       "0  WASHINGTON (Reuters) - The head of a conservat...  December 31, 2017    \n",
       "1  WASHINGTON (Reuters) - Transgender people will...  December 29, 2017    \n",
       "2  WASHINGTON (Reuters) - The special counsel inv...  December 31, 2017    \n",
       "3  WASHINGTON (Reuters) - Trump campaign adviser ...  December 30, 2017    \n",
       "4  SEATTLE/WASHINGTON (Reuters) - President Donal...  December 29, 2017    \n",
       "\n",
       "  category  \n",
       "0     TRUE  \n",
       "1     TRUE  \n",
       "2     TRUE  \n",
       "3     TRUE  \n",
       "4     TRUE  "
      ]
     },
     "execution_count": 2,
     "metadata": {},
     "output_type": "execute_result"
    }
   ],
   "source": [
    "fn = pd.read_csv('fake_news.csv')\n",
    "fn.head()"
   ]
  },
  {
   "cell_type": "code",
   "execution_count": 3,
   "id": "edb3b36e-bb02-4899-a8c3-a3ad9f4cd96c",
   "metadata": {},
   "outputs": [
    {
     "name": "stdout",
     "output_type": "stream",
     "text": [
      "<class 'pandas.core.frame.DataFrame'>\n",
      "RangeIndex: 44890 entries, 0 to 44889\n",
      "Data columns (total 4 columns):\n",
      " #   Column    Non-Null Count  Dtype \n",
      "---  ------    --------------  ----- \n",
      " 0   title     44882 non-null  object\n",
      " 1   text      44882 non-null  object\n",
      " 2   date      44880 non-null  object\n",
      " 3   category  44880 non-null  object\n",
      "dtypes: object(4)\n",
      "memory usage: 1.4+ MB\n"
     ]
    }
   ],
   "source": [
    "fn.info()"
   ]
  },
  {
   "cell_type": "code",
   "execution_count": 4,
   "id": "a29e5fbc-2d59-4ee2-bd0a-a81fd7348377",
   "metadata": {},
   "outputs": [
    {
     "data": {
      "text/plain": [
       "title        8\n",
       "text         8\n",
       "date        10\n",
       "category    10\n",
       "dtype: int64"
      ]
     },
     "execution_count": 4,
     "metadata": {},
     "output_type": "execute_result"
    }
   ],
   "source": [
    "fn.isna().sum()"
   ]
  },
  {
   "cell_type": "code",
   "execution_count": 5,
   "id": "aceae8a1-638f-4666-a08f-be8c09ea5ee9",
   "metadata": {},
   "outputs": [],
   "source": [
    "fn.dropna(subset=['title'], inplace=True)\n",
    "fn.dropna(subset=['date'], inplace=True)          "
   ]
  },
  {
   "cell_type": "code",
   "execution_count": 6,
   "id": "a08b24b3-fa2f-420c-a0df-590a9913a04b",
   "metadata": {},
   "outputs": [
    {
     "data": {
      "text/plain": [
       "title       0\n",
       "text        0\n",
       "date        0\n",
       "category    0\n",
       "dtype: int64"
      ]
     },
     "execution_count": 6,
     "metadata": {},
     "output_type": "execute_result"
    }
   ],
   "source": [
    "fn.isna().sum()"
   ]
  },
  {
   "cell_type": "code",
   "execution_count": 7,
   "id": "d1cf3f6f-ee4f-435e-8f32-9d784c2568af",
   "metadata": {},
   "outputs": [
    {
     "name": "stdout",
     "output_type": "stream",
     "text": [
      "0        False\n",
      "1        False\n",
      "2        False\n",
      "3        False\n",
      "4        False\n",
      "         ...  \n",
      "44885     True\n",
      "44886     True\n",
      "44887     True\n",
      "44888     True\n",
      "44889     True\n",
      "Name: title, Length: 44880, dtype: bool\n"
     ]
    }
   ],
   "source": [
    "duplicate = fn['title'].duplicated()\n",
    "print(duplicate)"
   ]
  },
  {
   "cell_type": "code",
   "execution_count": 8,
   "id": "086ca604-6e65-4295-906f-1af7275c837e",
   "metadata": {},
   "outputs": [
    {
     "name": "stdout",
     "output_type": "stream",
     "text": [
      "                                                   title  \\\n",
      "0      As U.S. budget fight looms, Republicans flip t...   \n",
      "1      U.S. military to accept transgender recruits o...   \n",
      "2      Senior U.S. Republican senator: 'Let Mr. Muell...   \n",
      "3      FBI Russia probe helped by Australian diplomat...   \n",
      "4      Trump wants Postal Service to charge 'much mor...   \n",
      "...                                                  ...   \n",
      "44115  The White House and The Theatrics of ‘Gun Cont...   \n",
      "44116  Activists or Terrorists? How Media Controls an...   \n",
      "44117  BOILER ROOM – No Surrender, No Retreat, Heads ...   \n",
      "44118  Federal Showdown Looms in Oregon After BLM Abu...   \n",
      "44119  A Troubled King: Chicago’s Rahm Emanuel Desper...   \n",
      "\n",
      "                                                    text                date  \\\n",
      "0      WASHINGTON (Reuters) - The head of a conservat...  December 31, 2017    \n",
      "1      WASHINGTON (Reuters) - Transgender people will...  December 29, 2017    \n",
      "2      WASHINGTON (Reuters) - The special counsel inv...  December 31, 2017    \n",
      "3      WASHINGTON (Reuters) - Trump campaign adviser ...  December 30, 2017    \n",
      "4      SEATTLE/WASHINGTON (Reuters) - President Donal...  December 29, 2017    \n",
      "...                                                  ...                 ...   \n",
      "44115  21st Century Wire says All the world s a stage...     January 7, 2016   \n",
      "44116    Randy Johnson 21st Century WireThe majority ...     January 7, 2016   \n",
      "44117  Tune in to the Alternate Current Radio Network...     January 6, 2016   \n",
      "44118  21st Century Wire says A new front has just op...     January 4, 2016   \n",
      "44119  21st Century Wire says It s not that far away....     January 2, 2016   \n",
      "\n",
      "      category  \n",
      "0         TRUE  \n",
      "1         TRUE  \n",
      "2         TRUE  \n",
      "3         TRUE  \n",
      "4         TRUE  \n",
      "...        ...  \n",
      "44115     FAKE  \n",
      "44116     FAKE  \n",
      "44117     FAKE  \n",
      "44118     FAKE  \n",
      "44119     FAKE  \n",
      "\n",
      "[38720 rows x 4 columns]\n"
     ]
    }
   ],
   "source": [
    "fn = fn.drop_duplicates(subset=['title'], keep='first')\n",
    "print(fn)"
   ]
  },
  {
   "cell_type": "code",
   "execution_count": 9,
   "id": "fd50dccc-475e-4c32-a0b6-96f958ec521d",
   "metadata": {},
   "outputs": [
    {
     "name": "stdout",
     "output_type": "stream",
     "text": [
      "Duplicated rows: 0\n",
      "0        False\n",
      "1        False\n",
      "2        False\n",
      "3        False\n",
      "4        False\n",
      "         ...  \n",
      "44115    False\n",
      "44116    False\n",
      "44117    False\n",
      "44118    False\n",
      "44119    False\n",
      "Name: title, Length: 38720, dtype: bool\n"
     ]
    }
   ],
   "source": [
    "duplicate = fn['title'].duplicated()\n",
    "print(\"Duplicated rows:\",duplicate.sum())\n",
    "print(duplicate)"
   ]
  },
  {
   "cell_type": "code",
   "execution_count": 10,
   "id": "c20dc23b-053e-4005-a9a4-665e3a36177e",
   "metadata": {},
   "outputs": [
    {
     "data": {
      "text/plain": [
       "(38720, 4)"
      ]
     },
     "execution_count": 10,
     "metadata": {},
     "output_type": "execute_result"
    }
   ],
   "source": [
    "fn.shape"
   ]
  },
  {
   "cell_type": "code",
   "execution_count": 11,
   "id": "9d0413c3-bb5a-42c3-a030-88e416628233",
   "metadata": {},
   "outputs": [
    {
     "data": {
      "text/html": [
       "<div>\n",
       "<style scoped>\n",
       "    .dataframe tbody tr th:only-of-type {\n",
       "        vertical-align: middle;\n",
       "    }\n",
       "\n",
       "    .dataframe tbody tr th {\n",
       "        vertical-align: top;\n",
       "    }\n",
       "\n",
       "    .dataframe thead th {\n",
       "        text-align: right;\n",
       "    }\n",
       "</style>\n",
       "<table border=\"1\" class=\"dataframe\">\n",
       "  <thead>\n",
       "    <tr style=\"text-align: right;\">\n",
       "      <th></th>\n",
       "      <th>title</th>\n",
       "      <th>text</th>\n",
       "      <th>date</th>\n",
       "      <th>category</th>\n",
       "    </tr>\n",
       "  </thead>\n",
       "  <tbody>\n",
       "    <tr>\n",
       "      <th>0</th>\n",
       "      <td>As U.S. budget fight looms, Republicans flip t...</td>\n",
       "      <td>WASHINGTON (Reuters) - The head of a conservat...</td>\n",
       "      <td>December 31, 2017</td>\n",
       "      <td>TRUE</td>\n",
       "    </tr>\n",
       "    <tr>\n",
       "      <th>1</th>\n",
       "      <td>U.S. military to accept transgender recruits o...</td>\n",
       "      <td>WASHINGTON (Reuters) - Transgender people will...</td>\n",
       "      <td>December 29, 2017</td>\n",
       "      <td>TRUE</td>\n",
       "    </tr>\n",
       "    <tr>\n",
       "      <th>2</th>\n",
       "      <td>Senior U.S. Republican senator: 'Let Mr. Muell...</td>\n",
       "      <td>WASHINGTON (Reuters) - The special counsel inv...</td>\n",
       "      <td>December 31, 2017</td>\n",
       "      <td>TRUE</td>\n",
       "    </tr>\n",
       "    <tr>\n",
       "      <th>3</th>\n",
       "      <td>FBI Russia probe helped by Australian diplomat...</td>\n",
       "      <td>WASHINGTON (Reuters) - Trump campaign adviser ...</td>\n",
       "      <td>December 30, 2017</td>\n",
       "      <td>TRUE</td>\n",
       "    </tr>\n",
       "    <tr>\n",
       "      <th>4</th>\n",
       "      <td>Trump wants Postal Service to charge 'much mor...</td>\n",
       "      <td>SEATTLE/WASHINGTON (Reuters) - President Donal...</td>\n",
       "      <td>December 29, 2017</td>\n",
       "      <td>TRUE</td>\n",
       "    </tr>\n",
       "  </tbody>\n",
       "</table>\n",
       "</div>"
      ],
      "text/plain": [
       "                                               title  \\\n",
       "0  As U.S. budget fight looms, Republicans flip t...   \n",
       "1  U.S. military to accept transgender recruits o...   \n",
       "2  Senior U.S. Republican senator: 'Let Mr. Muell...   \n",
       "3  FBI Russia probe helped by Australian diplomat...   \n",
       "4  Trump wants Postal Service to charge 'much mor...   \n",
       "\n",
       "                                                text                date  \\\n",
       "0  WASHINGTON (Reuters) - The head of a conservat...  December 31, 2017    \n",
       "1  WASHINGTON (Reuters) - Transgender people will...  December 29, 2017    \n",
       "2  WASHINGTON (Reuters) - The special counsel inv...  December 31, 2017    \n",
       "3  WASHINGTON (Reuters) - Trump campaign adviser ...  December 30, 2017    \n",
       "4  SEATTLE/WASHINGTON (Reuters) - President Donal...  December 29, 2017    \n",
       "\n",
       "  category  \n",
       "0     TRUE  \n",
       "1     TRUE  \n",
       "2     TRUE  \n",
       "3     TRUE  \n",
       "4     TRUE  "
      ]
     },
     "execution_count": 11,
     "metadata": {},
     "output_type": "execute_result"
    }
   ],
   "source": [
    "fn.head()"
   ]
  },
  {
   "cell_type": "code",
   "execution_count": 12,
   "id": "41c2f30d-b9ca-4fb1-bc4d-eb6fd1fb79aa",
   "metadata": {},
   "outputs": [
    {
     "name": "stdout",
     "output_type": "stream",
     "text": [
      "<class 'pandas.core.frame.DataFrame'>\n",
      "Index: 38720 entries, 0 to 44119\n",
      "Data columns (total 4 columns):\n",
      " #   Column    Non-Null Count  Dtype \n",
      "---  ------    --------------  ----- \n",
      " 0   title     38720 non-null  object\n",
      " 1   text      38720 non-null  object\n",
      " 2   date      38720 non-null  object\n",
      " 3   category  38720 non-null  object\n",
      "dtypes: object(4)\n",
      "memory usage: 1.5+ MB\n"
     ]
    }
   ],
   "source": [
    "fn.info()"
   ]
  },
  {
   "cell_type": "code",
   "execution_count": 13,
   "id": "332cd068-c3fa-49f1-aff8-ddf9f92ec109",
   "metadata": {},
   "outputs": [
    {
     "name": "stdout",
     "output_type": "stream",
     "text": [
      "Cleaned data is saved as cleaned_data.csv\n"
     ]
    }
   ],
   "source": [
    "fn.to_csv('cleaned_data.csv',index=False)\n",
    "print(\"Cleaned data is saved as cleaned_data.csv\")"
   ]
  },
  {
   "cell_type": "code",
   "execution_count": 14,
   "id": "63ff9454-52fa-4f5f-9927-17d07243dd1b",
   "metadata": {},
   "outputs": [
    {
     "data": {
      "text/plain": [
       "array(['TRUE', 'FAKE'], dtype=object)"
      ]
     },
     "execution_count": 14,
     "metadata": {},
     "output_type": "execute_result"
    }
   ],
   "source": [
    "import matplotlib as plt\n",
    "fn['category'].unique()"
   ]
  },
  {
   "cell_type": "code",
   "execution_count": 15,
   "id": "4e10d2f3-a2ea-455d-8752-4e3089837a1e",
   "metadata": {},
   "outputs": [
    {
     "data": {
      "text/plain": [
       "category\n",
       "TRUE    20826\n",
       "FAKE    17894\n",
       "Name: count, dtype: int64"
      ]
     },
     "execution_count": 15,
     "metadata": {},
     "output_type": "execute_result"
    }
   ],
   "source": [
    "fn['category'].value_counts()"
   ]
  },
  {
   "cell_type": "code",
   "execution_count": 16,
   "id": "64775d57-3e49-4de8-802e-4dfe178e4334",
   "metadata": {},
   "outputs": [
    {
     "data": {
      "text/plain": [
       "<Axes: xlabel='category'>"
      ]
     },
     "execution_count": 16,
     "metadata": {},
     "output_type": "execute_result"
    },
    {
     "data": {
      "image/png": "[encoded data removed]",
      "text/plain": [
       "<Figure size 640x480 with 1 Axes>"
      ]
     },
     "metadata": {},
     "output_type": "display_data"
    }
   ],
   "source": [
    "fn['category'].value_counts().plot(kind='bar')"
   ]
  },
  {
   "cell_type": "code",
   "execution_count": null,
   "id": "eaa74f67-2d0d-4e57-a048-8c9a4a05eb8f",
   "metadata": {},
   "outputs": [],
   "source": []
  }
 ],
 "metadata": {
  "kernelspec": {
   "display_name": "Python 3 (ipykernel)",
   "language": "python",
   "name": "python3"
  },
  "language_info": {
   "codemirror_mode": {
    "name": "ipython",
    "version": 3
   },
   "file_extension": ".py",
   "mimetype": "text/x-python",
   "name": "python",
   "nbconvert_exporter": "python",
   "pygments_lexer": "ipython3",
   "version": "3.11.7"
  }
 },
 "nbformat": 4,
 "nbformat_minor": 5
}
