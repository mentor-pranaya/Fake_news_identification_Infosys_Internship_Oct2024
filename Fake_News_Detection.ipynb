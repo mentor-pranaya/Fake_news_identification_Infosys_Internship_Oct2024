{
  "nbformat": 4,
  "nbformat_minor": 0,
  "metadata": {
    "colab": {
      "provenance": [],
      "authorship_tag": "ABX9TyNa48TOz9/dT2CbJoMccrVS",
      "include_colab_link": true
    },
    "kernelspec": {
      "name": "python3",
      "display_name": "Python 3"
    },
    "language_info": {
      "name": "python"
    }
  },
  "cells": [
    {
      "cell_type": "markdown",
      "metadata": {
        "id": "view-in-github",
        "colab_type": "text"
      },
      "source": [
        "<a href=\"https://colab.research.google.com/github/mentor-pranaya/Fake_news_identification_Infosys_Internship_Oct2024/blob/Pratham-Moodbidri/Fake_News_Detection.ipynb\" target=\"_parent\"><img src=\"https://colab.research.google.com/assets/colab-badge.svg\" alt=\"Open In Colab\"/></a>"
      ]
    },
    {
      "cell_type": "markdown",
      "source": [
        "# Importing the Dataset"
      ],
      "metadata": {
        "id": "gup4J4qXYKNF"
      }
    },
    {
      "cell_type": "code",
      "execution_count": null,
      "metadata": {
        "colab": {
          "base_uri": "https://localhost:8080/"
        },
        "id": "d37rr6OW_IRi",
        "outputId": "442634b6-6e1e-458e-efd3-15cecdc1e4db"
      },
      "outputs": [
        {
          "output_type": "stream",
          "name": "stdout",
          "text": [
            "Mounted at /content/drive\n"
          ]
        }
      ],
      "source": [
        "from google.colab import drive\n",
        "drive.mount('/content/drive')"
      ]
    },
    {
      "cell_type": "code",
      "source": [
        "import pandas as pd"
      ],
      "metadata": {
        "id": "ZC2fzIuu_hyz"
      },
      "execution_count": null,
      "outputs": []
    },
    {
      "cell_type": "code",
      "source": [
        "file_path = '/content/drive/MyDrive/Projects/Fake News Project/Fake News Dataset.xlsx'\n",
        "df = pd.read_excel(file_path)\n",
        "df.head()"
      ],
      "metadata": {
        "colab": {
          "base_uri": "https://localhost:8080/",
          "height": 206
        },
        "id": "_jiMBPoW_lug",
        "outputId": "34bbc1df-dbbd-4922-f658-aae3f21b9937"
      },
      "execution_count": null,
      "outputs": [
        {
          "output_type": "execute_result",
          "data": {
            "text/plain": [
              "                                               Title Author Description  \\\n",
              "0  Teen Mom Star Jenelle Evans' Wedding Dress Is ...    NaN         NaN   \n",
              "1  Kylie Jenner refusing to discuss Tyga on Life ...    NaN         NaN   \n",
              "2                                      Quinn Perkins    NaN         NaN   \n",
              "3  I Tried Kim Kardashian's Butt Workout & Am For...    NaN         NaN   \n",
              "4  Celine Dion donates concert proceeds to Vegas ...    NaN         NaN   \n",
              "\n",
              "                                                 URL  Category Date True/False  \n",
              "0  https://www.brides.com/story/teen-mom-jenelle-...       NaN  NaN       True  \n",
              "1  https://www.dailymail.co.uk/tvshowbiz/article-...       NaN  NaN       True  \n",
              "2        https://en.wikipedia.org/wiki/Quinn_Perkins       NaN  NaN       True  \n",
              "3  https://www.refinery29.com/en-us/2018/03/19192...       NaN  NaN       True  \n",
              "4  https://www.cnn.com/2017/10/04/entertainment/c...       NaN  NaN       True  "
            ],
            "text/html": [
              "\n",
              "  <div id=\"df-9c4a192f-85e2-4ce6-9deb-02d8d5ea0f8f\" class=\"colab-df-container\">\n",
              "    <div>\n",
              "<style scoped>\n",
              "    .dataframe tbody tr th:only-of-type {\n",
              "        vertical-align: middle;\n",
              "    }\n",
              "\n",
              "    .dataframe tbody tr th {\n",
              "        vertical-align: top;\n",
              "    }\n",
              "\n",
              "    .dataframe thead th {\n",
              "        text-align: right;\n",
              "    }\n",
              "</style>\n",
              "<table border=\"1\" class=\"dataframe\">\n",
              "  <thead>\n",
              "    <tr style=\"text-align: right;\">\n",
              "      <th></th>\n",
              "      <th>Title</th>\n",
              "      <th>Author</th>\n",
              "      <th>Description</th>\n",
              "      <th>URL</th>\n",
              "      <th>Category</th>\n",
              "      <th>Date</th>\n",
              "      <th>True/False</th>\n",
              "    </tr>\n",
              "  </thead>\n",
              "  <tbody>\n",
              "    <tr>\n",
              "      <th>0</th>\n",
              "      <td>Teen Mom Star Jenelle Evans' Wedding Dress Is ...</td>\n",
              "      <td>NaN</td>\n",
              "      <td>NaN</td>\n",
              "      <td>https://www.brides.com/story/teen-mom-jenelle-...</td>\n",
              "      <td>NaN</td>\n",
              "      <td>NaN</td>\n",
              "      <td>True</td>\n",
              "    </tr>\n",
              "    <tr>\n",
              "      <th>1</th>\n",
              "      <td>Kylie Jenner refusing to discuss Tyga on Life ...</td>\n",
              "      <td>NaN</td>\n",
              "      <td>NaN</td>\n",
              "      <td>https://www.dailymail.co.uk/tvshowbiz/article-...</td>\n",
              "      <td>NaN</td>\n",
              "      <td>NaN</td>\n",
              "      <td>True</td>\n",
              "    </tr>\n",
              "    <tr>\n",
              "      <th>2</th>\n",
              "      <td>Quinn Perkins</td>\n",
              "      <td>NaN</td>\n",
              "      <td>NaN</td>\n",
              "      <td>https://en.wikipedia.org/wiki/Quinn_Perkins</td>\n",
              "      <td>NaN</td>\n",
              "      <td>NaN</td>\n",
              "      <td>True</td>\n",
              "    </tr>\n",
              "    <tr>\n",
              "      <th>3</th>\n",
              "      <td>I Tried Kim Kardashian's Butt Workout &amp; Am For...</td>\n",
              "      <td>NaN</td>\n",
              "      <td>NaN</td>\n",
              "      <td>https://www.refinery29.com/en-us/2018/03/19192...</td>\n",
              "      <td>NaN</td>\n",
              "      <td>NaN</td>\n",
              "      <td>True</td>\n",
              "    </tr>\n",
              "    <tr>\n",
              "      <th>4</th>\n",
              "      <td>Celine Dion donates concert proceeds to Vegas ...</td>\n",
              "      <td>NaN</td>\n",
              "      <td>NaN</td>\n",
              "      <td>https://www.cnn.com/2017/10/04/entertainment/c...</td>\n",
              "      <td>NaN</td>\n",
              "      <td>NaN</td>\n",
              "      <td>True</td>\n",
              "    </tr>\n",
              "  </tbody>\n",
              "</table>\n",
              "</div>\n",
              "    <div class=\"colab-df-buttons\">\n",
              "\n",
              "  <div class=\"colab-df-container\">\n",
              "    <button class=\"colab-df-convert\" onclick=\"convertToInteractive('df-9c4a192f-85e2-4ce6-9deb-02d8d5ea0f8f')\"\n",
              "            title=\"Convert this dataframe to an interactive table.\"\n",
              "            style=\"display:none;\">\n",
              "\n",
              "  <svg xmlns=\"http://www.w3.org/2000/svg\" height=\"24px\" viewBox=\"0 -960 960 960\">\n",
              "    <path d=\"M120-120v-720h720v720H120Zm60-500h600v-160H180v160Zm220 220h160v-160H400v160Zm0 220h160v-160H400v160ZM180-400h160v-160H180v160Zm440 0h160v-160H620v160ZM180-180h160v-160H180v160Zm440 0h160v-160H620v160Z\"/>\n",
              "  </svg>\n",
              "    </button>\n",
              "\n",
              "  <style>\n",
              "    .colab-df-container {\n",
              "      display:flex;\n",
              "      gap: 12px;\n",
              "    }\n",
              "\n",
              "    .colab-df-convert {\n",
              "      background-color: #E8F0FE;\n",
              "      border: none;\n",
              "      border-radius: 50%;\n",
              "      cursor: pointer;\n",
              "      display: none;\n",
              "      fill: #1967D2;\n",
              "      height: 32px;\n",
              "      padding: 0 0 0 0;\n",
              "      width: 32px;\n",
              "    }\n",
              "\n",
              "    .colab-df-convert:hover {\n",
              "      background-color: #E2EBFA;\n",
              "      box-shadow: 0px 1px 2px rgba(60, 64, 67, 0.3), 0px 1px 3px 1px rgba(60, 64, 67, 0.15);\n",
              "      fill: #174EA6;\n",
              "    }\n",
              "\n",
              "    .colab-df-buttons div {\n",
              "      margin-bottom: 4px;\n",
              "    }\n",
              "\n",
              "    [theme=dark] .colab-df-convert {\n",
              "      background-color: #3B4455;\n",
              "      fill: #D2E3FC;\n",
              "    }\n",
              "\n",
              "    [theme=dark] .colab-df-convert:hover {\n",
              "      background-color: #434B5C;\n",
              "      box-shadow: 0px 1px 3px 1px rgba(0, 0, 0, 0.15);\n",
              "      filter: drop-shadow(0px 1px 2px rgba(0, 0, 0, 0.3));\n",
              "      fill: #FFFFFF;\n",
              "    }\n",
              "  </style>\n",
              "\n",
              "    <script>\n",
              "      const buttonEl =\n",
              "        document.querySelector('#df-9c4a192f-85e2-4ce6-9deb-02d8d5ea0f8f button.colab-df-convert');\n",
              "      buttonEl.style.display =\n",
              "        google.colab.kernel.accessAllowed ? 'block' : 'none';\n",
              "\n",
              "      async function convertToInteractive(key) {\n",
              "        const element = document.querySelector('#df-9c4a192f-85e2-4ce6-9deb-02d8d5ea0f8f');\n",
              "        const dataTable =\n",
              "          await google.colab.kernel.invokeFunction('convertToInteractive',\n",
              "                                                    [key], {});\n",
              "        if (!dataTable) return;\n",
              "\n",
              "        const docLinkHtml = 'Like what you see? Visit the ' +\n",
              "          '<a target=\"_blank\" href=https://colab.research.google.com/notebooks/data_table.ipynb>data table notebook</a>'\n",
              "          + ' to learn more about interactive tables.';\n",
              "        element.innerHTML = '';\n",
              "        dataTable['output_type'] = 'display_data';\n",
              "        await google.colab.output.renderOutput(dataTable, element);\n",
              "        const docLink = document.createElement('div');\n",
              "        docLink.innerHTML = docLinkHtml;\n",
              "        element.appendChild(docLink);\n",
              "      }\n",
              "    </script>\n",
              "  </div>\n",
              "\n",
              "\n",
              "<div id=\"df-9cc8ee17-f742-483c-8644-6799bf5d0547\">\n",
              "  <button class=\"colab-df-quickchart\" onclick=\"quickchart('df-9cc8ee17-f742-483c-8644-6799bf5d0547')\"\n",
              "            title=\"Suggest charts\"\n",
              "            style=\"display:none;\">\n",
              "\n",
              "<svg xmlns=\"http://www.w3.org/2000/svg\" height=\"24px\"viewBox=\"0 0 24 24\"\n",
              "     width=\"24px\">\n",
              "    <g>\n",
              "        <path d=\"M19 3H5c-1.1 0-2 .9-2 2v14c0 1.1.9 2 2 2h14c1.1 0 2-.9 2-2V5c0-1.1-.9-2-2-2zM9 17H7v-7h2v7zm4 0h-2V7h2v10zm4 0h-2v-4h2v4z\"/>\n",
              "    </g>\n",
              "</svg>\n",
              "  </button>\n",
              "\n",
              "<style>\n",
              "  .colab-df-quickchart {\n",
              "      --bg-color: #E8F0FE;\n",
              "      --fill-color: #1967D2;\n",
              "      --hover-bg-color: #E2EBFA;\n",
              "      --hover-fill-color: #174EA6;\n",
              "      --disabled-fill-color: #AAA;\n",
              "      --disabled-bg-color: #DDD;\n",
              "  }\n",
              "\n",
              "  [theme=dark] .colab-df-quickchart {\n",
              "      --bg-color: #3B4455;\n",
              "      --fill-color: #D2E3FC;\n",
              "      --hover-bg-color: #434B5C;\n",
              "      --hover-fill-color: #FFFFFF;\n",
              "      --disabled-bg-color: #3B4455;\n",
              "      --disabled-fill-color: #666;\n",
              "  }\n",
              "\n",
              "  .colab-df-quickchart {\n",
              "    background-color: var(--bg-color);\n",
              "    border: none;\n",
              "    border-radius: 50%;\n",
              "    cursor: pointer;\n",
              "    display: none;\n",
              "    fill: var(--fill-color);\n",
              "    height: 32px;\n",
              "    padding: 0;\n",
              "    width: 32px;\n",
              "  }\n",
              "\n",
              "  .colab-df-quickchart:hover {\n",
              "    background-color: var(--hover-bg-color);\n",
              "    box-shadow: 0 1px 2px rgba(60, 64, 67, 0.3), 0 1px 3px 1px rgba(60, 64, 67, 0.15);\n",
              "    fill: var(--button-hover-fill-color);\n",
              "  }\n",
              "\n",
              "  .colab-df-quickchart-complete:disabled,\n",
              "  .colab-df-quickchart-complete:disabled:hover {\n",
              "    background-color: var(--disabled-bg-color);\n",
              "    fill: var(--disabled-fill-color);\n",
              "    box-shadow: none;\n",
              "  }\n",
              "\n",
              "  .colab-df-spinner {\n",
              "    border: 2px solid var(--fill-color);\n",
              "    border-color: transparent;\n",
              "    border-bottom-color: var(--fill-color);\n",
              "    animation:\n",
              "      spin 1s steps(1) infinite;\n",
              "  }\n",
              "\n",
              "  @keyframes spin {\n",
              "    0% {\n",
              "      border-color: transparent;\n",
              "      border-bottom-color: var(--fill-color);\n",
              "      border-left-color: var(--fill-color);\n",
              "    }\n",
              "    20% {\n",
              "      border-color: transparent;\n",
              "      border-left-color: var(--fill-color);\n",
              "      border-top-color: var(--fill-color);\n",
              "    }\n",
              "    30% {\n",
              "      border-color: transparent;\n",
              "      border-left-color: var(--fill-color);\n",
              "      border-top-color: var(--fill-color);\n",
              "      border-right-color: var(--fill-color);\n",
              "    }\n",
              "    40% {\n",
              "      border-color: transparent;\n",
              "      border-right-color: var(--fill-color);\n",
              "      border-top-color: var(--fill-color);\n",
              "    }\n",
              "    60% {\n",
              "      border-color: transparent;\n",
              "      border-right-color: var(--fill-color);\n",
              "    }\n",
              "    80% {\n",
              "      border-color: transparent;\n",
              "      border-right-color: var(--fill-color);\n",
              "      border-bottom-color: var(--fill-color);\n",
              "    }\n",
              "    90% {\n",
              "      border-color: transparent;\n",
              "      border-bottom-color: var(--fill-color);\n",
              "    }\n",
              "  }\n",
              "</style>\n",
              "\n",
              "  <script>\n",
              "    async function quickchart(key) {\n",
              "      const quickchartButtonEl =\n",
              "        document.querySelector('#' + key + ' button');\n",
              "      quickchartButtonEl.disabled = true;  // To prevent multiple clicks.\n",
              "      quickchartButtonEl.classList.add('colab-df-spinner');\n",
              "      try {\n",
              "        const charts = await google.colab.kernel.invokeFunction(\n",
              "            'suggestCharts', [key], {});\n",
              "      } catch (error) {\n",
              "        console.error('Error during call to suggestCharts:', error);\n",
              "      }\n",
              "      quickchartButtonEl.classList.remove('colab-df-spinner');\n",
              "      quickchartButtonEl.classList.add('colab-df-quickchart-complete');\n",
              "    }\n",
              "    (() => {\n",
              "      let quickchartButtonEl =\n",
              "        document.querySelector('#df-9cc8ee17-f742-483c-8644-6799bf5d0547 button');\n",
              "      quickchartButtonEl.style.display =\n",
              "        google.colab.kernel.accessAllowed ? 'block' : 'none';\n",
              "    })();\n",
              "  </script>\n",
              "</div>\n",
              "\n",
              "    </div>\n",
              "  </div>\n"
            ],
            "application/vnd.google.colaboratory.intrinsic+json": {
              "type": "dataframe",
              "variable_name": "df"
            }
          },
          "metadata": {},
          "execution_count": 12
        }
      ]
    },
    {
      "cell_type": "code",
      "source": [
        "print(f'Total rows: {df.shape[0]}, Total columns: {df.shape[1]}')"
      ],
      "metadata": {
        "colab": {
          "base_uri": "https://localhost:8080/"
        },
        "id": "R5oQ5IldCPyc",
        "outputId": "5427c615-9bb3-4f23-c936-463db40d4c4d"
      },
      "execution_count": null,
      "outputs": [
        {
          "output_type": "stream",
          "name": "stdout",
          "text": [
            "Total rows: 123067, Total columns: 7\n"
          ]
        }
      ]
    },
    {
      "cell_type": "code",
      "source": [
        "print(df.isnull().sum())"
      ],
      "metadata": {
        "colab": {
          "base_uri": "https://localhost:8080/"
        },
        "id": "5bw76jCnCSpz",
        "outputId": "2941770a-579b-42e9-addc-89e5cdf582cb"
      },
      "execution_count": null,
      "outputs": [
        {
          "output_type": "stream",
          "name": "stdout",
          "text": [
            "Title            8041\n",
            "Author         101694\n",
            "Description     35367\n",
            "URL            100201\n",
            "Category       123067\n",
            "Date            63652\n",
            "True/False       4570\n",
            "dtype: int64\n"
          ]
        }
      ]
    },
    {
      "cell_type": "markdown",
      "source": [
        "# Removing unwanted Columns and Data, and cleaning"
      ],
      "metadata": {
        "id": "psQftzGvYUmX"
      }
    },
    {
      "cell_type": "code",
      "source": [
        "df = df.drop(['Author', 'URL', 'Category'], axis=1)"
      ],
      "metadata": {
        "id": "orN5vFA7DJ3M"
      },
      "execution_count": null,
      "outputs": []
    },
    {
      "cell_type": "code",
      "source": [
        "df = df.dropna(subset=['Title', 'Description'], how='all')"
      ],
      "metadata": {
        "id": "fd6Vf7e7DQ15"
      },
      "execution_count": null,
      "outputs": []
    },
    {
      "cell_type": "code",
      "source": [
        "df['Date'] = df['Date'].fillna('Unknown')"
      ],
      "metadata": {
        "id": "gMzlXEr5Dthz"
      },
      "execution_count": null,
      "outputs": []
    },
    {
      "cell_type": "code",
      "source": [
        "df['Title'] = df['Title'].fillna('Missing')\n",
        "df['Description'] = df['Description'].fillna('Missing')"
      ],
      "metadata": {
        "id": "D2zLntxjEAZM"
      },
      "execution_count": null,
      "outputs": []
    },
    {
      "cell_type": "code",
      "source": [
        "df['True/False'] = df['True/False'].fillna('Unknown')"
      ],
      "metadata": {
        "id": "RlqY-_HbG4V_"
      },
      "execution_count": null,
      "outputs": []
    },
    {
      "cell_type": "code",
      "source": [
        "mapping = {\n",
        "    'TRUE': 'Real',\n",
        "    'Real': 'Real',\n",
        "    'REAL': 'Real',\n",
        "    1: 'Real',\n",
        "    'FALSE': 'Fake',\n",
        "    'Fake': 'Fake',\n",
        "    'FAKE': 'Fake',\n",
        "    0: 'Fake'\n",
        "}\n",
        "df['True/False'] = df['True/False'].map(mapping).fillna('Unknown')\n",
        "print(df['True/False'].unique())"
      ],
      "metadata": {
        "colab": {
          "base_uri": "https://localhost:8080/"
        },
        "id": "EW8mr5iuHrPS",
        "outputId": "ef9caf8d-8e6c-4bf8-e3fe-9cc0824ab5fa"
      },
      "execution_count": null,
      "outputs": [
        {
          "output_type": "stream",
          "name": "stdout",
          "text": [
            "['Real' 'Fake' 'Unknown']\n"
          ]
        }
      ]
    },
    {
      "cell_type": "code",
      "source": [
        "df = df.rename(columns={'True/False': 'Label'})"
      ],
      "metadata": {
        "id": "efsUhR1LH3jE"
      },
      "execution_count": null,
      "outputs": []
    },
    {
      "cell_type": "code",
      "source": [
        "df['Title'] = df['Title'].astype(str)\n",
        "df['Description'] = df['Description'].astype(str)\n",
        "df['text'] = df['Title'] + \" \" + df['Description']\n",
        "df = df.drop(['Title', 'Description'], axis=1)"
      ],
      "metadata": {
        "id": "t6H_i0i9JgTE"
      },
      "execution_count": null,
      "outputs": []
    },
    {
      "cell_type": "code",
      "source": [
        "print(df.head())"
      ],
      "metadata": {
        "colab": {
          "base_uri": "https://localhost:8080/"
        },
        "id": "Nh6x8_vuJlOG",
        "outputId": "c1e9b94b-2f8b-46b5-9fa7-2e8ed4a5829a"
      },
      "execution_count": 31,
      "outputs": [
        {
          "output_type": "stream",
          "name": "stdout",
          "text": [
            "      Date Label                                               text\n",
            "0  Unknown  Real  Teen Mom Star Jenelle Evans' Wedding Dress Is ...\n",
            "1  Unknown  Real  Kylie Jenner refusing to discuss Tyga on Life ...\n",
            "2  Unknown  Real                              Quinn Perkins Missing\n",
            "3  Unknown  Real  I Tried Kim Kardashian's Butt Workout & Am For...\n",
            "4  Unknown  Real  Celine Dion donates concert proceeds to Vegas ...\n"
          ]
        }
      ]
    },
    {
      "cell_type": "code",
      "source": [
        "print(df.isnull().sum())\n",
        "print(f'Total rows: {df.shape[0]}, Total columns: {df.shape[1]}')"
      ],
      "metadata": {
        "colab": {
          "base_uri": "https://localhost:8080/"
        },
        "id": "TxwtWRHxJy1N",
        "outputId": "a533daf3-5487-42c9-eeab-354497c2dd22"
      },
      "execution_count": 33,
      "outputs": [
        {
          "output_type": "stream",
          "name": "stdout",
          "text": [
            "Date     0\n",
            "Label    0\n",
            "text     0\n",
            "dtype: int64\n",
            "Total rows: 116300, Total columns: 3\n"
          ]
        }
      ]
    },
    {
      "cell_type": "code",
      "source": [
        "!pip install openpyxl"
      ],
      "metadata": {
        "colab": {
          "base_uri": "https://localhost:8080/"
        },
        "id": "3QToD7lyKRHY",
        "outputId": "5af2f543-2961-46e2-b111-848c2f7bc40c"
      },
      "execution_count": 34,
      "outputs": [
        {
          "output_type": "stream",
          "name": "stdout",
          "text": [
            "Requirement already satisfied: openpyxl in /usr/local/lib/python3.10/dist-packages (3.1.5)\n",
            "Requirement already satisfied: et-xmlfile in /usr/local/lib/python3.10/dist-packages (from openpyxl) (1.1.0)\n"
          ]
        }
      ]
    },
    {
      "cell_type": "code",
      "source": [
        "df.to_excel('/content/cleaned_fake_news_dataset.xlsx', index=False)"
      ],
      "metadata": {
        "id": "_xcZuBlQKTee"
      },
      "execution_count": 35,
      "outputs": []
    },
    {
      "cell_type": "code",
      "source": [
        "files.download('/content/cleaned_fake_news_dataset.xlsx')"
      ],
      "metadata": {
        "colab": {
          "base_uri": "https://localhost:8080/",
          "height": 17
        },
        "id": "rodKSPxwKjQ4",
        "outputId": "93b443cf-1f6c-428b-d253-fe97c8582d19"
      },
      "execution_count": 36,
      "outputs": [
        {
          "output_type": "display_data",
          "data": {
            "text/plain": [
              "<IPython.core.display.Javascript object>"
            ],
            "application/javascript": [
              "\n",
              "    async function download(id, filename, size) {\n",
              "      if (!google.colab.kernel.accessAllowed) {\n",
              "        return;\n",
              "      }\n",
              "      const div = document.createElement('div');\n",
              "      const label = document.createElement('label');\n",
              "      label.textContent = `Downloading \"${filename}\": `;\n",
              "      div.appendChild(label);\n",
              "      const progress = document.createElement('progress');\n",
              "      progress.max = size;\n",
              "      div.appendChild(progress);\n",
              "      document.body.appendChild(div);\n",
              "\n",
              "      const buffers = [];\n",
              "      let downloaded = 0;\n",
              "\n",
              "      const channel = await google.colab.kernel.comms.open(id);\n",
              "      // Send a message to notify the kernel that we're ready.\n",
              "      channel.send({})\n",
              "\n",
              "      for await (const message of channel.messages) {\n",
              "        // Send a message to notify the kernel that we're ready.\n",
              "        channel.send({})\n",
              "        if (message.buffers) {\n",
              "          for (const buffer of message.buffers) {\n",
              "            buffers.push(buffer);\n",
              "            downloaded += buffer.byteLength;\n",
              "            progress.value = downloaded;\n",
              "          }\n",
              "        }\n",
              "      }\n",
              "      const blob = new Blob(buffers, {type: 'application/binary'});\n",
              "      const a = document.createElement('a');\n",
              "      a.href = window.URL.createObjectURL(blob);\n",
              "      a.download = filename;\n",
              "      div.appendChild(a);\n",
              "      a.click();\n",
              "      div.remove();\n",
              "    }\n",
              "  "
            ]
          },
          "metadata": {}
        },
        {
          "output_type": "display_data",
          "data": {
            "text/plain": [
              "<IPython.core.display.Javascript object>"
            ],
            "application/javascript": [
              "download(\"download_a1b81f11-479c-4b3d-8c76-48b53c23eaae\", \"cleaned_fake_news_dataset.xlsx\", 120167908)"
            ]
          },
          "metadata": {}
        }
      ]
    },
    {
      "cell_type": "code",
      "source": [
        "df = df.drop(['Date'], axis=1)\n",
        "print(df.head())"
      ],
      "metadata": {
        "colab": {
          "base_uri": "https://localhost:8080/"
        },
        "id": "mLqHGqvaMBZr",
        "outputId": "10069bd9-036e-4a78-8888-0b8b3d241895"
      },
      "execution_count": 37,
      "outputs": [
        {
          "output_type": "stream",
          "name": "stdout",
          "text": [
            "  Label                                               text\n",
            "0  Real  Teen Mom Star Jenelle Evans' Wedding Dress Is ...\n",
            "1  Real  Kylie Jenner refusing to discuss Tyga on Life ...\n",
            "2  Real                              Quinn Perkins Missing\n",
            "3  Real  I Tried Kim Kardashian's Butt Workout & Am For...\n",
            "4  Real  Celine Dion donates concert proceeds to Vegas ...\n"
          ]
        }
      ]
    },
    {
      "cell_type": "code",
      "source": [
        "print(df.dtypes)\n",
        "print(df['Label'].value_counts())\n",
        "print(df.describe())"
      ],
      "metadata": {
        "colab": {
          "base_uri": "https://localhost:8080/"
        },
        "id": "4k4Y7JdyMlAg",
        "outputId": "96b9effd-5834-4a1b-c87f-a8f34e1874d0"
      },
      "execution_count": 39,
      "outputs": [
        {
          "output_type": "stream",
          "name": "stdout",
          "text": [
            "Label    object\n",
            "text     object\n",
            "dtype: object\n",
            "Label\n",
            "Fake       58498\n",
            "Real       54226\n",
            "Unknown     3576\n",
            "Name: count, dtype: int64\n",
            "         Label                                               text\n",
            "count   116300                                             116300\n",
            "unique       3                                              94059\n",
            "top       Fake  Highest IPL score in Dubai\\n\\nMilestones to wa...\n",
            "freq     58498                                                 79\n"
          ]
        }
      ]
    },
    {
      "cell_type": "code",
      "source": [
        "df = df[df['Label'] != 'Unknown']"
      ],
      "metadata": {
        "id": "yXL0DKN_M94_"
      },
      "execution_count": 40,
      "outputs": []
    },
    {
      "cell_type": "code",
      "source": [
        "print(df.dtypes)\n",
        "print(df['Label'].value_counts())\n",
        "print(df.describe())"
      ],
      "metadata": {
        "colab": {
          "base_uri": "https://localhost:8080/"
        },
        "id": "kLijeDYiNA5_",
        "outputId": "3641a9ac-ce9e-4f5f-8d48-6d0a3627f1ee"
      },
      "execution_count": 41,
      "outputs": [
        {
          "output_type": "stream",
          "name": "stdout",
          "text": [
            "Label    object\n",
            "text     object\n",
            "dtype: object\n",
            "Label\n",
            "Fake    58498\n",
            "Real    54226\n",
            "Name: count, dtype: int64\n",
            "         Label                                               text\n",
            "count   112724                                             112724\n",
            "unique       2                                              90779\n",
            "top       Fake  Highest IPL score in Dubai\\n\\nMilestones to wa...\n",
            "freq     58498                                                 79\n"
          ]
        }
      ]
    },
    {
      "cell_type": "code",
      "source": [
        "import matplotlib.pyplot as plt\n",
        "label_counts = df['Label'].value_counts()\n",
        "label_ratios = label_counts / label_counts.sum()\n",
        "\n",
        "plt.figure(figsize=(10, 6))\n",
        "bars = plt.bar(label_counts.index, label_counts.values, color='skyblue')\n",
        "\n",
        "plt.title('Distribution of Labels')\n",
        "plt.xlabel('Label')\n",
        "plt.ylabel('Count')\n",
        "\n",
        "for bar in bars:\n",
        "    height = bar.get_height()\n",
        "    label = bar.get_x() + bar.get_width() / 2\n",
        "    ratio = label_ratios[label_counts.index[int(label)]]\n",
        "    plt.text(bar.get_x() + bar.get_width() / 2, height, f'{height} ({ratio:.2%})',\n",
        "             ha='center', va='bottom')\n",
        "\n",
        "plt.show()\n"
      ],
      "metadata": {
        "colab": {
          "base_uri": "https://localhost:8080/",
          "height": 564
        },
        "id": "SRwNJyWnV_B0",
        "outputId": "13627b68-b73c-461f-9141-3516710101c6"
      },
      "execution_count": 57,
      "outputs": [
        {
          "output_type": "display_data",
          "data": {
            "text/plain": [
              "<Figure size 1000x600 with 1 Axes>"
            ],
            "image/png": "[encoded data removed]"
          },
          "metadata": {}
        }
      ]
    },
    {
      "cell_type": "markdown",
      "source": [
        "# Data Preprocessing"
      ],
      "metadata": {
        "id": "4eMYrgGqYn4t"
      }
    },
    {
      "cell_type": "code",
      "source": [
        "df.loc[:, 'text'] = df['text'].str.lower()"
      ],
      "metadata": {
        "id": "ufvxXuu7NPTe"
      },
      "execution_count": 43,
      "outputs": []
    },
    {
      "cell_type": "code",
      "source": [
        "df.loc[:, 'text'] = df['text'].str.replace(r'[^\\w\\s]', '', regex=True)"
      ],
      "metadata": {
        "id": "G22Ee3ufNqW2"
      },
      "execution_count": 44,
      "outputs": []
    },
    {
      "cell_type": "code",
      "source": [
        "df.loc[:, 'text'] = df['text'].str.replace(r'\\d+', '', regex=True)"
      ],
      "metadata": {
        "id": "EmxpuhrgNvrD"
      },
      "execution_count": 45,
      "outputs": []
    },
    {
      "cell_type": "code",
      "source": [
        "print(df['text'].head())"
      ],
      "metadata": {
        "colab": {
          "base_uri": "https://localhost:8080/"
        },
        "id": "tMN9HLBKN4Fd",
        "outputId": "e613ccff-d114-457c-d63d-f604839daec7"
      },
      "execution_count": 46,
      "outputs": [
        {
          "output_type": "stream",
          "name": "stdout",
          "text": [
            "0    teen mom star jenelle evans wedding dress is a...\n",
            "1    kylie jenner refusing to discuss tyga on life ...\n",
            "2                                quinn perkins missing\n",
            "3    i tried kim kardashians butt workout  am forev...\n",
            "4    celine dion donates concert proceeds to vegas ...\n",
            "Name: text, dtype: object\n"
          ]
        }
      ]
    },
    {
      "cell_type": "code",
      "source": [
        "import pandas as pd\n",
        "from nltk.tokenize import word_tokenize\n",
        "\n",
        "df.loc[:, 'tokens'] = df['text'].apply(word_tokenize)\n",
        "\n",
        "print(df[['text', 'tokens']].head())"
      ],
      "metadata": {
        "colab": {
          "base_uri": "https://localhost:8080/"
        },
        "id": "molnF0WYOA7c",
        "outputId": "550be487-6d91-4277-853f-2a6f78b74262"
      },
      "execution_count": 48,
      "outputs": [
        {
          "output_type": "stream",
          "name": "stdout",
          "text": [
            "                                                text  \\\n",
            "0  teen mom star jenelle evans wedding dress is a...   \n",
            "1  kylie jenner refusing to discuss tyga on life ...   \n",
            "2                              quinn perkins missing   \n",
            "3  i tried kim kardashians butt workout  am forev...   \n",
            "4  celine dion donates concert proceeds to vegas ...   \n",
            "\n",
            "                                              tokens  \n",
            "0  [teen, mom, star, jenelle, evans, wedding, dre...  \n",
            "1  [kylie, jenner, refusing, to, discuss, tyga, o...  \n",
            "2                          [quinn, perkins, missing]  \n",
            "3  [i, tried, kim, kardashians, butt, workout, am...  \n",
            "4  [celine, dion, donates, concert, proceeds, to,...  \n"
          ]
        }
      ]
    },
    {
      "cell_type": "code",
      "source": [
        "import nltk\n",
        "from nltk.corpus import stopwords\n",
        "\n",
        "nltk.download('stopwords')\n",
        "\n",
        "stop_words = set(stopwords.words('english'))\n",
        "\n",
        "df.loc[:, 'tokens'] = df['tokens'].apply(lambda x: [word for word in x if word not in stop_words])\n"
      ],
      "metadata": {
        "colab": {
          "base_uri": "https://localhost:8080/"
        },
        "id": "SEK04zavQLHH",
        "outputId": "7ed1d923-edb4-402b-a64a-87c144adf297"
      },
      "execution_count": 50,
      "outputs": [
        {
          "output_type": "stream",
          "name": "stderr",
          "text": [
            "[nltk_data] Downloading package stopwords to /root/nltk_data...\n",
            "[nltk_data]   Package stopwords is already up-to-date!\n"
          ]
        }
      ]
    },
    {
      "cell_type": "code",
      "source": [
        "from nltk.stem import WordNetLemmatizer\n",
        "nltk.download('wordnet')\n",
        "\n",
        "lemmatizer = WordNetLemmatizer()\n",
        "\n",
        "df.loc[:, 'tokens'] = df['tokens'].apply(lambda x: [lemmatizer.lemmatize(word) for word in x])"
      ],
      "metadata": {
        "colab": {
          "base_uri": "https://localhost:8080/"
        },
        "id": "mXy_pflFQozc",
        "outputId": "36bf7c3a-70a6-4114-90f2-dd2ee06070dc"
      },
      "execution_count": 52,
      "outputs": [
        {
          "output_type": "stream",
          "name": "stderr",
          "text": [
            "[nltk_data] Downloading package wordnet to /root/nltk_data...\n",
            "[nltk_data]   Package wordnet is already up-to-date!\n"
          ]
        }
      ]
    },
    {
      "cell_type": "code",
      "source": [
        "from nltk.stem import PorterStemmer\n",
        "import nltk\n",
        "\n",
        "nltk.download('punkt')\n",
        "\n",
        "stemmer = PorterStemmer()\n",
        "\n",
        "df.loc[:, 'tokens'] = df['tokens'].apply(lambda x: [stemmer.stem(word) for word in x])"
      ],
      "metadata": {
        "colab": {
          "base_uri": "https://localhost:8080/"
        },
        "id": "sUHV5K6mSazf",
        "outputId": "45c77ab4-97ed-404a-fc8a-17f32558cf3c"
      },
      "execution_count": 53,
      "outputs": [
        {
          "output_type": "stream",
          "name": "stderr",
          "text": [
            "[nltk_data] Downloading package punkt to /root/nltk_data...\n",
            "[nltk_data]   Package punkt is already up-to-date!\n"
          ]
        }
      ]
    },
    {
      "cell_type": "code",
      "source": [
        "print(df.head())"
      ],
      "metadata": {
        "colab": {
          "base_uri": "https://localhost:8080/"
        },
        "id": "4yaX0WHzVthR",
        "outputId": "9128350b-38cd-4687-f8d9-beea32c6ba95"
      },
      "execution_count": 55,
      "outputs": [
        {
          "output_type": "stream",
          "name": "stdout",
          "text": [
            "  Label                                               text  \\\n",
            "0  Real  teen mom star jenelle evans wedding dress is a...   \n",
            "1  Real  kylie jenner refusing to discuss tyga on life ...   \n",
            "2  Real                              quinn perkins missing   \n",
            "3  Real  i tried kim kardashians butt workout  am forev...   \n",
            "4  Real  celine dion donates concert proceeds to vegas ...   \n",
            "\n",
            "                                              tokens  \n",
            "0  [teen, mom, star, jenel, evan, wed, dress, ava...  \n",
            "1  [kyli, jenner, refus, discu, tyga, life, kyli,...  \n",
            "2                              [quinn, perkin, miss]  \n",
            "3  [tri, kim, kardashian, butt, workout, forev, c...  \n",
            "4  [celin, dion, donat, concert, proce, vega, sho...  \n"
          ]
        }
      ]
    },
    {
      "cell_type": "code",
      "source": [
        "df.loc[:, 'label'] = df['Label'].map({'Real': 1, 'Fake': 0})\n",
        "\n",
        "y = df['label']\n",
        "print(y.value_counts())\n",
        "total_count = len(df)\n",
        "print(f'Total count of rows in the DataFrame: {total_count}')"
      ],
      "metadata": {
        "colab": {
          "base_uri": "https://localhost:8080/"
        },
        "id": "XiQEdf-cXXiM",
        "outputId": "41b6afd3-6482-4070-95d8-a0d8d27518bb"
      },
      "execution_count": 65,
      "outputs": [
        {
          "output_type": "stream",
          "name": "stdout",
          "text": [
            "label\n",
            "0.0    58498\n",
            "1.0    54226\n",
            "Name: count, dtype: int64\n",
            "Total count of rows in the DataFrame: 112724\n"
          ]
        }
      ]
    }
  ]
}